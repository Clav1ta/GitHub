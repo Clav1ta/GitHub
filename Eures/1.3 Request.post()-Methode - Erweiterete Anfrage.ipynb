{
 "cells": [
  {
   "cell_type": "markdown",
   "metadata": {},
   "source": [
    "# 1.3 Request.post()-Methode - Erweiterete Anfrage"
   ]
  },
  {
   "cell_type": "code",
   "execution_count": 75,
   "metadata": {},
   "outputs": [],
   "source": [
    "import requests\n",
    "import json"
   ]
  },
  {
   "cell_type": "markdown",
   "metadata": {},
   "source": [
    "Curl-Befehl: https://ec.europa.eu/eures/eures-searchengine/page/main#/search"
   ]
  },
  {
   "cell_type": "markdown",
   "metadata": {},
   "source": [
    "curl 'https://ec.europa.eu/eures/eures-searchengine/page/jv-search/search?lang=en&app=2.1.1p1-build-0' -H 'User-Agent: Mozilla/5.0 (Macintosh; Intel Mac OS X 10.13; rv:65.0) Gecko/20100101 Firefox/65.0' -H 'Accept: application/json, text/plain, */*' -H 'Accept-Language: en-US,en;q=0.5' --compressed -H 'Referer: https://ec.europa.eu/eures/eures-searchengine/page/main' -H 'ajax-call: true' -H 'Content-Type: application/json;charset=utf-8' -H 'Connection: keep-alive' -H 'Cookie: cck_read=%22en%22; _pk_id.81.1e93=8242111674440e7c.1549812996.10.1550419047.1550417867.; _pk_ref.81.1e93=%5B%22%22%2C%22%22%2C1550417867%2C%22https%3A%2F%2Fwww.google.com%2F%22%5D; EURES_JVSE_SESSIONID=DsL8GqMCyaEmNh2m92U4YiEN17tlFZkCBoEMYHQguRloy47D64jH!-1540004032; _pk_ses.81.1e93=*; eu_cookie_consent=%7B%22a%22%3A%7B%22document.domain%22%3A%5B%22_gat%22%2C%22_ga%22%2C%22jobVacancy%22%2C%22ISCOLang%22%5D%7D%2C%22r%22%3A%7B%7D%7D; _ga=GA1.2.1678820704.1549813001; escoLanguage=en; _gid=GA1.2.1214651384.1550417867' --data '{\"keywords\":[],\"positionScheduleCodes\":[],\"positionOfferingCodes\":[],\"educationLevelCodes\":[],\"euresFlagCodes\":[],\"nutsCodes\":[\"ch\"],\"notSpecifiedInNutsCodes\":[],\"requiredExperienceCodes\":[],\"solidarityContextCodes\":[],\"otherBenefitsCodes\":[],\"occupationUris\":[],\"includeJobsWithoutBenefits\":false,\"requiredLanguages\":[],\"includeJobsWithoutRequiredLanguages\":false,\"sortSearch\":\"BEST_MATCH\",\"resultsPerPage\":10,\"page\":1,\"sessionId\":\"gpwtad6stmggsm3o29y7mp\"}'"
   ]
  },
  {
   "cell_type": "markdown",
   "metadata": {},
   "source": [
    "Curl-Befehl in Python-Anfrage umwandeln mit https://curl.trillworks.com/"
   ]
  },
  {
   "cell_type": "code",
   "execution_count": 78,
   "metadata": {},
   "outputs": [],
   "source": [
    "cookies = {\n",
    "    'cck_read': '%22en%22',\n",
    "    '_pk_id.81.1e93': '8242111674440e7c.1549812996.10.1550419047.1550417867.',\n",
    "    '_pk_ref.81.1e93': '%5B%22%22%2C%22%22%2C1550417867%2C%22https%3A%2F%2Fwww.google.com%2F%22%5D',\n",
    "    'EURES_JVSE_SESSIONID': 'DsL8GqMCyaEmNh2m92U4YiEN17tlFZkCBoEMYHQguRloy47D64jH!-1540004032',\n",
    "    '_pk_ses.81.1e93': '*',\n",
    "    'eu_cookie_consent': '%7B%22a%22%3A%7B%22document.domain%22%3A%5B%22_gat%22%2C%22_ga%22%2C%22jobVacancy%22%2C%22ISCOLang%22%5D%7D%2C%22r%22%3A%7B%7D%7D',\n",
    "    '_ga': 'GA1.2.1678820704.1549813001',\n",
    "    'escoLanguage': 'en',\n",
    "    '_gid': 'GA1.2.1214651384.1550417867',\n",
    "}\n",
    "\n",
    "headers = {\n",
    "    'User-Agent': 'Mozilla/5.0 (Macintosh; Intel Mac OS X 10.13; rv:65.0) Gecko/20100101 Firefox/65.0',\n",
    "    'Accept': 'application/json, text/plain, */*',\n",
    "    'Accept-Language': 'en-US,en;q=0.5',\n",
    "    'Referer': 'https://ec.europa.eu/eures/eures-searchengine/page/main',\n",
    "    'ajax-call': 'true',\n",
    "    'Content-Type': 'application/json;charset=utf-8',\n",
    "    'Connection': 'keep-alive',\n",
    "}\n",
    "\n",
    "params = (\n",
    "    ('lang', 'en'),\n",
    "    ('app', '2.1.1p1-build-0'),\n",
    ")\n",
    "\n",
    "# data als dictrionary und nicht string ausgeben\n",
    "# false gross schreiben als Bool\n",
    "# \"resultsPerPage\":10 ; page:1  Resultate 0....9\n",
    "# \"resultsPerPage\":10 ; page:2  Resultate 10..19\n",
    "\n",
    "data = {\"keywords\":[],      \n",
    "        \"positionScheduleCodes\":[],\n",
    "        \"positionOfferingCodes\":[],\n",
    "        \"educationLevelCodes\":[],\n",
    "        \"euresFlagCodes\":[],\n",
    "        \"nutsCodes\":[\"ch\"],\n",
    "        \"notSpecifiedInNutsCodes\":[],\n",
    "        \"requiredExperienceCodes\":[],\n",
    "        \"solidarityContextCodes\":[],\n",
    "        \"otherBenefitsCodes\":[],\n",
    "        \"occupationUris\":[],\n",
    "        \"includeJobsWithoutBenefits\":False,\n",
    "        \"requiredLanguages\":[],\n",
    "        \"includeJobsWithoutRequiredLanguages\":False,\n",
    "        \"sortSearch\":\"BEST_MATCH\",\n",
    "        \"resultsPerPage\":10,\n",
    "        \"page\":1,\n",
    "        \"sessionId\":\"gpwtad6stmggsm3o29y7mp\"}\n",
    "\n",
    "# Es braucht eine Anpassung in der request.post()-Anfrage bei data\n",
    "# Dictionary \"data\" muss in einen Json-string verwandelt werden\n",
    "# Link: https://developer.rhino3d.com/guides/rhinopython/python-xml-json/\n",
    "\n",
    "response = requests.post('https://ec.europa.eu/eures/eures-searchengine/page/jv-search/search', headers=headers, params=params, cookies=cookies, data=json.dumps(data))\n"
   ]
  },
  {
   "cell_type": "code",
   "execution_count": 77,
   "metadata": {},
   "outputs": [
    {
     "name": "stdout",
     "output_type": "stream",
     "text": [
      "{\"numberRecords\":4831,\"jvs\":[{\"id\":\"MDgyQ05KQyA5\",\"creationDate\":1547103651000,\"lastModificationDate\":1550419220000,\"title\":\"Conseiller / Conseillère clientèle en assurances\",\"description\":\"Prospection téléphonique <br>Suivi de la clientèle<br>Développement du portefeuille <br>Formation en interne : initiale et en continu <br>Vous disposez d'un excellent relationnel <br>Prospecter, Informer, Analyser les besoins des clients, Conseiller, Fidéliser<br>Techniques vente et profil&nbsp;&nbsp;commercial<br>Négociation commerciale<br>\",\"numberOfPosts\":1,\"locationMap\":{\"CH\":[null]},\"euresFlag\":false,\"jobCategoriesCodes\":[\"http://data.europa.eu/esco/isco/C3321\"],\"employer\":{\"name\":\"PHOENIX MANAGEMENT\",\"website\":null,\"sectorCodes\":[]},\"score\":null},{\"id\":\"MDgyWFJLUSA5\",\"creationDate\":1548745236000,\"lastModificationDate\":1550419219000,\"title\":\"CONSEILLER A LA CLIENTELE (H/F)\",\"description\":\"Analyser la situation globale de vos clients afin de leurs proposer les meilleurs solutions du marché<br>Développement et fidélisation de votre portefeuille clients <br>Participer à des formations continues<br>Votre rayon d'action dans les cantons de Genève, Vaud, Valais<br>Avoir de l'intérêt pour le domaine financier <br>Être motivé, persévérant et dynamique<br>Aimer le challenge<br>Avoir une aisance relationnelle et commerciale <br>Avoir une éthique professionnelle<br>Avoir une capacité d'organisation et un esprit d'initiative<br>Rémunération attractive et évolutive Taux d'activité à définir<br>Possibilité de présenter des certifications fédérales reconnues<br>Évolution de carrière et accès à des postes à responsabilités<br><br>\",\"numberOfPosts\":1,\"locationMap\":{\"CH\":[null]},\"euresFlag\":false,\"jobCategoriesCodes\":[\"http://data.europa.eu/esco/isco/C3321\"],\"employer\":{\"name\":\"MF CONSEIL SARL\",\"website\":null,\"sectorCodes\":[]},\"score\":null},{\"id\":\"MDgyV0xYUyA5\",\"creationDate\":1548662527000,\"lastModificationDate\":1550417428000,\"title\":\"Téléconseiller / Téléconseillère\",\"description\":\"Notre club s'oriente aujourd'hui vers un club de loisirs et le bien-être (livres, multimédia et produits bien-être). <br>Vous intégrez une équipe et serez en charge de conseiller et fidéliser les clients par téléphone. <br>La maitrise du français est indispensable. \",\"numberOfPosts\":1,\"locationMap\":{\"CH\":[null]},\"euresFlag\":false,\"jobCategoriesCodes\":[\"http://data.europa.eu/esco/isco/C5244\"],\"employer\":{\"name\":\"FRANCE LOISIRS SUISSE\",\"website\":null,\"sectorCodes\":[]},\"score\":null},{\"id\":\"MDgzUVZCUSA5\",\"creationDate\":1550053870000,\"lastModificationDate\":1550417428000,\"title\":\"Aide de cuisine plongeur H/F\",\"description\":\"Hôtel familial à la montagne dans le Valais suisse à 2.000 m recherche un/une aide de cuisine plongeur pour assister le cuisinier, ayant une première expérience en saison. Salaire 3470 francs suisse brut (soit 3049 euros brut). Poste nourri/logé. Lieu: 1h de Sion. Démarrage de suite. Envoyer candidature (CV, références, photo) \",\"numberOfPosts\":1,\"locationMap\":{\"CH\":[null]},\"euresFlag\":false,\"jobCategoriesCodes\":[\"http://data.europa.eu/esco/isco/C9412\"],\"employer\":{\"name\":\"hotel du glacier\",\"website\":\"http://www.hotelduglacier.ch\",\"sectorCodes\":[]},\"score\":null},{\"id\":\"MDgxR0pZQiA5\",\"creationDate\":1544693437000,\"lastModificationDate\":1550413816000,\"title\":\"Opérateur régleur-programmeur / Opératrice régleuse-programmeuse sur machines à commande numérique -CN-\",\"description\":\"VOUS ETES RESPONSABLE DE LA QUALITE ET DE LA PRODUCTIVITE SUR PLUSIEURS TOURS AUTOMATIQUES CNC MULTIAXES DE DERNIERE GENERATION <br>CONTROLE VISUEL ET DIMENSIONNEL DES PIECES <br>CHANGEMENT DES OUTILS DE COUPE <br>PARTICIPATION A LA MISE EN TRAIN DES MACHINES <br>ETRE PRET A TRAVAILLER EN 2X8 \",\"numberOfPosts\":1,\"locationMap\":{\"CH\":[null]},\"euresFlag\":false,\"jobCategoriesCodes\":[\"http://data.europa.eu/esco/isco/C7223\"],\"employer\":{\"name\":\"Non renseigné\",\"website\":null,\"sectorCodes\":[]},\"score\":null},{\"id\":\"MDgzSk5RTSA5\",\"creationDate\":1549467071000,\"lastModificationDate\":1550412028000,\"title\":\"Tourneur / Tourneuse sur Commande Numérique -CN-\",\"description\":\"Pour un organisme de recherche international basé en Suisse à Meyrin, nous recherchons un Tourneur CN maitrisant les commandes FANUC. Vous pouvez justifier de plus de 2 années d'expérience dans ce domaine au sein d'un atelier industriel de taille significative. Vous êtes autonomes sur votre poste de travail et disposez des compétences nécessaires pour définir ou ajuster vos programmes à partir d'un plan mécanique.Une expérience de travail sur les prototypes ou les petites séries serait un véritable atout pour le poste.<br><br>Qualifications et expériences techniques requises<br><br>- Connaissance approfondie des techniques de tournage avec systèmes FANUC<br><br>- Complète autonomie requise sur un tour CN avec différents alliages<br><br>- Très bonnes connaissances en programmation de machines-outils (ISO et Conversationnel).<br><br>- Lire et interpréter des plans mécaniques<br><br>- Utilisation des instruments de mesure<br><br>Poste urgent à pourvoir au plus vite\",\"numberOfPosts\":1,\"locationMap\":{\"CH\":[null]},\"euresFlag\":false,\"jobCategoriesCodes\":[\"http://data.europa.eu/esco/isco/C7223\"],\"employer\":{\"name\":\"ALTEAD INDUSTRIES SERVICES\",\"website\":null,\"sectorCodes\":[]},\"score\":null},{\"id\":\"MDgyUUJTRCA5\",\"creationDate\":1548082867000,\"lastModificationDate\":1550412019000,\"title\":\"Mécanicien / Mécanicienne outils à découper et à emboutir\",\"description\":\"Pour un organisme de recherche international basé en Suisse à Meyrin, nous recherchons 4 Mécaniciens Découpe Orbitale. Vous pouvez justifier de plus de 2 années d'expérience dans ce domaine au sein d'un atelier industriel de taille significative, incluant la découpe, l'ajustage et le montage d'ensembles mécaniques de précision. Une expérience dans l'utilisation de machines de découpe orbitale est fortement souhaitée pour le poste.<br><br>Qualifications et expériences techniques requises<br><br>- Bonne connaissance des techniques de travail des métaux (découpe notamment)<br><br>- Connaissances des gammes de fabrication, de la conception et du montage de pièces usinées<br><br>- Lecture et interprétation des plans mécaniques de fabrication et de montage<br><br>- Utilisation des instruments de mesure<br><br>Postes urgents en CDI à pourvoir en Février 2019\",\"numberOfPosts\":4,\"locationMap\":{\"CH\":[null]},\"euresFlag\":false,\"jobCategoriesCodes\":[\"http://data.europa.eu/esco/isco/C7222\"],\"employer\":{\"name\":\"ALTEAD INDUSTRIES SERVICES\",\"website\":\"http://www.altead.com\",\"sectorCodes\":[]},\"score\":null},{\"id\":\"MDgzSk1MRyA5\",\"creationDate\":1549465268000,\"lastModificationDate\":1550412018000,\"title\":\"Fraiseur / Fraiseuse sur Commande Numérique -CN-\",\"description\":\"Pour un organisme de recherche international basé en Suisse à Meyrin, nous recherchons un Technicien spécialisé en Fraisage CN sur systèmes Siemens et Heidenhain. Vous pouvez justifier de plus de 2 années d'expérience dans ce domaine au sein d'un atelier industriel de taille significative.<br><br>Qualifications et expériences techniques requises<br><br>- Bonne Connaissance de la conception mécanique et des techniques d'usinage CN (fraisage)<br><br>- Autonomie requise en usinage sur différents alliages<br><br>- Bonnes connaissances en programmation de machines-outils (programmation de formes 3D complexes,ISO et Conversationnel).<br><br>- Connaissances des gammes de fabrication, de la conception et du montage de pièces usinées<br><br>- Connaissances des interfaces systèmes CAD et programmation sur CN Siemens et Heidenhain.<br><br>- Lire et interpréter des plans mécaniques (maitrise de la cotation ISO)<br><br>- Utilisation des instruments de mesure\",\"numberOfPosts\":1,\"locationMap\":{\"CH\":[null]},\"euresFlag\":false,\"jobCategoriesCodes\":[\"http://data.europa.eu/esco/isco/C7223\"],\"employer\":{\"name\":\"ALTEAD INDUSTRIES SERVICES\",\"website\":null,\"sectorCodes\":[]},\"score\":null},{\"id\":\"MDgzQ0xSUSA5\",\"creationDate\":1549008106000,\"lastModificationDate\":1550404830000,\"title\":\"OPERATEUR MACHINE A INJECTION  (H/F)\",\"description\":\"Plasturgie - Injection Gestion de production Industrialisation. Essais et mise au point Production. Mécanique et Maintenance Diplôme de technicien Supérieur mise en œuvre des matières plastiques et maintenance industrielle. Diplôme de technicien mise en œuvre des matières plastiques et mécanique générale. Rôle Technique : Analyse des choix techniques sur les projets. Analyse des besoins en validations techniques. Rédaction de cahiers des charges matériels et outillages. Optimisation des moyens de production Optimisation de la productivité (production haute cadence). Mise en place des plannings (production, maintenance, personnel) Calculs des besoins, ordonnancement, lancement. Gestion de l'énergie et respect de l'environnement. Mise au point outillages neufs et process. Surveillance des process. Démarrage et réglages des lignes de montages Démarrages des productions et réglages en injection. Validation et mise au point des nouveaux procès.&nbsp;&nbsp;\",\"numberOfPosts\":1,\"locationMap\":{\"CH\":[null]},\"euresFlag\":false,\"jobCategoriesCodes\":[\"http://data.europa.eu/esco/isco/C8142\"],\"employer\":{\"name\":\"ncm management\",\"website\":null,\"sectorCodes\":[]},\"score\":null},{\"id\":\"MDgzUk5YUyA5\",\"creationDate\":1550129481000,\"lastModificationDate\":1550404828000,\"title\":\"CHEF DU SERVICE NETTOYAGE \",\"description\":\"Vous êtes au bénéfice d'une solide expérience dans le domaine du nettoyage et disposez de bonnes connaissances dans les outils et techniques liés à ce domaine en milieu industriel<br>Expérience confirmée en Management et Gestion d'équipe dans le domaine du nettoyage<br>Maîtrise du français (anglais un atout)<br>Permis de conduire valable<br>Bonnes connaissances de la suite office.<br>Vos missions :<br>- Développement et gestion du portefeuille client.<br>- Gestion et suivi des offres commerciales.<br>- Gestion et coordination des équipes de nettoyage, organisées sur différents sites, plannings du personnel et remplacements.<br>- Assurer la mise à disposition du matériel et des outils de travail (gestion du stock, commandes fournisseurs).<br>- Suivi des formations initiales et continue des collaborateurs. <br><br><br>\",\"numberOfPosts\":1,\"locationMap\":{\"CH\":[null]},\"euresFlag\":false,\"jobCategoriesCodes\":[\"http://data.europa.eu/esco/isco/C5151\"],\"employer\":{\"name\":\"AREA TECH SARL\",\"website\":null,\"sectorCodes\":[]},\"score\":null}],\"facets\":{\"REQUIRED_EXPERIENCE\":{\"facetEntriesList\":[{\"code\":\"more_than_5_years\",\"count\":2,\"childrenList\":[]},{\"code\":\"NS\",\"count\":4700,\"childrenList\":[]},{\"code\":\"between_2_and_5_years\",\"count\":49,\"childrenList\":[]},{\"code\":\"between_1_and_2_years\",\"count\":44,\"childrenList\":[]},{\"code\":\"none_required\",\"count\":1,\"childrenList\":[]},{\"code\":\"up_to_1_year\",\"count\":35,\"childrenList\":[]}]},\"EDUCATION_LEVEL\":{\"facetEntriesList\":[{\"code\":\"0\",\"count\":1,\"childrenList\":[]},{\"code\":\"1\",\"count\":0,\"childrenList\":[]},{\"code\":\"2\",\"count\":0,\"childrenList\":[]},{\"code\":\"3\",\"count\":0,\"childrenList\":[]},{\"code\":\"4\",\"count\":0,\"childrenList\":[]},{\"code\":\"5\",\"count\":0,\"childrenList\":[]},{\"code\":\"NS\",\"count\":4829,\"childrenList\":[]},{\"code\":\"6\",\"count\":0,\"childrenList\":[]},{\"code\":\"7\",\"count\":1,\"childrenList\":[]},{\"code\":\"8\",\"count\":0,\"childrenList\":[]}]},\"POSITION_LOCATION\":{\"facetEntriesList\":[{\"code\":\"no\",\"count\":20642,\"childrenList\":[{\"code\":\"NS\",\"count\":1797,\"childrenList\":[]},{\"code\":\"no0\",\"count\":18845,\"childrenList\":[]}]},{\"code\":\"de\",\"count\":1148522,\"childrenList\":[{\"code\":\"deb\",\"count\":0,\"childrenList\":[]},{\"code\":\"dea\",\"count\":0,\"childrenList\":[]},{\"code\":\"ded\",\"count\":0,\"childrenList\":[]},{\"code\":\"dec\",\"count\":0,\"childrenList\":[]},{\"code\":\"def\",\"count\":0,\"childrenList\":[]},{\"code\":\"dee\",\"count\":0,\"childrenList\":[]},{\"code\":\"NS\",\"count\":1148521,\"childrenList\":[]},{\"code\":\"deg\",\"count\":0,\"childrenList\":[]},{\"code\":\"de2\",\"count\":0,\"childrenList\":[]},{\"code\":\"de1\",\"count\":0,\"childrenList\":[]},{\"code\":\"de4\",\"count\":0,\"childrenList\":[]},{\"code\":\"de3\",\"count\":0,\"childrenList\":[]},{\"code\":\"de6\",\"count\":0,\"childrenList\":[]},{\"code\":\"de5\",\"count\":0,\"childrenList\":[]},{\"code\":\"de8\",\"count\":0,\"childrenList\":[]},{\"code\":\"de7\",\"count\":0,\"childrenList\":[]},{\"code\":\"dez\",\"count\":0,\"childrenList\":[]},{\"code\":\"de9\",\"count\":1,\"childrenList\":[]}]},{\"code\":\"be\",\"count\":225130,\"childrenList\":[{\"code\":\"be3\",\"count\":130,\"childrenList\":[]},{\"code\":\"NS\",\"count\":213740,\"childrenList\":[]},{\"code\":\"bez\",\"count\":0,\"childrenList\":[]},{\"code\":\"be2\",\"count\":11260,\"childrenList\":[]},{\"code\":\"be1\",\"count\":0,\"childrenList\":[]}]},{\"code\":\"fi\",\"count\":25162,\"childrenList\":[{\"code\":\"fi197\",\"count\":0,\"childrenList\":[]},{\"code\":\"fi200\",\"count\":0,\"childrenList\":[]},{\"code\":\"fi194\",\"count\":0,\"childrenList\":[]},{\"code\":\"NS\",\"count\":25162,\"childrenList\":[]},{\"code\":\"fi193\",\"count\":0,\"childrenList\":[]},{\"code\":\"fi196\",\"count\":0,\"childrenList\":[]},{\"code\":\"fi195\",\"count\":0,\"childrenList\":[]},{\"code\":\"fi1d7\",\"count\":0,\"childrenList\":[]},{\"code\":\"fi1d6\",\"count\":0,\"childrenList\":[]},{\"code\":\"fi1c5\",\"count\":0,\"childrenList\":[]},{\"code\":\"fi1d3\",\"count\":0,\"childrenList\":[]},{\"code\":\"fi1c2\",\"count\":0,\"childrenList\":[]},{\"code\":\"fi1b1\",\"count\":0,\"childrenList\":[]},{\"code\":\"fi1d2\",\"count\":0,\"childrenList\":[]},{\"code\":\"fi1c1\",\"count\":0,\"childrenList\":[]},{\"code\":\"fi1d5\",\"count\":0,\"childrenList\":[]},{\"code\":\"fi1c4\",\"count\":0,\"childrenList\":[]},{\"code\":\"fi1d4\",\"count\":0,\"childrenList\":[]},{\"code\":\"fi1c3\",\"count\":0,\"childrenList\":[]},{\"code\":\"fi1d1\",\"count\":0,\"childrenList\":[]},{\"code\":\"fizzz\",\"count\":0,\"childrenList\":[]}]},{\"code\":\"pt\",\"count\":3411,\"childrenList\":[{\"code\":\"ptzz\",\"count\":0,\"childrenList\":[]},{\"code\":\"pt11\",\"count\":491,\"childrenList\":[]},{\"code\":\"pt30\",\"count\":2,\"childrenList\":[]},{\"code\":\"NS\",\"count\":295,\"childrenList\":[]},{\"code\":\"pt20\",\"count\":0,\"childrenList\":[]},{\"code\":\"pt15\",\"count\":288,\"childrenList\":[]},{\"code\":\"pt16\",\"count\":1139,\"childrenList\":[]},{\"code\":\"pt17\",\"count\":1040,\"childrenList\":[]},{\"code\":\"pt18\",\"count\":156,\"childrenList\":[]}]},{\"code\":\"bg\",\"count\":47941,\"childrenList\":[{\"code\":\"NS\",\"count\":33,\"childrenList\":[]},{\"code\":\"bg34\",\"count\":8056,\"childrenList\":[]},{\"code\":\"bg32\",\"count\":5642,\"childrenList\":[]},{\"code\":\"bgzz\",\"count\":0,\"childrenList\":[]},{\"code\":\"bg33\",\"count\":6775,\"childrenList\":[]},{\"code\":\"bg41\",\"count\":11448,\"childrenList\":[]},{\"code\":\"bg42\",\"count\":10390,\"childrenList\":[]},{\"code\":\"bg31\",\"count\":5597,\"childrenList\":[]}]},{\"code\":\"NS\",\"count\":921,\"childrenList\":[]},{\"code\":\"dk\",\"count\":2104,\"childrenList\":[{\"code\":\"dk05\",\"count\":0,\"childrenList\":[]},{\"code\":\"dk04\",\"count\":0,\"childrenList\":[]},{\"code\":\"dk03\",\"count\":0,\"childrenList\":[]},{\"code\":\"NS\",\"count\":2104,\"childrenList\":[]},{\"code\":\"dk02\",\"count\":0,\"childrenList\":[]},{\"code\":\"dk01\",\"count\":0,\"childrenList\":[]},{\"code\":\"dkzz\",\"count\":0,\"childrenList\":[]}]},{\"code\":\"lt\",\"count\":12347,\"childrenList\":[{\"code\":\"NS\",\"count\":12347,\"childrenList\":[]},{\"code\":\"lt009\",\"count\":0,\"childrenList\":[]},{\"code\":\"lt008\",\"count\":0,\"childrenList\":[]},{\"code\":\"lt007\",\"count\":0,\"childrenList\":[]},{\"code\":\"lt006\",\"count\":0,\"childrenList\":[]},{\"code\":\"ltzzz\",\"count\":0,\"childrenList\":[]},{\"code\":\"lt005\",\"count\":0,\"childrenList\":[]},{\"code\":\"lt004\",\"count\":0,\"childrenList\":[]},{\"code\":\"lt003\",\"count\":0,\"childrenList\":[]},{\"code\":\"lt002\",\"count\":0,\"childrenList\":[]},{\"code\":\"lt00a\",\"count\":0,\"childrenList\":[]},{\"code\":\"lt001\",\"count\":0,\"childrenList\":[]}]},{\"code\":\"lu\",\"count\":1951,\"childrenList\":[{\"code\":\"luz\",\"count\":0,\"childrenList\":[]},{\"code\":\"NS\",\"count\":1951,\"childrenList\":[]},{\"code\":\"lu0\",\"count\":0,\"childrenList\":[]}]},{\"code\":\"hr\",\"count\":48508,\"childrenList\":[{\"code\":\"hr048\",\"count\":0,\"childrenList\":[]},{\"code\":\"hr037\",\"count\":0,\"childrenList\":[]},{\"code\":\"hr049\",\"count\":0,\"childrenList\":[]},{\"code\":\"NS\",\"count\":48508,\"childrenList\":[]},{\"code\":\"hr046\",\"count\":0,\"childrenList\":[]},{\"code\":\"hr035\",\"count\":0,\"childrenList\":[]},{\"code\":\"hr047\",\"count\":0,\"childrenList\":[]},{\"code\":\"hr036\",\"count\":0,\"childrenList\":[]},{\"code\":\"hr044\",\"count\":0,\"childrenList\":[]},{\"code\":\"hr033\",\"count\":0,\"childrenList\":[]},{\"code\":\"hr045\",\"count\":0,\"childrenList\":[]},{\"code\":\"hr034\",\"count\":0,\"childrenList\":[]},{\"code\":\"hr042\",\"count\":0,\"childrenList\":[]},{\"code\":\"hr031\",\"count\":0,\"childrenList\":[]},{\"code\":\"hr043\",\"count\":0,\"childrenList\":[]},{\"code\":\"hr032\",\"count\":0,\"childrenList\":[]},{\"code\":\"hr041\",\"count\":0,\"childrenList\":[]},{\"code\":\"hr04d\",\"count\":0,\"childrenList\":[]},{\"code\":\"hr04e\",\"count\":0,\"childrenList\":[]},{\"code\":\"hr04b\",\"count\":0,\"childrenList\":[]},{\"code\":\"hr04c\",\"count\":0,\"childrenList\":[]},{\"code\":\"hr04a\",\"count\":0,\"childrenList\":[]},{\"code\":\"hrzzz\",\"count\":0,\"childrenList\":[]}]},{\"code\":\"lv\",\"count\":13,\"childrenList\":[{\"code\":\"lv003\",\"count\":0,\"childrenList\":[]},{\"code\":\"lv005\",\"count\":0,\"childrenList\":[]},{\"code\":\"lv006\",\"count\":0,\"childrenList\":[]},{\"code\":\"lv007\",\"count\":0,\"childrenList\":[]},{\"code\":\"NS\",\"count\":13,\"childrenList\":[]},{\"code\":\"lv008\",\"count\":0,\"childrenList\":[]},{\"code\":\"lv009\",\"count\":0,\"childrenList\":[]},{\"code\":\"lvzzz\",\"count\":0,\"childrenList\":[]}]},{\"code\":\"fr\",\"count\":183558,\"childrenList\":[{\"code\":\"NS\",\"count\":1884,\"childrenList\":[]},{\"code\":\"fra1\",\"count\":307,\"childrenList\":[]},{\"code\":\"fra2\",\"count\":337,\"childrenList\":[]},{\"code\":\"fra3\",\"count\":239,\"childrenList\":[]},{\"code\":\"fra4\",\"count\":946,\"childrenList\":[]},{\"code\":\"fr71\",\"count\":23224,\"childrenList\":[]},{\"code\":\"fr72\",\"count\":3298,\"childrenList\":[]},{\"code\":\"fr51\",\"count\":12982,\"childrenList\":[]},{\"code\":\"fr52\",\"count\":9511,\"childrenList\":[]},{\"code\":\"fr30\",\"count\":7234,\"childrenList\":[]},{\"code\":\"fr53\",\"count\":5911,\"childrenList\":[]},{\"code\":\"fr10\",\"count\":24550,\"childrenList\":[]},{\"code\":\"fr26\",\"count\":4809,\"childrenList\":[]},{\"code\":\"fra5\",\"count\":94,\"childrenList\":[]},{\"code\":\"fr81\",\"count\":7714,\"childrenList\":[]},{\"code\":\"fr82\",\"count\":16521,\"childrenList\":[]},{\"code\":\"fr83\",\"count\":1741,\"childrenList\":[]},{\"code\":\"fr61\",\"count\":11537,\"childrenList\":[]},{\"code\":\"fr62\",\"count\":10048,\"childrenList\":[]},{\"code\":\"fr63\",\"count\":1730,\"childrenList\":[]},{\"code\":\"fr41\",\"count\":6012,\"childrenList\":[]},{\"code\":\"fr42\",\"count\":5449,\"childrenList\":[]},{\"code\":\"fr43\",\"count\":3276,\"childrenList\":[]},{\"code\":\"fr21\",\"count\":3730,\"childrenList\":[]},{\"code\":\"frzz\",\"count\":0,\"childrenList\":[]},{\"code\":\"fr22\",\"count\":3796,\"childrenList\":[]},{\"code\":\"fr23\",\"count\":4290,\"childrenList\":[]},{\"code\":\"fr24\",\"count\":7589,\"childrenList\":[]},{\"code\":\"fr25\",\"count\":4799,\"childrenList\":[]}]},{\"code\":\"hu\",\"count\":5541,\"childrenList\":[{\"code\":\"NS\",\"count\":5541,\"childrenList\":[]},{\"code\":\"hu31\",\"count\":0,\"childrenList\":[]},{\"code\":\"huzz\",\"count\":0,\"childrenList\":[]},{\"code\":\"hu33\",\"count\":0,\"childrenList\":[]},{\"code\":\"hu22\",\"count\":0,\"childrenList\":[]},{\"code\":\"hu32\",\"count\":0,\"childrenList\":[]},{\"code\":\"hu21\",\"count\":0,\"childrenList\":[]},{\"code\":\"hu10\",\"count\":0,\"childrenList\":[]},{\"code\":\"hu23\",\"count\":0,\"childrenList\":[]}]},{\"code\":\"se\",\"count\":62182,\"childrenList\":[{\"code\":\"se313\",\"count\":1031,\"childrenList\":[]},{\"code\":\"se214\",\"count\":349,\"childrenList\":[]},{\"code\":\"se312\",\"count\":1243,\"childrenList\":[]},{\"code\":\"se224\",\"count\":6156,\"childrenList\":[]},{\"code\":\"se213\",\"count\":1163,\"childrenList\":[]},{\"code\":\"se125\",\"count\":1193,\"childrenList\":[]},{\"code\":\"se322\",\"count\":466,\"childrenList\":[]},{\"code\":\"se311\",\"count\":983,\"childrenList\":[]},{\"code\":\"se212\",\"count\":1077,\"childrenList\":[]},{\"code\":\"se124\",\"count\":1258,\"childrenList\":[]},{\"code\":\"se332\",\"count\":1242,\"childrenList\":[]},{\"code\":\"se321\",\"count\":869,\"childrenList\":[]},{\"code\":\"se211\",\"count\":1954,\"childrenList\":[]},{\"code\":\"se123\",\"count\":2370,\"childrenList\":[]},{\"code\":\"NS\",\"count\":11795,\"childrenList\":[]},{\"code\":\"sezzz\",\"count\":0,\"childrenList\":[]},{\"code\":\"se331\",\"count\":1194,\"childrenList\":[]},{\"code\":\"se232\",\"count\":8618,\"childrenList\":[]},{\"code\":\"se221\",\"count\":585,\"childrenList\":[]},{\"code\":\"se122\",\"count\":1276,\"childrenList\":[]},{\"code\":\"se231\",\"count\":1290,\"childrenList\":[]},{\"code\":\"se121\",\"count\":1850,\"childrenList\":[]},{\"code\":\"se110\",\"count\":14220,\"childrenList\":[]}]},{\"code\":\"uk\",\"count\":42822,\"childrenList\":[{\"code\":\"ukz\",\"count\":0,\"childrenList\":[]},{\"code\":\"NS\",\"count\":42822,\"childrenList\":[]},{\"code\":\"ukc\",\"count\":0,\"childrenList\":[]},{\"code\":\"uke\",\"count\":0,\"childrenList\":[]},{\"code\":\"ukd\",\"count\":0,\"childrenList\":[]},{\"code\":\"ukg\",\"count\":0,\"childrenList\":[]},{\"code\":\"ukf\",\"count\":0,\"childrenList\":[]},{\"code\":\"uki\",\"count\":0,\"childrenList\":[]},{\"code\":\"ukh\",\"count\":0,\"childrenList\":[]},{\"code\":\"ukk\",\"count\":0,\"childrenList\":[]},{\"code\":\"ukj\",\"count\":0,\"childrenList\":[]},{\"code\":\"ukm\",\"count\":0,\"childrenList\":[]},{\"code\":\"ukl\",\"count\":0,\"childrenList\":[]},{\"code\":\"ukn\",\"count\":0,\"childrenList\":[]}]},{\"code\":\"si\",\"count\":2947,\"childrenList\":[{\"code\":\"sizzz\",\"count\":0,\"childrenList\":[]},{\"code\":\"NS\",\"count\":2947,\"childrenList\":[]},{\"code\":\"si041\",\"count\":0,\"childrenList\":[]},{\"code\":\"si036\",\"count\":0,\"childrenList\":[]},{\"code\":\"si035\",\"count\":0,\"childrenList\":[]},{\"code\":\"si038\",\"count\":0,\"childrenList\":[]},{\"code\":\"si037\",\"count\":0,\"childrenList\":[]},{\"code\":\"si043\",\"count\":0,\"childrenList\":[]},{\"code\":\"si032\",\"count\":0,\"childrenList\":[]},{\"code\":\"si042\",\"count\":0,\"childrenList\":[]},{\"code\":\"si031\",\"count\":0,\"childrenList\":[]},{\"code\":\"si034\",\"count\":0,\"childrenList\":[]},{\"code\":\"si044\",\"count\":0,\"childrenList\":[]},{\"code\":\"si033\",\"count\":0,\"childrenList\":[]}]},{\"code\":\"sk\",\"count\":17122,\"childrenList\":[{\"code\":\"NS\",\"count\":55,\"childrenList\":[]},{\"code\":\"sk04\",\"count\":3210,\"childrenList\":[]},{\"code\":\"sk01\",\"count\":3872,\"childrenList\":[]},{\"code\":\"skzz\",\"count\":0,\"childrenList\":[]},{\"code\":\"sk03\",\"count\":4071,\"childrenList\":[]},{\"code\":\"sk02\",\"count\":5914,\"childrenList\":[]}]},{\"code\":\"ie\",\"count\":1367,\"childrenList\":[{\"code\":\"ie024\",\"count\":0,\"childrenList\":[]},{\"code\":\"ie013\",\"count\":0,\"childrenList\":[]},{\"code\":\"ie025\",\"count\":0,\"childrenList\":[]},{\"code\":\"ie022\",\"count\":0,\"childrenList\":[]},{\"code\":\"ie011\",\"count\":0,\"childrenList\":[]},{\"code\":\"ie023\",\"count\":0,\"childrenList\":[]},{\"code\":\"ie012\",\"count\":0,\"childrenList\":[]},{\"code\":\"ie021\",\"count\":0,\"childrenList\":[]},{\"code\":\"NS\",\"count\":1367,\"childrenList\":[]},{\"code\":\"iezzz\",\"count\":0,\"childrenList\":[]}]},{\"code\":\"ee\",\"count\":1746,\"childrenList\":[{\"code\":\"eezzz\",\"count\":0,\"childrenList\":[]},{\"code\":\"ee008\",\"count\":0,\"childrenList\":[]},{\"code\":\"NS\",\"count\":1746,\"childrenList\":[]},{\"code\":\"ee004\",\"count\":0,\"childrenList\":[]},{\"code\":\"ee007\",\"count\":0,\"childrenList\":[]},{\"code\":\"ee006\",\"count\":0,\"childrenList\":[]},{\"code\":\"ee001\",\"count\":0,\"childrenList\":[]}]},{\"code\":\"ch\",\"count\":4831,\"childrenList\":[{\"code\":\"ch07\",\"count\":0,\"childrenList\":[]},{\"code\":\"ch05\",\"count\":0,\"childrenList\":[]},{\"code\":\"ch06\",\"count\":0,\"childrenList\":[]},{\"code\":\"NS\",\"count\":4831,\"childrenList\":[]},{\"code\":\"ch03\",\"count\":0,\"childrenList\":[]},{\"code\":\"ch04\",\"count\":0,\"childrenList\":[]},{\"code\":\"ch01\",\"count\":0,\"childrenList\":[]},{\"code\":\"ch02\",\"count\":0,\"childrenList\":[]}]},{\"code\":\"el\",\"count\":2857,\"childrenList\":[{\"code\":\"NS\",\"count\":46,\"childrenList\":[]},{\"code\":\"elzz\",\"count\":0,\"childrenList\":[]},{\"code\":\"el65\",\"count\":143,\"childrenList\":[]},{\"code\":\"el54\",\"count\":128,\"childrenList\":[]},{\"code\":\"el43\",\"count\":174,\"childrenList\":[]},{\"code\":\"el64\",\"count\":147,\"childrenList\":[]},{\"code\":\"el53\",\"count\":92,\"childrenList\":[]},{\"code\":\"el42\",\"count\":43,\"childrenList\":[]},{\"code\":\"el63\",\"count\":317,\"childrenList\":[]},{\"code\":\"el52\",\"count\":440,\"childrenList\":[]},{\"code\":\"el41\",\"count\":84,\"childrenList\":[]},{\"code\":\"el30\",\"count\":698,\"childrenList\":[]},{\"code\":\"el62\",\"count\":127,\"childrenList\":[]},{\"code\":\"el51\",\"count\":142,\"childrenList\":[]},{\"code\":\"el61\",\"count\":276,\"childrenList\":[]}]},{\"code\":\"mt\",\"count\":499,\"childrenList\":[{\"code\":\"mtzzz\",\"count\":0,\"childrenList\":[]},{\"code\":\"NS\",\"count\":49,\"childrenList\":[]},{\"code\":\"mt002\",\"count\":55,\"childrenList\":[]},{\"code\":\"mt001\",\"count\":395,\"childrenList\":[]}]},{\"code\":\"is\",\"count\":43,\"childrenList\":[{\"code\":\"NS\",\"count\":43,\"childrenList\":[]},{\"code\":\"is0\",\"count\":0,\"childrenList\":[]}]},{\"code\":\"it\",\"count\":517,\"childrenList\":[{\"code\":\"iti1\",\"count\":0,\"childrenList\":[]},{\"code\":\"iti3\",\"count\":0,\"childrenList\":[]},{\"code\":\"ith2\",\"count\":0,\"childrenList\":[]},{\"code\":\"itg1\",\"count\":0,\"childrenList\":[]},{\"code\":\"iti2\",\"count\":0,\"childrenList\":[]},{\"code\":\"ith1\",\"count\":0,\"childrenList\":[]},{\"code\":\"NS\",\"count\":517,\"childrenList\":[]},{\"code\":\"ith4\",\"count\":0,\"childrenList\":[]},{\"code\":\"itf2\",\"count\":0,\"childrenList\":[]},{\"code\":\"iti4\",\"count\":0,\"childrenList\":[]},{\"code\":\"ith3\",\"count\":0,\"childrenList\":[]},{\"code\":\"itg2\",\"count\":0,\"childrenList\":[]},{\"code\":\"itf1\",\"count\":0,\"childrenList\":[]},{\"code\":\"itf4\",\"count\":0,\"childrenList\":[]},{\"code\":\"itc1\",\"count\":0,\"childrenList\":[]},{\"code\":\"ith5\",\"count\":0,\"childrenList\":[]},{\"code\":\"itf3\",\"count\":0,\"childrenList\":[]},{\"code\":\"itf6\",\"count\":0,\"childrenList\":[]},{\"code\":\"itc3\",\"count\":0,\"childrenList\":[]},{\"code\":\"itf5\",\"count\":0,\"childrenList\":[]},{\"code\":\"itc2\",\"count\":0,\"childrenList\":[]},{\"code\":\"itc4\",\"count\":0,\"childrenList\":[]},{\"code\":\"itzz\",\"count\":0,\"childrenList\":[]}]},{\"code\":\"es\",\"count\":83252,\"childrenList\":[{\"code\":\"es23\",\"count\":0,\"childrenList\":[]},{\"code\":\"es12\",\"count\":0,\"childrenList\":[]},{\"code\":\"eszz\",\"count\":0,\"childrenList\":[]},{\"code\":\"es22\",\"count\":0,\"childrenList\":[]},{\"code\":\"es11\",\"count\":0,\"childrenList\":[]},{\"code\":\"es43\",\"count\":0,\"childrenList\":[]},{\"code\":\"es21\",\"count\":0,\"childrenList\":[]},{\"code\":\"es64\",\"count\":0,\"childrenList\":[]},{\"code\":\"es53\",\"count\":0,\"childrenList\":[]},{\"code\":\"es42\",\"count\":0,\"childrenList\":[]},{\"code\":\"es63\",\"count\":0,\"childrenList\":[]},{\"code\":\"es52\",\"count\":0,\"childrenList\":[]},{\"code\":\"es41\",\"count\":0,\"childrenList\":[]},{\"code\":\"es30\",\"count\":0,\"childrenList\":[]},{\"code\":\"es62\",\"count\":0,\"childrenList\":[]},{\"code\":\"es51\",\"count\":0,\"childrenList\":[]},{\"code\":\"NS\",\"count\":83252,\"childrenList\":[]},{\"code\":\"es61\",\"count\":0,\"childrenList\":[]},{\"code\":\"es70\",\"count\":0,\"childrenList\":[]},{\"code\":\"es24\",\"count\":0,\"childrenList\":[]},{\"code\":\"es13\",\"count\":0,\"childrenList\":[]}]},{\"code\":\"at\",\"count\":66879,\"childrenList\":[{\"code\":\"NS\",\"count\":14691,\"childrenList\":[]},{\"code\":\"at13\",\"count\":0,\"childrenList\":[]},{\"code\":\"at34\",\"count\":3010,\"childrenList\":[]},{\"code\":\"at12\",\"count\":9052,\"childrenList\":[]},{\"code\":\"at31\",\"count\":15254,\"childrenList\":[]},{\"code\":\"atzz\",\"count\":0,\"childrenList\":[]},{\"code\":\"at33\",\"count\":5536,\"childrenList\":[]},{\"code\":\"at22\",\"count\":8640,\"childrenList\":[]},{\"code\":\"at11\",\"count\":1165,\"childrenList\":[]},{\"code\":\"at32\",\"count\":5459,\"childrenList\":[]},{\"code\":\"at21\",\"count\":4072,\"childrenList\":[]}]},{\"code\":\"cy\",\"count\":2048,\"childrenList\":[{\"code\":\"cyz\",\"count\":0,\"childrenList\":[]},{\"code\":\"NS\",\"count\":33,\"childrenList\":[]},{\"code\":\"cy0\",\"count\":2015,\"childrenList\":[]}]},{\"code\":\"cz\",\"count\":79708,\"childrenList\":[{\"code\":\"NS\",\"count\":4211,\"childrenList\":[]},{\"code\":\"czzzz\",\"count\":0,\"childrenList\":[]},{\"code\":\"cz032\",\"count\":4965,\"childrenList\":[]},{\"code\":\"cz010\",\"count\":18593,\"childrenList\":[]},{\"code\":\"cz071\",\"count\":3647,\"childrenList\":[]},{\"code\":\"cz080\",\"count\":5515,\"childrenList\":[]},{\"code\":\"cz064\",\"count\":6073,\"childrenList\":[]},{\"code\":\"cz053\",\"count\":3487,\"childrenList\":[]},{\"code\":\"cz042\",\"count\":3470,\"childrenList\":[]},{\"code\":\"cz031\",\"count\":4978,\"childrenList\":[]},{\"code\":\"cz020\",\"count\":9267,\"childrenList\":[]},{\"code\":\"cz063\",\"count\":2958,\"childrenList\":[]},{\"code\":\"cz052\",\"count\":3209,\"childrenList\":[]},{\"code\":\"cz041\",\"count\":2595,\"childrenList\":[]},{\"code\":\"cz051\",\"count\":3088,\"childrenList\":[]},{\"code\":\"cz072\",\"count\":3652,\"childrenList\":[]}]},{\"code\":\"pl\",\"count\":23932,\"childrenList\":[{\"code\":\"pl61\",\"count\":0,\"childrenList\":[]},{\"code\":\"NS\",\"count\":23932,\"childrenList\":[]},{\"code\":\"plzz\",\"count\":0,\"childrenList\":[]},{\"code\":\"pl33\",\"count\":0,\"childrenList\":[]},{\"code\":\"pl22\",\"count\":0,\"childrenList\":[]},{\"code\":\"pl11\",\"count\":0,\"childrenList\":[]},{\"code\":\"pl34\",\"count\":0,\"childrenList\":[]},{\"code\":\"pl12\",\"count\":0,\"childrenList\":[]},{\"code\":\"pl62\",\"count\":0,\"childrenList\":[]},{\"code\":\"pl51\",\"count\":0,\"childrenList\":[]},{\"code\":\"pl63\",\"count\":0,\"childrenList\":[]},{\"code\":\"pl52\",\"count\":0,\"childrenList\":[]},{\"code\":\"pl41\",\"count\":0,\"childrenList\":[]},{\"code\":\"pl42\",\"count\":0,\"childrenList\":[]},{\"code\":\"pl31\",\"count\":0,\"childrenList\":[]},{\"code\":\"pl43\",\"count\":0,\"childrenList\":[]},{\"code\":\"pl32\",\"count\":0,\"childrenList\":[]},{\"code\":\"pl21\",\"count\":0,\"childrenList\":[]}]},{\"code\":\"ro\",\"count\":26923,\"childrenList\":[{\"code\":\"NS\",\"count\":10,\"childrenList\":[]},{\"code\":\"rozz\",\"count\":0,\"childrenList\":[]},{\"code\":\"ro22\",\"count\":2342,\"childrenList\":[]},{\"code\":\"ro11\",\"count\":3643,\"childrenList\":[]},{\"code\":\"ro32\",\"count\":3744,\"childrenList\":[]},{\"code\":\"ro21\",\"count\":3481,\"childrenList\":[]},{\"code\":\"ro12\",\"count\":3595,\"childrenList\":[]},{\"code\":\"ro42\",\"count\":3168,\"childrenList\":[]},{\"code\":\"ro31\",\"count\":4653,\"childrenList\":[]},{\"code\":\"ro41\",\"count\":2287,\"childrenList\":[]}]},{\"code\":\"li\",\"count\":52,\"childrenList\":[{\"code\":\"li0\",\"count\":0,\"childrenList\":[]},{\"code\":\"NS\",\"count\":52,\"childrenList\":[]}]},{\"code\":\"nl\",\"count\":20975,\"childrenList\":[{\"code\":\"NS\",\"count\":4773,\"childrenList\":[]},{\"code\":\"nl41\",\"count\":2977,\"childrenList\":[]},{\"code\":\"nl34\",\"count\":766,\"childrenList\":[]},{\"code\":\"nl23\",\"count\":271,\"childrenList\":[]},{\"code\":\"nl12\",\"count\":479,\"childrenList\":[]},{\"code\":\"nlzz\",\"count\":0,\"childrenList\":[]},{\"code\":\"nl33\",\"count\":2160,\"childrenList\":[]},{\"code\":\"nl22\",\"count\":2027,\"childrenList\":[]},{\"code\":\"nl11\",\"count\":572,\"childrenList\":[]},{\"code\":\"nl32\",\"count\":2240,\"childrenList\":[]},{\"code\":\"nl21\",\"count\":988,\"childrenList\":[]},{\"code\":\"nl42\",\"count\":2099,\"childrenList\":[]},{\"code\":\"nl31\",\"count\":1043,\"childrenList\":[]},{\"code\":\"nl13\",\"count\":580,\"childrenList\":[]}]}]},\"CONNECTION_POINT_ID\":{\"facetEntriesList\":[{\"code\":\"121\",\"count\":1,\"childrenList\":[]},{\"code\":\"1\",\"count\":2582,\"childrenList\":[]},{\"code\":\"9\",\"count\":149,\"childrenList\":[]},{\"code\":\"61\",\"count\":2085,\"childrenList\":[]},{\"code\":\"261\",\"count\":7,\"childrenList\":[]},{\"code\":\"43\",\"count\":7,\"childrenList\":[]}]},\"SOLIDARITY_CONTEXT\":{\"facetEntriesList\":[{\"code\":\"SOCIAL_WORK\",\"count\":1,\"childrenList\":[]}]},\"EURES_FLAG\":{\"facetEntriesList\":[{\"code\":\"WITHOUT\",\"count\":4821,\"childrenList\":[]},{\"code\":\"WITH\",\"count\":10,\"childrenList\":[]}]},\"POSITION_SCHEDULE\":{\"facetEntriesList\":[{\"code\":\"parttime\",\"count\":170,\"childrenList\":[]},{\"code\":\"flextime\",\"count\":69,\"childrenList\":[]},{\"code\":\"NS\",\"count\":408,\"childrenList\":[]},{\"code\":\"fulltime\",\"count\":4303,\"childrenList\":[]}]},\"POSITION_OFFERING\":{\"facetEntriesList\":[{\"code\":\"recruitmentreserve\",\"count\":0,\"childrenList\":[]},{\"code\":\"temporary\",\"count\":72,\"childrenList\":[]},{\"code\":\"seasonal\",\"count\":4,\"childrenList\":[]},{\"code\":\"NS\",\"count\":2284,\"childrenList\":[]},{\"code\":\"contract\",\"count\":2,\"childrenList\":[]},{\"code\":\"temporarytohire\",\"count\":12,\"childrenList\":[]},{\"code\":\"contracttohire\",\"count\":7,\"childrenList\":[]},{\"code\":\"selfemployed\",\"count\":0,\"childrenList\":[]},{\"code\":\"volunteer\",\"count\":0,\"childrenList\":[]},{\"code\":\"apprenticeship\",\"count\":0,\"childrenList\":[]},{\"code\":\"oncall\",\"count\":0,\"childrenList\":[]},{\"code\":\"directhire\",\"count\":2449,\"childrenList\":[]},{\"code\":\"internship\",\"count\":1,\"childrenList\":[]}]}}}\n"
     ]
    }
   ],
   "source": [
    "print(response.text)"
   ]
  },
  {
   "cell_type": "code",
   "execution_count": 60,
   "metadata": {
    "scrolled": false
   },
   "outputs": [],
   "source": [
    "response.json()"
   ]
  },
  {
   "cell_type": "code",
   "execution_count": 61,
   "metadata": {},
   "outputs": [],
   "source": [
    "text = response.json()"
   ]
  },
  {
   "cell_type": "code",
   "execution_count": 62,
   "metadata": {},
   "outputs": [],
   "source": [
    "content = text['jvs']\n",
    "#print(content)"
   ]
  },
  {
   "cell_type": "code",
   "execution_count": 39,
   "metadata": {},
   "outputs": [
    {
     "data": {
      "text/plain": [
       "{'id': 'MDgyQ05KQyA5',\n",
       " 'creationDate': 1547103651000,\n",
       " 'lastModificationDate': 1550419220000,\n",
       " 'title': 'Conseiller / Conseillère clientèle en assurances',\n",
       " 'description': \"Prospection téléphonique <br>Suivi de la clientèle<br>Développement du portefeuille <br>Formation en interne : initiale et en continu <br>Vous disposez d'un excellent relationnel <br>Prospecter, Informer, Analyser les besoins des clients, Conseiller, Fidéliser<br>Techniques vente et profil&nbsp;&nbsp;commercial<br>Négociation commerciale<br>\",\n",
       " 'numberOfPosts': 1,\n",
       " 'locationMap': {'CH': [None]},\n",
       " 'euresFlag': False,\n",
       " 'jobCategoriesCodes': ['http://data.europa.eu/esco/isco/C3321'],\n",
       " 'employer': {'name': 'PHOENIX MANAGEMENT',\n",
       "  'website': None,\n",
       "  'sectorCodes': []},\n",
       " 'score': None}"
      ]
     },
     "execution_count": 39,
     "metadata": {},
     "output_type": "execute_result"
    }
   ],
   "source": [
    "content[0]"
   ]
  },
  {
   "cell_type": "markdown",
   "metadata": {},
   "source": [
    "Die Keys im Dictionary sollen die Spaltennamen werden. Jedes Inserat wird in eine Zeile abgespeichert."
   ]
  },
  {
   "cell_type": "markdown",
   "metadata": {},
   "source": [
    "### Dictionary als CSV-Datei abspeichern"
   ]
  },
  {
   "cell_type": "markdown",
   "metadata": {},
   "source": [
    "https://www.tutorialspoint.com/How-to-save-a-Python-Dictionary-to-CSV-file"
   ]
  },
  {
   "cell_type": "code",
   "execution_count": 63,
   "metadata": {},
   "outputs": [],
   "source": [
    "import csv\n",
    "\n",
    "csv_columns = ['id','creationDate','lastModificationDate','title', 'description', 'numberOfPosts', 'locationMap',   'euresFlag', 'jobCategoriesCodes', 'employer', 'score']\n",
    "\n",
    "dict_data = content\n",
    "\n",
    "csv_file = \"Data.csv\"\n",
    "try:\n",
    "    with open(csv_file, 'w') as csvfile:\n",
    "        writer = csv.DictWriter(csvfile, fieldnames=csv_columns)\n",
    "        writer.writeheader()\n",
    "        for data in dict_data:\n",
    "            writer.writerow(data)\n",
    "except IOError:\n",
    "    print(\"I/O error\")"
   ]
  }
 ],
 "metadata": {
  "kernelspec": {
   "display_name": "Python 3",
   "language": "python",
   "name": "python3"
  },
  "language_info": {
   "codemirror_mode": {
    "name": "ipython",
    "version": 3
   },
   "file_extension": ".py",
   "mimetype": "text/x-python",
   "name": "python",
   "nbconvert_exporter": "python",
   "pygments_lexer": "ipython3",
   "version": "3.7.0"
  }
 },
 "nbformat": 4,
 "nbformat_minor": 2
}
