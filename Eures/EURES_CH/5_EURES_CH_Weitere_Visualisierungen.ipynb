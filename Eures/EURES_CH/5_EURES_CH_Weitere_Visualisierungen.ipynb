{
 "cells": [
  {
   "cell_type": "markdown",
   "metadata": {},
   "source": [
    "# EURES CH Weitere Visualisierungen"
   ]
  },
  {
   "cell_type": "markdown",
   "metadata": {},
   "source": [
    "<font color='red'>In diesem Notebook werden für bereits bestehende Daten zB vom Bundesamt für Statistik die entsprechenden Grafiken gezeichnet.</font>"
   ]
  },
  {
   "cell_type": "markdown",
   "metadata": {},
   "source": [
    "### Chart 2: Erwerbslosenquote nach Berufsgruppen"
   ]
  },
  {
   "cell_type": "code",
   "execution_count": 54,
   "metadata": {},
   "outputs": [],
   "source": [
    "import pandas as pd\n",
    "%matplotlib inline"
   ]
  },
  {
   "cell_type": "code",
   "execution_count": 55,
   "metadata": {},
   "outputs": [],
   "source": [
    "path = \"BFS_Erwerbslosenquote_Berufsgruppe_ISCO.csv\"\n",
    "\n",
    "with open(path) as f:\n",
    "    dateiinhalt = f.read()\n",
    "\n",
    "df = pd.read_csv(path)"
   ]
  },
  {
   "cell_type": "code",
   "execution_count": 56,
   "metadata": {},
   "outputs": [
    {
     "data": {
      "text/plain": [
       "(9, 2)"
      ]
     },
     "execution_count": 56,
     "metadata": {},
     "output_type": "execute_result"
    }
   ],
   "source": [
    "df.shape"
   ]
  },
  {
   "cell_type": "code",
   "execution_count": 57,
   "metadata": {},
   "outputs": [
    {
     "data": {
      "text/html": [
       "<div>\n",
       "<style scoped>\n",
       "    .dataframe tbody tr th:only-of-type {\n",
       "        vertical-align: middle;\n",
       "    }\n",
       "\n",
       "    .dataframe tbody tr th {\n",
       "        vertical-align: top;\n",
       "    }\n",
       "\n",
       "    .dataframe thead th {\n",
       "        text-align: right;\n",
       "    }\n",
       "</style>\n",
       "<table border=\"1\" class=\"dataframe\">\n",
       "  <thead>\n",
       "    <tr style=\"text-align: right;\">\n",
       "      <th></th>\n",
       "      <th>Berufsgruppe</th>\n",
       "      <th>ELQ</th>\n",
       "    </tr>\n",
       "  </thead>\n",
       "  <tbody>\n",
       "    <tr>\n",
       "      <th>0</th>\n",
       "      <td>Führungskräfte</td>\n",
       "      <td>3.0</td>\n",
       "    </tr>\n",
       "    <tr>\n",
       "      <th>1</th>\n",
       "      <td>Akademische Berufe</td>\n",
       "      <td>2.8</td>\n",
       "    </tr>\n",
       "    <tr>\n",
       "      <th>2</th>\n",
       "      <td>Techniker und gleichrangige Berufe</td>\n",
       "      <td>4.0</td>\n",
       "    </tr>\n",
       "    <tr>\n",
       "      <th>3</th>\n",
       "      <td>Bürokräfte und verwandte Berufe</td>\n",
       "      <td>5.5</td>\n",
       "    </tr>\n",
       "    <tr>\n",
       "      <th>4</th>\n",
       "      <td>Dienstleistungsberufe und Verkäufer</td>\n",
       "      <td>6.0</td>\n",
       "    </tr>\n",
       "    <tr>\n",
       "      <th>5</th>\n",
       "      <td>Fachkräfte in Land- und Forstwirtschaft</td>\n",
       "      <td>1.2</td>\n",
       "    </tr>\n",
       "    <tr>\n",
       "      <th>6</th>\n",
       "      <td>Handwerks- und verwandte Berufe</td>\n",
       "      <td>4.3</td>\n",
       "    </tr>\n",
       "    <tr>\n",
       "      <th>7</th>\n",
       "      <td>Bediener von Anlagen und Maschinen und Montage...</td>\n",
       "      <td>6.0</td>\n",
       "    </tr>\n",
       "    <tr>\n",
       "      <th>8</th>\n",
       "      <td>Hilfsarbeitskräfte</td>\n",
       "      <td>7.0</td>\n",
       "    </tr>\n",
       "  </tbody>\n",
       "</table>\n",
       "</div>"
      ],
      "text/plain": [
       "                                        Berufsgruppe  ELQ\n",
       "0                                     Führungskräfte  3.0\n",
       "1                                 Akademische Berufe  2.8\n",
       "2                 Techniker und gleichrangige Berufe  4.0\n",
       "3                    Bürokräfte und verwandte Berufe  5.5\n",
       "4                Dienstleistungsberufe und Verkäufer  6.0\n",
       "5            Fachkräfte in Land- und Forstwirtschaft  1.2\n",
       "6                    Handwerks- und verwandte Berufe  4.3\n",
       "7  Bediener von Anlagen und Maschinen und Montage...  6.0\n",
       "8                                 Hilfsarbeitskräfte  7.0"
      ]
     },
     "execution_count": 57,
     "metadata": {},
     "output_type": "execute_result"
    }
   ],
   "source": [
    "df"
   ]
  },
  {
   "cell_type": "code",
   "execution_count": 58,
   "metadata": {},
   "outputs": [],
   "source": [
    "df.set_index('Berufsgruppe', inplace=True)"
   ]
  },
  {
   "cell_type": "code",
   "execution_count": 59,
   "metadata": {},
   "outputs": [
    {
     "data": {
      "image/png": "[encoded data removed]",
      "text/plain": [
       "<Figure size 432x288 with 1 Axes>"
      ]
     },
     "metadata": {
      "needs_background": "light"
     },
     "output_type": "display_data"
    }
   ],
   "source": [
    "df_erwerbslosenquote = df['ELQ'].sort_values().plot(kind = 'barh', x='Berufsgruppe', title='Erwerbslosenquote Schweiz 2018')\n",
    "\n",
    "for p in df_erwerbslosenquote.patches:\n",
    "    df_erwerbslosenquote.annotate(str(p.get_width()), (p.get_x() + p.get_width(), p.get_y()), xytext=(5, 3), textcoords='offset points')"
   ]
  },
  {
   "cell_type": "code",
   "execution_count": 60,
   "metadata": {},
   "outputs": [],
   "source": [
    "fig = df_erwerbslosenquote.get_figure()\n",
    "fig.savefig(\"BFS_Erwerbslosenquote.png\", bbox_inches='tight')"
   ]
  },
  {
   "cell_type": "markdown",
   "metadata": {},
   "source": [
    "### Chart 3: Erwerbstätige und Erwerbslose nach Berufsgruppen"
   ]
  },
  {
   "cell_type": "markdown",
   "metadata": {},
   "source": [
    "Zur Berechnung der Erwerbslosenquote wird die  Anzahl  erwerbsloser  Personen  ins  Verhältnis  zur  Anzahl  aller  Erwerbspersonen gesetzt, zB:  \n",
    "\n",
    "Anzahl erwerbslose Handwerker = Erwerbslosenquote Handwerker * Anzahl erwerbstätige Handwerker"
   ]
  },
  {
   "cell_type": "code",
   "execution_count": 19,
   "metadata": {},
   "outputs": [
    {
     "data": {
      "text/plain": [
       "23176.999999999996"
      ]
     },
     "execution_count": 19,
     "metadata": {},
     "output_type": "execute_result"
    }
   ],
   "source": [
    "4.3/100*539000"
   ]
  },
  {
   "cell_type": "markdown",
   "metadata": {},
   "source": [
    "Die Zahl Erwerbstätigen und der Erwerbslosen wurde in einem Excel-Sheet nach obiger Formel berechnet und unter BFS_Erwerbstätige_Erwerbslose_nach_Berufsgruppen_ISCO.csv abgespeichert."
   ]
  },
  {
   "cell_type": "code",
   "execution_count": 79,
   "metadata": {},
   "outputs": [
    {
     "data": {
      "text/html": [
       "<div>\n",
       "<style scoped>\n",
       "    .dataframe tbody tr th:only-of-type {\n",
       "        vertical-align: middle;\n",
       "    }\n",
       "\n",
       "    .dataframe tbody tr th {\n",
       "        vertical-align: top;\n",
       "    }\n",
       "\n",
       "    .dataframe thead th {\n",
       "        text-align: right;\n",
       "    }\n",
       "</style>\n",
       "<table border=\"1\" class=\"dataframe\">\n",
       "  <thead>\n",
       "    <tr style=\"text-align: right;\">\n",
       "      <th></th>\n",
       "      <th>Berufsgruppe</th>\n",
       "      <th>Erwerbstätige</th>\n",
       "      <th>Erwerbslose</th>\n",
       "    </tr>\n",
       "  </thead>\n",
       "  <tbody>\n",
       "    <tr>\n",
       "      <th>0</th>\n",
       "      <td>Führungskräfte</td>\n",
       "      <td>439</td>\n",
       "      <td>13</td>\n",
       "    </tr>\n",
       "    <tr>\n",
       "      <th>1</th>\n",
       "      <td>Akademische Berufe</td>\n",
       "      <td>1184</td>\n",
       "      <td>33</td>\n",
       "    </tr>\n",
       "    <tr>\n",
       "      <th>2</th>\n",
       "      <td>Techniker und gleichrangige Berufe</td>\n",
       "      <td>891</td>\n",
       "      <td>36</td>\n",
       "    </tr>\n",
       "    <tr>\n",
       "      <th>3</th>\n",
       "      <td>Bürokräfte und verwandte Berufe</td>\n",
       "      <td>367</td>\n",
       "      <td>20</td>\n",
       "    </tr>\n",
       "    <tr>\n",
       "      <th>4</th>\n",
       "      <td>Dienstleistungsberufe und Verkäufer</td>\n",
       "      <td>755</td>\n",
       "      <td>45</td>\n",
       "    </tr>\n",
       "    <tr>\n",
       "      <th>5</th>\n",
       "      <td>Fachkräfte in Land- und Forstwirtschaft</td>\n",
       "      <td>127</td>\n",
       "      <td>2</td>\n",
       "    </tr>\n",
       "    <tr>\n",
       "      <th>6</th>\n",
       "      <td>Handwerks- und verwandte Berufe</td>\n",
       "      <td>539</td>\n",
       "      <td>23</td>\n",
       "    </tr>\n",
       "    <tr>\n",
       "      <th>7</th>\n",
       "      <td>Bediener von Anlagen und Maschinen und Montage...</td>\n",
       "      <td>162</td>\n",
       "      <td>20</td>\n",
       "    </tr>\n",
       "    <tr>\n",
       "      <th>8</th>\n",
       "      <td>Hilfsarbeitskräfte</td>\n",
       "      <td>194</td>\n",
       "      <td>14</td>\n",
       "    </tr>\n",
       "  </tbody>\n",
       "</table>\n",
       "</div>"
      ],
      "text/plain": [
       "                                        Berufsgruppe  Erwerbstätige  \\\n",
       "0                                     Führungskräfte            439   \n",
       "1                                 Akademische Berufe           1184   \n",
       "2                 Techniker und gleichrangige Berufe            891   \n",
       "3                    Bürokräfte und verwandte Berufe            367   \n",
       "4                Dienstleistungsberufe und Verkäufer            755   \n",
       "5            Fachkräfte in Land- und Forstwirtschaft            127   \n",
       "6                    Handwerks- und verwandte Berufe            539   \n",
       "7  Bediener von Anlagen und Maschinen und Montage...            162   \n",
       "8                                 Hilfsarbeitskräfte            194   \n",
       "\n",
       "   Erwerbslose  \n",
       "0           13  \n",
       "1           33  \n",
       "2           36  \n",
       "3           20  \n",
       "4           45  \n",
       "5            2  \n",
       "6           23  \n",
       "7           20  \n",
       "8           14  "
      ]
     },
     "execution_count": 79,
     "metadata": {},
     "output_type": "execute_result"
    }
   ],
   "source": [
    "path = \"BFS_Erwerbstätige_Erwerbslose_nach_Berufsgruppen_ISCO.csv\"\n",
    "\n",
    "with open(path) as f:\n",
    "    dateiinhalt = f.read()\n",
    "\n",
    "df = pd.read_csv(path)\n",
    "df"
   ]
  },
  {
   "cell_type": "code",
   "execution_count": null,
   "metadata": {},
   "outputs": [],
   "source": []
  },
  {
   "cell_type": "code",
   "execution_count": 77,
   "metadata": {},
   "outputs": [
    {
     "data": {
      "image/png": "[encoded data removed]",
      "text/plain": [
       "<Figure size 432x288 with 1 Axes>"
      ]
     },
     "metadata": {
      "needs_background": "light"
     },
     "output_type": "display_data"
    }
   ],
   "source": [
    "df_erwerbslose = df.sort_values('Erwerbstätige',ascending=False).plot(kind = 'barh', x='Berufsgruppe', title=\"Erwerbstätige Schweiz 2018 in 1'000\")\n",
    "\n",
    "for p in df_erwerbslose.patches:\n",
    "    df_erwerbslose.annotate(str(p.get_width()), (p.get_x() + p.get_width(), p.get_y()), xytext=(5, 3), textcoords='offset points')"
   ]
  },
  {
   "cell_type": "code",
   "execution_count": 80,
   "metadata": {},
   "outputs": [],
   "source": [
    "fig = df_erwerbslose.get_figure()\n",
    "fig.savefig(\"BFS_Erwerbstätige_Erwerbslose.png\", bbox_inches='tight')"
   ]
  },
  {
   "cell_type": "code",
   "execution_count": null,
   "metadata": {},
   "outputs": [],
   "source": []
  }
 ],
 "metadata": {
  "kernelspec": {
   "display_name": "Python 3",
   "language": "python",
   "name": "python3"
  },
  "language_info": {
   "codemirror_mode": {
    "name": "ipython",
    "version": 3
   },
   "file_extension": ".py",
   "mimetype": "text/x-python",
   "name": "python",
   "nbconvert_exporter": "python",
   "pygments_lexer": "ipython3",
   "version": "3.7.0"
  }
 },
 "nbformat": 4,
 "nbformat_minor": 2
}
