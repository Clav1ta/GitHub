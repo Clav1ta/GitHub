{
 "cells": [
  {
   "cell_type": "markdown",
   "metadata": {},
   "source": [
    "# 2_EURES_CH_Scraper"
   ]
  },
  {
   "cell_type": "markdown",
   "metadata": {},
   "source": [
    "<font color='red'>Dieses Notebook enthält den im Notebook **1_EURES_CH_Entwicklung_Scraper** entwickelte Scraper, angewendet auf alle Jobinserate der Schweizer Firmen. Der Scraper wurde am **17.2.2019** laufen gelassen und das Resultat im File **Data_EURES_CH_17022019.csv** abgespeichert.</font>"
   ]
  },
  {
   "cell_type": "markdown",
   "metadata": {},
   "source": [
    "<font color='red'>**ACHTUNG**: Auch hier muss ein neuer Curl gezogen und die `\"sessionId\":\"gpwtad6stmggsm3o29y7mp\"`aktualisiert werden.</font>"
   ]
  },
  {
   "cell_type": "markdown",
   "metadata": {},
   "source": [
    "Die Hürden zum scrapen der Eures-Webseite sind sehr tief. Bereits beim ersten Versuch konnten alle Jobinserate aufs Mal gezogen wurden. Unter `\"resultsPerPage\":4831, \"page\":1` musste lediglich die Zahl der Stelleninserate (am 17.2.2019 waren dies 4831) eingefügt werden."
   ]
  },
  {
   "cell_type": "markdown",
   "metadata": {},
   "source": [
    "### Schritt 1: Libraries importieren"
   ]
  },
  {
   "cell_type": "code",
   "execution_count": 2,
   "metadata": {},
   "outputs": [],
   "source": [
    "import requests\n",
    "import json"
   ]
  },
  {
   "cell_type": "markdown",
   "metadata": {},
   "source": [
    "### Schritt 2: Request-POST-Anfrage"
   ]
  },
  {
   "cell_type": "code",
   "execution_count": 3,
   "metadata": {},
   "outputs": [],
   "source": [
    "cookies = {\n",
    "    'cck_read': '%22en%22',\n",
    "    '_pk_id.81.1e93': '8242111674440e7c.1549812996.10.1550419047.1550417867.',\n",
    "    '_pk_ref.81.1e93': '%5B%22%22%2C%22%22%2C1550417867%2C%22https%3A%2F%2Fwww.google.com%2F%22%5D',\n",
    "    'EURES_JVSE_SESSIONID': 'DsL8GqMCyaEmNh2m92U4YiEN17tlFZkCBoEMYHQguRloy47D64jH!-1540004032',\n",
    "    '_pk_ses.81.1e93': '*',\n",
    "    'eu_cookie_consent': '%7B%22a%22%3A%7B%22document.domain%22%3A%5B%22_gat%22%2C%22_ga%22%2C%22jobVacancy%22%2C%22ISCOLang%22%5D%7D%2C%22r%22%3A%7B%7D%7D',\n",
    "    '_ga': 'GA1.2.1678820704.1549813001',\n",
    "    'escoLanguage': 'en',\n",
    "    '_gid': 'GA1.2.1214651384.1550417867',\n",
    "}\n",
    "\n",
    "headers = {\n",
    "    'User-Agent': 'Mozilla/5.0 (Macintosh; Intel Mac OS X 10.13; rv:65.0) Gecko/20100101 Firefox/65.0',\n",
    "    'Accept': 'application/json, text/plain, */*',\n",
    "    'Accept-Language': 'en-US,en;q=0.5',\n",
    "    'Referer': 'https://ec.europa.eu/eures/eures-searchengine/page/main',\n",
    "    'ajax-call': 'true',\n",
    "    'Content-Type': 'application/json;charset=utf-8',\n",
    "    'Connection': 'keep-alive',\n",
    "}\n",
    "\n",
    "params = (\n",
    "    ('lang', 'en'),\n",
    "    ('app', '2.1.1p1-build-0'),\n",
    ")\n",
    "\n",
    "# data als dictrionary und nicht string ausgeben\n",
    "# false gross schreiben als Bool\n",
    "# \"resultsPerPage\" auf 4831 setzen, so viele Suchresultate wie es anzeigt\n",
    "# \"resultsPerPage\":10 ; page:1  Resultate 0....9\n",
    "# \"resultsPerPage\":10 ; page:2  Resultate 10..19\n",
    "\n",
    "data = {\"keywords\":[],\n",
    "        \"positionScheduleCodes\":[],\n",
    "        \"positionOfferingCodes\":[],\n",
    "        \"educationLevelCodes\":[],\n",
    "        \"euresFlagCodes\":[],\n",
    "        \"nutsCodes\":[\"ch\"],\n",
    "        \"notSpecifiedInNutsCodes\":[],\n",
    "        \"requiredExperienceCodes\":[],\n",
    "        \"solidarityContextCodes\":[],\n",
    "        \"otherBenefitsCodes\":[],\n",
    "        \"occupationUris\":[],\n",
    "        \"includeJobsWithoutBenefits\":False,\n",
    "        \"requiredLanguages\":[],\n",
    "        \"includeJobsWithoutRequiredLanguages\":False,\n",
    "        \"sortSearch\":\"BEST_MATCH\",\n",
    "        \"resultsPerPage\":4831,\n",
    "        \"page\":1,\n",
    "        \"sessionId\":\"gpwtad6stmggsm3o29y7mp\"}\n",
    "\n",
    "# Es braucht eine Anpassung in der request.post()-Anfrage bei data\n",
    "# Dictionary \"data\" muss in einen Json-string verwandelt werden\n",
    "# Link: https://developer.rhino3d.com/guides/rhinopython/python-xml-json/\n",
    "\n",
    "response = requests.post('https://ec.europa.eu/eures/eures-searchengine/page/jv-search/search', headers=headers, params=params, cookies=cookies, data=json.dumps(data))\n"
   ]
  },
  {
   "cell_type": "markdown",
   "metadata": {},
   "source": [
    "### Schritt 3: Ergebnis als CSV-Datei abspeichern"
   ]
  },
  {
   "cell_type": "code",
   "execution_count": 4,
   "metadata": {},
   "outputs": [],
   "source": [
    "text = response.json()\n",
    "content = text['jvs']"
   ]
  },
  {
   "cell_type": "code",
   "execution_count": 5,
   "metadata": {},
   "outputs": [],
   "source": [
    "import csv\n",
    "\n",
    "csv_columns = ['id','creationDate','lastModificationDate','title', 'description', 'numberOfPosts', 'locationMap',   'euresFlag', 'jobCategoriesCodes', 'employer', 'score']\n",
    "\n",
    "dict_data = content\n",
    "\n",
    "csv_file = \"Data_neu.csv\" \n",
    "try:\n",
    "    with open(csv_file, 'w') as csvfile:\n",
    "        writer = csv.DictWriter(csvfile, fieldnames=csv_columns)\n",
    "        writer.writeheader()\n",
    "        for data in dict_data:\n",
    "            writer.writerow(data)\n",
    "except IOError:\n",
    "    print(\"I/O error\")"
   ]
  },
  {
   "cell_type": "markdown",
   "metadata": {},
   "source": [
    "<font color='red'>Weiter geht es mit dem **Jupyter Notebook: 3_EURES_CH_Daten_klassifizieren**."
   ]
  },
  {
   "cell_type": "code",
   "execution_count": null,
   "metadata": {},
   "outputs": [],
   "source": []
  }
 ],
 "metadata": {
  "kernelspec": {
   "display_name": "Python 3",
   "language": "python",
   "name": "python3"
  },
  "language_info": {
   "codemirror_mode": {
    "name": "ipython",
    "version": 3
   },
   "file_extension": ".py",
   "mimetype": "text/x-python",
   "name": "python",
   "nbconvert_exporter": "python",
   "pygments_lexer": "ipython3",
   "version": "3.7.0"
  }
 },
 "nbformat": 4,
 "nbformat_minor": 2
}
