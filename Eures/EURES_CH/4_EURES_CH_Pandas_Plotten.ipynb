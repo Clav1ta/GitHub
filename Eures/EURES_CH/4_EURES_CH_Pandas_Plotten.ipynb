{
 "cells": [
  {
   "cell_type": "markdown",
   "metadata": {},
   "source": [
    "# 4_EURES_CH_Pandas_Plotten"
   ]
  },
  {
   "cell_type": "markdown",
   "metadata": {},
   "source": [
    "<font color='red'>In diesem Notebook werden die klassifizierten Daten (abgespeichert unter Data_jobCodes10_17022019.csv) mit Hilfe von Pandas visualisiert und als Charts abgespeichert.</font>"
   ]
  },
  {
   "cell_type": "markdown",
   "metadata": {},
   "source": [
    "### Schritt 1: Daten laden"
   ]
  },
  {
   "cell_type": "code",
   "execution_count": 4,
   "metadata": {},
   "outputs": [],
   "source": [
    "import pandas as pd\n",
    "\n",
    "path = \"Data_jobCodes10_17022019.csv\"\n",
    "\n",
    "with open(path) as f:\n",
    "    dateiinhalt = f.read()\n",
    "\n",
    "df_10 = pd.read_csv(path)"
   ]
  },
  {
   "cell_type": "markdown",
   "metadata": {},
   "source": [
    "### Schritt 2: Datenstruktur überpüfen"
   ]
  },
  {
   "cell_type": "code",
   "execution_count": 5,
   "metadata": {},
   "outputs": [
    {
     "data": {
      "text/plain": [
       "(4831, 12)"
      ]
     },
     "execution_count": 5,
     "metadata": {},
     "output_type": "execute_result"
    }
   ],
   "source": [
    "df_10.shape"
   ]
  },
  {
   "cell_type": "code",
   "execution_count": 6,
   "metadata": {},
   "outputs": [
    {
     "data": {
      "text/plain": [
       "id                       object\n",
       "creationDate              int64\n",
       "lastModificationDate      int64\n",
       "title                    object\n",
       "description              object\n",
       "numberOfPosts             int64\n",
       "locationMap              object\n",
       "euresFlag                  bool\n",
       "jobCategoriesCodes       object\n",
       "employer                 object\n",
       "score                   float64\n",
       "jobCodes10                int64\n",
       "dtype: object"
      ]
     },
     "execution_count": 6,
     "metadata": {},
     "output_type": "execute_result"
    }
   ],
   "source": [
    "df_10.dtypes"
   ]
  },
  {
   "cell_type": "code",
   "execution_count": 7,
   "metadata": {},
   "outputs": [
    {
     "data": {
      "text/plain": [
       "1     4052\n",
       "2      132\n",
       "3      170\n",
       "4      150\n",
       "5      208\n",
       "6       14\n",
       "7        8\n",
       "8        9\n",
       "9        3\n",
       "10      70\n",
       "11       2\n",
       "12       4\n",
       "15       5\n",
       "20       1\n",
       "30       2\n",
       "40       1\n",
       "Name: numberOfPosts, dtype: int64"
      ]
     },
     "execution_count": 7,
     "metadata": {},
     "output_type": "execute_result"
    }
   ],
   "source": [
    "df_10['numberOfPosts'].value_counts().sort_index()"
   ]
  },
  {
   "cell_type": "code",
   "execution_count": 8,
   "metadata": {},
   "outputs": [
    {
     "data": {
      "text/plain": [
       "1     161\n",
       "2     920\n",
       "3     737\n",
       "4     136\n",
       "5     269\n",
       "6      91\n",
       "7    2131\n",
       "8     309\n",
       "9      77\n",
       "Name: jobCodes10, dtype: int64"
      ]
     },
     "execution_count": 8,
     "metadata": {},
     "output_type": "execute_result"
    }
   ],
   "source": [
    "df_10['jobCodes10'].value_counts().sort_index()"
   ]
  },
  {
   "cell_type": "markdown",
   "metadata": {},
   "source": [
    "### Schritt 3: Datenauswertung"
   ]
  },
  {
   "cell_type": "code",
   "execution_count": 9,
   "metadata": {},
   "outputs": [
    {
     "data": {
      "text/html": [
       "<div>\n",
       "<style scoped>\n",
       "    .dataframe tbody tr th:only-of-type {\n",
       "        vertical-align: middle;\n",
       "    }\n",
       "\n",
       "    .dataframe tbody tr th {\n",
       "        vertical-align: top;\n",
       "    }\n",
       "\n",
       "    .dataframe thead th {\n",
       "        text-align: right;\n",
       "    }\n",
       "</style>\n",
       "<table border=\"1\" class=\"dataframe\">\n",
       "  <thead>\n",
       "    <tr style=\"text-align: right;\">\n",
       "      <th></th>\n",
       "      <th>creationDate</th>\n",
       "      <th>lastModificationDate</th>\n",
       "      <th>numberOfPosts</th>\n",
       "      <th>euresFlag</th>\n",
       "      <th>score</th>\n",
       "    </tr>\n",
       "    <tr>\n",
       "      <th>jobCodes10</th>\n",
       "      <th></th>\n",
       "      <th></th>\n",
       "      <th></th>\n",
       "      <th></th>\n",
       "      <th></th>\n",
       "    </tr>\n",
       "  </thead>\n",
       "  <tbody>\n",
       "    <tr>\n",
       "      <th>1</th>\n",
       "      <td>249151149902520</td>\n",
       "      <td>249271677785726</td>\n",
       "      <td>181</td>\n",
       "      <td>0.0</td>\n",
       "      <td>0.0</td>\n",
       "    </tr>\n",
       "    <tr>\n",
       "      <th>2</th>\n",
       "      <td>1423545655238310</td>\n",
       "      <td>1424136563680160</td>\n",
       "      <td>1098</td>\n",
       "      <td>0.0</td>\n",
       "      <td>0.0</td>\n",
       "    </tr>\n",
       "    <tr>\n",
       "      <th>3</th>\n",
       "      <td>1139929182762825</td>\n",
       "      <td>1141324938406915</td>\n",
       "      <td>1157</td>\n",
       "      <td>3.0</td>\n",
       "      <td>0.0</td>\n",
       "    </tr>\n",
       "    <tr>\n",
       "      <th>4</th>\n",
       "      <td>210537043927174</td>\n",
       "      <td>210606928497577</td>\n",
       "      <td>145</td>\n",
       "      <td>0.0</td>\n",
       "      <td>0.0</td>\n",
       "    </tr>\n",
       "    <tr>\n",
       "      <th>5</th>\n",
       "      <td>416210595237416</td>\n",
       "      <td>416437079875007</td>\n",
       "      <td>373</td>\n",
       "      <td>1.0</td>\n",
       "      <td>0.0</td>\n",
       "    </tr>\n",
       "    <tr>\n",
       "      <th>6</th>\n",
       "      <td>140644076798096</td>\n",
       "      <td>140944782967567</td>\n",
       "      <td>147</td>\n",
       "      <td>0.0</td>\n",
       "      <td>0.0</td>\n",
       "    </tr>\n",
       "    <tr>\n",
       "      <th>7</th>\n",
       "      <td>3293397142506675</td>\n",
       "      <td>3300852550142492</td>\n",
       "      <td>3875</td>\n",
       "      <td>5.0</td>\n",
       "      <td>0.0</td>\n",
       "    </tr>\n",
       "    <tr>\n",
       "      <th>8</th>\n",
       "      <td>477558465868850</td>\n",
       "      <td>478587086221673</td>\n",
       "      <td>518</td>\n",
       "      <td>0.0</td>\n",
       "      <td>0.0</td>\n",
       "    </tr>\n",
       "    <tr>\n",
       "      <th>9</th>\n",
       "      <td>119072198034248</td>\n",
       "      <td>119246883203466</td>\n",
       "      <td>176</td>\n",
       "      <td>1.0</td>\n",
       "      <td>0.0</td>\n",
       "    </tr>\n",
       "  </tbody>\n",
       "</table>\n",
       "</div>"
      ],
      "text/plain": [
       "                creationDate  lastModificationDate  numberOfPosts  euresFlag  \\\n",
       "jobCodes10                                                                     \n",
       "1            249151149902520       249271677785726            181        0.0   \n",
       "2           1423545655238310      1424136563680160           1098        0.0   \n",
       "3           1139929182762825      1141324938406915           1157        3.0   \n",
       "4            210537043927174       210606928497577            145        0.0   \n",
       "5            416210595237416       416437079875007            373        1.0   \n",
       "6            140644076798096       140944782967567            147        0.0   \n",
       "7           3293397142506675      3300852550142492           3875        5.0   \n",
       "8            477558465868850       478587086221673            518        0.0   \n",
       "9            119072198034248       119246883203466            176        1.0   \n",
       "\n",
       "            score  \n",
       "jobCodes10         \n",
       "1             0.0  \n",
       "2             0.0  \n",
       "3             0.0  \n",
       "4             0.0  \n",
       "5             0.0  \n",
       "6             0.0  \n",
       "7             0.0  \n",
       "8             0.0  \n",
       "9             0.0  "
      ]
     },
     "execution_count": 9,
     "metadata": {},
     "output_type": "execute_result"
    }
   ],
   "source": [
    "df_10.groupby('jobCodes10').sum()"
   ]
  },
  {
   "cell_type": "markdown",
   "metadata": {},
   "source": [
    "Was bedeuten die Codes 0-9 gemäss ISCO auf Deutsch? Siehe dazu: https://www.bfs.admin.ch/bfs/de/home/statistiken/arbeit-erwerb/nomenclaturen/isco-08.assetdetail.4082534.html und `BFS_ISCO-08_dt.xlsx` in diesem Ordner.\n",
    "\n",
    "0 Armed forces occupations = Angehörige der regulären Streitkräfte    \n",
    "1 Managers = Führungskräfte    \n",
    "2 Professionals = Akademische Berufe (u.a. Ärzte, Informatiker,...)  \n",
    "3 Technicians and associate professionals = Techniker und gleichrangige nichttechnische Berufe  \n",
    "4 Clerical support workers = Bürokräfte und verwandte Berufe  \n",
    "5 Service and sales workers = Dienstleistungsberufe und Verkäufer (u.a. Köche, )  \n",
    "6 Skilled agricultural, forestry and fishery workers = Fachkräfte in Land- und Forstwirtschaft und Fischerei  \n",
    "7 Craft and related trades workers = Handwerks- und verwandte Berufe  \n",
    "8 Plant and machine operators and assemblers = Bediener von Anlagen und Maschinen und Montageberufe  \n",
    "9 Elementary occupations = Hilfsarbeitskräfte  \n"
   ]
  },
  {
   "cell_type": "markdown",
   "metadata": {},
   "source": [
    "**TEST:** Kann das Resultat stimmen? Ja! Weil wenn alle Spalten summiert werden ergibt dies die 7'670 offenen Stellen aus dem Notebook `3_EURES_CH_Daten_reinigen`."
   ]
  },
  {
   "cell_type": "code",
   "execution_count": 10,
   "metadata": {},
   "outputs": [
    {
     "data": {
      "text/plain": [
       "creationDate            7.470046e+15\n",
       "lastModificationDate    7.481408e+15\n",
       "numberOfPosts           7.670000e+03\n",
       "euresFlag               1.000000e+01\n",
       "score                   0.000000e+00\n",
       "dtype: float64"
      ]
     },
     "execution_count": 10,
     "metadata": {},
     "output_type": "execute_result"
    }
   ],
   "source": [
    "df_10.groupby('jobCodes10').sum().sum()"
   ]
  },
  {
   "cell_type": "code",
   "execution_count": 11,
   "metadata": {},
   "outputs": [
    {
     "data": {
      "text/plain": [
       "id                      MDgzUVZCUSA5MDgyWlBNWSA5MDgzR1hQRyA5MTAwMDAtMT...\n",
       "creationDate                                              119072198034248\n",
       "lastModificationDate                                      119246883203466\n",
       "title                   Aide de cuisine plongeur H/FAide-maçon / Aide-...\n",
       "description             Hôtel familial à la montagne dans le Valais su...\n",
       "numberOfPosts                                                         176\n",
       "locationMap             {'CH': [None]}{'CH': [None]}{'CH': [None]}{'CH...\n",
       "euresFlag                                                            True\n",
       "jobCategoriesCodes      ['http://data.europa.eu/esco/isco/C9412']['htt...\n",
       "employer                {'name': 'hotel du glacier', 'website': 'http:...\n",
       "score                                                                   0\n",
       "jobCodes10                                                            693\n",
       "dtype: object"
      ]
     },
     "execution_count": 11,
     "metadata": {},
     "output_type": "execute_result"
    }
   ],
   "source": [
    "df_10[df_10['jobCodes10'] == 9].sum()"
   ]
  },
  {
   "cell_type": "markdown",
   "metadata": {},
   "source": [
    "Des Resultat als neues Dataframe abspeichern."
   ]
  },
  {
   "cell_type": "code",
   "execution_count": 12,
   "metadata": {},
   "outputs": [
    {
     "data": {
      "text/html": [
       "<div>\n",
       "<style scoped>\n",
       "    .dataframe tbody tr th:only-of-type {\n",
       "        vertical-align: middle;\n",
       "    }\n",
       "\n",
       "    .dataframe tbody tr th {\n",
       "        vertical-align: top;\n",
       "    }\n",
       "\n",
       "    .dataframe thead th {\n",
       "        text-align: right;\n",
       "    }\n",
       "</style>\n",
       "<table border=\"1\" class=\"dataframe\">\n",
       "  <thead>\n",
       "    <tr style=\"text-align: right;\">\n",
       "      <th></th>\n",
       "      <th>creationDate</th>\n",
       "      <th>lastModificationDate</th>\n",
       "      <th>numberOfPosts</th>\n",
       "      <th>euresFlag</th>\n",
       "      <th>score</th>\n",
       "    </tr>\n",
       "    <tr>\n",
       "      <th>jobCodes10</th>\n",
       "      <th></th>\n",
       "      <th></th>\n",
       "      <th></th>\n",
       "      <th></th>\n",
       "      <th></th>\n",
       "    </tr>\n",
       "  </thead>\n",
       "  <tbody>\n",
       "    <tr>\n",
       "      <th>1</th>\n",
       "      <td>249151149902520</td>\n",
       "      <td>249271677785726</td>\n",
       "      <td>181</td>\n",
       "      <td>0.0</td>\n",
       "      <td>0.0</td>\n",
       "    </tr>\n",
       "    <tr>\n",
       "      <th>2</th>\n",
       "      <td>1423545655238310</td>\n",
       "      <td>1424136563680160</td>\n",
       "      <td>1098</td>\n",
       "      <td>0.0</td>\n",
       "      <td>0.0</td>\n",
       "    </tr>\n",
       "    <tr>\n",
       "      <th>3</th>\n",
       "      <td>1139929182762825</td>\n",
       "      <td>1141324938406915</td>\n",
       "      <td>1157</td>\n",
       "      <td>3.0</td>\n",
       "      <td>0.0</td>\n",
       "    </tr>\n",
       "    <tr>\n",
       "      <th>4</th>\n",
       "      <td>210537043927174</td>\n",
       "      <td>210606928497577</td>\n",
       "      <td>145</td>\n",
       "      <td>0.0</td>\n",
       "      <td>0.0</td>\n",
       "    </tr>\n",
       "    <tr>\n",
       "      <th>5</th>\n",
       "      <td>416210595237416</td>\n",
       "      <td>416437079875007</td>\n",
       "      <td>373</td>\n",
       "      <td>1.0</td>\n",
       "      <td>0.0</td>\n",
       "    </tr>\n",
       "    <tr>\n",
       "      <th>6</th>\n",
       "      <td>140644076798096</td>\n",
       "      <td>140944782967567</td>\n",
       "      <td>147</td>\n",
       "      <td>0.0</td>\n",
       "      <td>0.0</td>\n",
       "    </tr>\n",
       "    <tr>\n",
       "      <th>7</th>\n",
       "      <td>3293397142506675</td>\n",
       "      <td>3300852550142492</td>\n",
       "      <td>3875</td>\n",
       "      <td>5.0</td>\n",
       "      <td>0.0</td>\n",
       "    </tr>\n",
       "    <tr>\n",
       "      <th>8</th>\n",
       "      <td>477558465868850</td>\n",
       "      <td>478587086221673</td>\n",
       "      <td>518</td>\n",
       "      <td>0.0</td>\n",
       "      <td>0.0</td>\n",
       "    </tr>\n",
       "    <tr>\n",
       "      <th>9</th>\n",
       "      <td>119072198034248</td>\n",
       "      <td>119246883203466</td>\n",
       "      <td>176</td>\n",
       "      <td>1.0</td>\n",
       "      <td>0.0</td>\n",
       "    </tr>\n",
       "  </tbody>\n",
       "</table>\n",
       "</div>"
      ],
      "text/plain": [
       "                creationDate  lastModificationDate  numberOfPosts  euresFlag  \\\n",
       "jobCodes10                                                                     \n",
       "1            249151149902520       249271677785726            181        0.0   \n",
       "2           1423545655238310      1424136563680160           1098        0.0   \n",
       "3           1139929182762825      1141324938406915           1157        3.0   \n",
       "4            210537043927174       210606928497577            145        0.0   \n",
       "5            416210595237416       416437079875007            373        1.0   \n",
       "6            140644076798096       140944782967567            147        0.0   \n",
       "7           3293397142506675      3300852550142492           3875        5.0   \n",
       "8            477558465868850       478587086221673            518        0.0   \n",
       "9            119072198034248       119246883203466            176        1.0   \n",
       "\n",
       "            score  \n",
       "jobCodes10         \n",
       "1             0.0  \n",
       "2             0.0  \n",
       "3             0.0  \n",
       "4             0.0  \n",
       "5             0.0  \n",
       "6             0.0  \n",
       "7             0.0  \n",
       "8             0.0  \n",
       "9             0.0  "
      ]
     },
     "execution_count": 12,
     "metadata": {},
     "output_type": "execute_result"
    }
   ],
   "source": [
    "df_final = df_10.groupby('jobCodes10').sum()\n",
    "df_final"
   ]
  },
  {
   "cell_type": "markdown",
   "metadata": {},
   "source": [
    "### Schritt 4: Chart zeichnen"
   ]
  },
  {
   "cell_type": "code",
   "execution_count": 13,
   "metadata": {},
   "outputs": [],
   "source": [
    "%matplotlib inline"
   ]
  },
  {
   "cell_type": "code",
   "execution_count": 15,
   "metadata": {
    "scrolled": false
   },
   "outputs": [
    {
     "data": {
      "text/plain": [
       "Text(0.5, 1.0, 'Anzahl offene Stellen auf Eures')"
      ]
     },
     "execution_count": 15,
     "metadata": {},
     "output_type": "execute_result"
    },
    {
     "data": {
      "image/png": "[encoded data removed]",
      "text/plain": [
       "<Figure size 432x288 with 1 Axes>"
      ]
     },
     "metadata": {
      "needs_background": "light"
     },
     "output_type": "display_data"
    }
   ],
   "source": [
    "df_final['numberOfPosts'].sort_values().plot(kind = 'barh').set_title(\"Anzahl offene Stellen auf Eures\")"
   ]
  },
  {
   "cell_type": "markdown",
   "metadata": {},
   "source": [
    "### Schritt 5: Index umbenennen"
   ]
  },
  {
   "cell_type": "code",
   "execution_count": 12,
   "metadata": {},
   "outputs": [
    {
     "data": {
      "text/plain": [
       "id                       object\n",
       "creationDate              int64\n",
       "lastModificationDate      int64\n",
       "title                    object\n",
       "description              object\n",
       "numberOfPosts             int64\n",
       "locationMap              object\n",
       "euresFlag                  bool\n",
       "jobCategoriesCodes       object\n",
       "employer                 object\n",
       "score                   float64\n",
       "jobCodes10                int64\n",
       "dtype: object"
      ]
     },
     "execution_count": 12,
     "metadata": {},
     "output_type": "execute_result"
    }
   ],
   "source": [
    "df_10.dtypes"
   ]
  },
  {
   "cell_type": "code",
   "execution_count": 13,
   "metadata": {},
   "outputs": [],
   "source": [
    "jobCodes10_dt = {\n",
    "    1: \"Führungskräfte\",    \n",
    "    2: \"Akademische Berufe\", \n",
    "    3: \"Techniker und gleichrangige Berufe\",  \n",
    "    4: \"Bürokräfte und verwandte Berufe\",  \n",
    "    5: \"Dienstleistungsberufe und Verkäufer\",  \n",
    "    6: \"Fachkräfte in Land- und Forstwirtschaft\",  \n",
    "    7: \"Handwerks- und verwandte Berufe\",  \n",
    "    8: \"Bediener von Anlagen und Maschinen und Montageberufe\",  \n",
    "    9: \"Hilfsarbeitskräfte\"\n",
    "}"
   ]
  },
  {
   "cell_type": "code",
   "execution_count": 14,
   "metadata": {},
   "outputs": [],
   "source": [
    "df_10['jobCodes10'].replace(jobCodes10_dt, inplace=True)"
   ]
  },
  {
   "cell_type": "code",
   "execution_count": 15,
   "metadata": {},
   "outputs": [
    {
     "data": {
      "text/html": [
       "<div>\n",
       "<style scoped>\n",
       "    .dataframe tbody tr th:only-of-type {\n",
       "        vertical-align: middle;\n",
       "    }\n",
       "\n",
       "    .dataframe tbody tr th {\n",
       "        vertical-align: top;\n",
       "    }\n",
       "\n",
       "    .dataframe thead th {\n",
       "        text-align: right;\n",
       "    }\n",
       "</style>\n",
       "<table border=\"1\" class=\"dataframe\">\n",
       "  <thead>\n",
       "    <tr style=\"text-align: right;\">\n",
       "      <th></th>\n",
       "      <th>creationDate</th>\n",
       "      <th>lastModificationDate</th>\n",
       "      <th>numberOfPosts</th>\n",
       "      <th>euresFlag</th>\n",
       "      <th>score</th>\n",
       "    </tr>\n",
       "    <tr>\n",
       "      <th>jobCodes10</th>\n",
       "      <th></th>\n",
       "      <th></th>\n",
       "      <th></th>\n",
       "      <th></th>\n",
       "      <th></th>\n",
       "    </tr>\n",
       "  </thead>\n",
       "  <tbody>\n",
       "    <tr>\n",
       "      <th>Akademische Berufe</th>\n",
       "      <td>1423545655238310</td>\n",
       "      <td>1424136563680160</td>\n",
       "      <td>1098</td>\n",
       "      <td>0.0</td>\n",
       "      <td>0.0</td>\n",
       "    </tr>\n",
       "    <tr>\n",
       "      <th>Bediener von Anlagen und Maschinen und Montageberufe</th>\n",
       "      <td>477558465868850</td>\n",
       "      <td>478587086221673</td>\n",
       "      <td>518</td>\n",
       "      <td>0.0</td>\n",
       "      <td>0.0</td>\n",
       "    </tr>\n",
       "    <tr>\n",
       "      <th>Bürokräfte und verwandte Berufe</th>\n",
       "      <td>210537043927174</td>\n",
       "      <td>210606928497577</td>\n",
       "      <td>145</td>\n",
       "      <td>0.0</td>\n",
       "      <td>0.0</td>\n",
       "    </tr>\n",
       "    <tr>\n",
       "      <th>Dienstleistungsberufe und Verkäufer</th>\n",
       "      <td>416210595237416</td>\n",
       "      <td>416437079875007</td>\n",
       "      <td>373</td>\n",
       "      <td>1.0</td>\n",
       "      <td>0.0</td>\n",
       "    </tr>\n",
       "    <tr>\n",
       "      <th>Fachkräfte in Land- und Forstwirtschaft</th>\n",
       "      <td>140644076798096</td>\n",
       "      <td>140944782967567</td>\n",
       "      <td>147</td>\n",
       "      <td>0.0</td>\n",
       "      <td>0.0</td>\n",
       "    </tr>\n",
       "    <tr>\n",
       "      <th>Führungskräfte</th>\n",
       "      <td>249151149902520</td>\n",
       "      <td>249271677785726</td>\n",
       "      <td>181</td>\n",
       "      <td>0.0</td>\n",
       "      <td>0.0</td>\n",
       "    </tr>\n",
       "    <tr>\n",
       "      <th>Handwerks- und verwandte Berufe</th>\n",
       "      <td>3293397142506675</td>\n",
       "      <td>3300852550142492</td>\n",
       "      <td>3875</td>\n",
       "      <td>5.0</td>\n",
       "      <td>0.0</td>\n",
       "    </tr>\n",
       "    <tr>\n",
       "      <th>Hilfsarbeitskräfte</th>\n",
       "      <td>119072198034248</td>\n",
       "      <td>119246883203466</td>\n",
       "      <td>176</td>\n",
       "      <td>1.0</td>\n",
       "      <td>0.0</td>\n",
       "    </tr>\n",
       "    <tr>\n",
       "      <th>Techniker und gleichrangige Berufe</th>\n",
       "      <td>1139929182762825</td>\n",
       "      <td>1141324938406915</td>\n",
       "      <td>1157</td>\n",
       "      <td>3.0</td>\n",
       "      <td>0.0</td>\n",
       "    </tr>\n",
       "  </tbody>\n",
       "</table>\n",
       "</div>"
      ],
      "text/plain": [
       "                                                        creationDate  \\\n",
       "jobCodes10                                                             \n",
       "Akademische Berufe                                  1423545655238310   \n",
       "Bediener von Anlagen und Maschinen und Montageb...   477558465868850   \n",
       "Bürokräfte und verwandte Berufe                      210537043927174   \n",
       "Dienstleistungsberufe und Verkäufer                  416210595237416   \n",
       "Fachkräfte in Land- und Forstwirtschaft              140644076798096   \n",
       "Führungskräfte                                       249151149902520   \n",
       "Handwerks- und verwandte Berufe                     3293397142506675   \n",
       "Hilfsarbeitskräfte                                   119072198034248   \n",
       "Techniker und gleichrangige Berufe                  1139929182762825   \n",
       "\n",
       "                                                    lastModificationDate  \\\n",
       "jobCodes10                                                                 \n",
       "Akademische Berufe                                      1424136563680160   \n",
       "Bediener von Anlagen und Maschinen und Montageb...       478587086221673   \n",
       "Bürokräfte und verwandte Berufe                          210606928497577   \n",
       "Dienstleistungsberufe und Verkäufer                      416437079875007   \n",
       "Fachkräfte in Land- und Forstwirtschaft                  140944782967567   \n",
       "Führungskräfte                                           249271677785726   \n",
       "Handwerks- und verwandte Berufe                         3300852550142492   \n",
       "Hilfsarbeitskräfte                                       119246883203466   \n",
       "Techniker und gleichrangige Berufe                      1141324938406915   \n",
       "\n",
       "                                                    numberOfPosts  euresFlag  \\\n",
       "jobCodes10                                                                     \n",
       "Akademische Berufe                                           1098        0.0   \n",
       "Bediener von Anlagen und Maschinen und Montageb...            518        0.0   \n",
       "Bürokräfte und verwandte Berufe                               145        0.0   \n",
       "Dienstleistungsberufe und Verkäufer                           373        1.0   \n",
       "Fachkräfte in Land- und Forstwirtschaft                       147        0.0   \n",
       "Führungskräfte                                                181        0.0   \n",
       "Handwerks- und verwandte Berufe                              3875        5.0   \n",
       "Hilfsarbeitskräfte                                            176        1.0   \n",
       "Techniker und gleichrangige Berufe                           1157        3.0   \n",
       "\n",
       "                                                    score  \n",
       "jobCodes10                                                 \n",
       "Akademische Berufe                                    0.0  \n",
       "Bediener von Anlagen und Maschinen und Montageb...    0.0  \n",
       "Bürokräfte und verwandte Berufe                       0.0  \n",
       "Dienstleistungsberufe und Verkäufer                   0.0  \n",
       "Fachkräfte in Land- und Forstwirtschaft               0.0  \n",
       "Führungskräfte                                        0.0  \n",
       "Handwerks- und verwandte Berufe                       0.0  \n",
       "Hilfsarbeitskräfte                                    0.0  \n",
       "Techniker und gleichrangige Berufe                    0.0  "
      ]
     },
     "execution_count": 15,
     "metadata": {},
     "output_type": "execute_result"
    }
   ],
   "source": [
    "df_final = df_10.groupby('jobCodes10').sum()\n",
    "df_final"
   ]
  },
  {
   "cell_type": "code",
   "execution_count": 19,
   "metadata": {},
   "outputs": [
    {
     "data": {
      "image/png": "[encoded data removed]",
      "text/plain": [
       "<Figure size 432x288 with 1 Axes>"
      ]
     },
     "metadata": {
      "needs_background": "light"
     },
     "output_type": "display_data"
    }
   ],
   "source": [
    "df_final_chart = df_final['numberOfPosts'].sort_values().plot(kind = 'barh', title='Anzahl offene Stellen auf Eures')"
   ]
  },
  {
   "cell_type": "markdown",
   "metadata": {},
   "source": [
    "Hilfreicher Tipp auf Stackoverflow wie auch der Zahlenwert angezeigt werden kann: https://stackoverflow.com/questions/25447700/annotate-bars-with-values-on-pandas-bar-plots"
   ]
  },
  {
   "cell_type": "code",
   "execution_count": 20,
   "metadata": {},
   "outputs": [
    {
     "data": {
      "image/png": "[encoded data removed]",
      "text/plain": [
       "<Figure size 432x288 with 1 Axes>"
      ]
     },
     "metadata": {
      "needs_background": "light"
     },
     "output_type": "display_data"
    }
   ],
   "source": [
    "df_final_chart = df_final['numberOfPosts'].sort_values().plot(kind = 'barh', title='Anzahl offene Stellen auf Eures')\n",
    "\n",
    "for p in df_final_chart.patches:\n",
    "    df_final_chart.annotate(str(p.get_width()), (p.get_x() + p.get_width(), p.get_y()), xytext=(5, 3), textcoords='offset points')"
   ]
  },
  {
   "cell_type": "markdown",
   "metadata": {},
   "source": [
    "### Schritt 6: Chart abspeichern"
   ]
  },
  {
   "cell_type": "code",
   "execution_count": 21,
   "metadata": {},
   "outputs": [],
   "source": [
    "fig = df_final_chart.get_figure()\n",
    "fig.savefig(\"EURES_CH_Anzahl_Stellen_nach_Berufen.png\", bbox_inches='tight')"
   ]
  },
  {
   "cell_type": "code",
   "execution_count": null,
   "metadata": {},
   "outputs": [],
   "source": []
  },
  {
   "cell_type": "code",
   "execution_count": null,
   "metadata": {},
   "outputs": [],
   "source": []
  }
 ],
 "metadata": {
  "kernelspec": {
   "display_name": "Python 3",
   "language": "python",
   "name": "python3"
  },
  "language_info": {
   "codemirror_mode": {
    "name": "ipython",
    "version": 3
   },
   "file_extension": ".py",
   "mimetype": "text/x-python",
   "name": "python",
   "nbconvert_exporter": "python",
   "pygments_lexer": "ipython3",
   "version": "3.7.0"
  }
 },
 "nbformat": 4,
 "nbformat_minor": 2
}
