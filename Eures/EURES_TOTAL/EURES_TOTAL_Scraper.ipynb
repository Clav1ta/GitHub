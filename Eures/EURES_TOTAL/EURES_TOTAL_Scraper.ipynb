{
 "cells": [
  {
   "cell_type": "markdown",
   "metadata": {},
   "source": [
    "# Scraper ganze EURES Webseite"
   ]
  },
  {
   "cell_type": "markdown",
   "metadata": {},
   "source": [
    "<font color='red'>In diesem Notebook wird skizziert wie die ganze Jobplattform Eures gescrapt werden könnte. </font>"
   ]
  },
  {
   "cell_type": "markdown",
   "metadata": {},
   "source": [
    "**AUFGABE:** Funktioniert die Request.post()-Methode auch, um die ganzen Daten von Eures zu scrapen? Dazu auf die Webseite https://ec.europa.eu/eures/eures-searchengine/page/main?lang=en&app=2.1.1p1-build-0#/search gehen, auf Search klicken und mit dem Developers-Tool den Curl des gesendeten POST kopieren."
   ]
  },
  {
   "cell_type": "markdown",
   "metadata": {},
   "source": [
    "### Schritt 1: Import der Libraries"
   ]
  },
  {
   "cell_type": "code",
   "execution_count": 2,
   "metadata": {},
   "outputs": [],
   "source": [
    "import requests\n",
    "import json"
   ]
  },
  {
   "cell_type": "markdown",
   "metadata": {},
   "source": [
    "### Schritt 2: Curl ziehen ###"
   ]
  },
  {
   "cell_type": "markdown",
   "metadata": {},
   "source": [
    "curl 'https://ec.europa.eu/eures/eures-searchengine/page/jv-search/search?lang=en&app=2.1.1p1-build-0' -H 'User-Agent: Mozilla/5.0 (Macintosh; Intel Mac OS X 10.13; rv:65.0) Gecko/20100101 Firefox/65.0' -H 'Accept: application/json, text/plain, */*' -H 'Accept-Language: en-US,en;q=0.5' --compressed -H 'Referer: https://ec.europa.eu/eures/eures-searchengine/page/main?lang=en&app=2.1.1p1-build-0' -H 'ajax-call: true' -H 'Content-Type: application/json;charset=utf-8' -H 'Connection: keep-alive' -H 'Cookie: cck_read=%22en%22; _pk_id.81.1e93=8242111674440e7c.1549812996.13.1550572039.1550571649.; _pk_ref.81.1e93=%5B%22%22%2C%22%22%2C1550571649%2C%22https%3A%2F%2Fwww.google.com%2F%22%5D; EURES_JVSE_SESSIONID=C_EFRbQsbG0s4eir_TEyFLBwQaUoBtfD_FxvkwCl0sAtHHsYrBE-!-1540004032; _pk_ses.81.1e93=*; EURES_CVO_SESSIONID=0OUFRs7S6W8B2iHnz3u6d2ggml2jvZ8iLF8pGxzeDxS5zKm4mazO!-1456100611; EURES_CVSE_SESSIONID=7xYFR5Ms9AdMx8M9hUrsqD8wkF3iIvxeXNgPGECPxGX0u3JW3bns!-1456100611; eu_cookie_consent=%7B%22a%22%3A%7B%22document.domain%22%3A%5B%22_gat%22%2C%22_ga%22%2C%22jobVacancy%22%2C%22ISCOLang%22%5D%7D%2C%22r%22%3A%7B%7D%7D; _ga=GA1.2.1678820704.1549813001; escoLanguage=en; _gid=GA1.2.1115332855.1550571649; has_js=1; _pk_id.237.b924=6708d665ce6db8bc.1550571658.1.1550571658.1550571658.; _pk_ses.237.b924=*; LFR_SESSION_STATE_10159=1550571779404; _gat=1' --data '{\"keywords\":[],\"positionScheduleCodes\":[],\"positionOfferingCodes\":[],\"educationLevelCodes\":[],\"euresFlagCodes\":[],\"nutsCodes\":[],\"notSpecifiedInNutsCodes\":[],\"requiredExperienceCodes\":[],\"solidarityContextCodes\":[],\"otherBenefitsCodes\":[],\"occupationUris\":[],\"includeJobsWithoutBenefits\":false,\"requiredLanguages\":[],\"includeJobsWithoutRequiredLanguages\":false,\"sortSearch\":\"BEST_MATCH\",\"resultsPerPage\":10,\"page\":1,\"sessionId\":\"6xv3446bttcmvzgjn89gc\"}'"
   ]
  },
  {
   "cell_type": "markdown",
   "metadata": {},
   "source": [
    "Curl-Befehl in Python-Anfrage umwandeln mit https://curl.trillworks.com/"
   ]
  },
  {
   "cell_type": "markdown",
   "metadata": {},
   "source": [
    "### Schritt 3: POST-Request schicken"
   ]
  },
  {
   "cell_type": "markdown",
   "metadata": {},
   "source": [
    "Wird versucht alle rund 4 Mio. Inserate aufs Mal runterzuladen wird der Post geblockt. Ein Test ergibt, dass zB 5000 Inserate aufs Mal mindestens gezogen werden können. Die untenstehende Anfrage muss geloopt werden. Unter \"resultsPerPage\" die maximal mögliche Resultatemenge eingeben zB 5000, unter \"page\": muss hochgezählt werden."
   ]
  },
  {
   "cell_type": "code",
   "execution_count": 12,
   "metadata": {},
   "outputs": [],
   "source": [
    "cookies = {\n",
    "    '_pk_id.81.1e93': '8242111674440e7c.1549812996.17.1550656427.1550656136.',\n",
    "    '_pk_ref.81.1e93': '%5B%22%22%2C%22%22%2C1550656136%2C%22https%3A%2F%2Fwww.google.com%2F%22%5D',\n",
    "    '_pk_ses.81.1e93': '*',\n",
    "    'EURES_JVSE_SESSIONID': 'l2wKTvC2vIyt6HC4tQ1opoajWjuO186jvhAyz7ZmYdBUkxil0dUr!-1540004032',\n",
    "    'eu_cookie_consent': '%7B%22a%22%3A%7B%22document.domain%22%3A%5B%22_gat%22%2C%22_ga%22%2C%22jobVacancy%22%2C%22ISCOLang%22%5D%7D%2C%22r%22%3A%7B%7D%7D',\n",
    "    '_ga': 'GA1.2.1678820704.1549813001',\n",
    "    'escoLanguage': 'en',\n",
    "    '_gid': 'GA1.2.1115332855.1550571649',\n",
    "    '_pk_id.237.b924': '6708d665ce6db8bc.1550571658.1.1550571658.1550571658.',\n",
    "    'LFR_SESSION_STATE_10159': '1550656135888',\n",
    "}\n",
    "\n",
    "headers = {\n",
    "    'User-Agent': 'Mozilla/5.0 (Macintosh; Intel Mac OS X 10.13; rv:65.0) Gecko/20100101 Firefox/65.0',\n",
    "    'Accept': 'application/json, text/plain, */*',\n",
    "    'Accept-Language': 'en-US,en;q=0.5',\n",
    "    'Referer': 'https://ec.europa.eu/eures/eures-searchengine/page/main?lang=de&app=0.14.1-build-0',\n",
    "    'ajax-call': 'true',\n",
    "    'Content-Type': 'application/json;charset=utf-8',\n",
    "    'Connection': 'keep-alive',\n",
    "}\n",
    "\n",
    "params = (\n",
    "    ('lang', 'de'),\n",
    "    ('app', '2.1.1p1-build-0'),\n",
    ")\n",
    "\n",
    "# \"page\" muss von 1 bis 2Mio/5000 hochgezählt werden\n",
    "data = {\"keywords\":[],\n",
    "        \"positionScheduleCodes\":[],\n",
    "        \"positionOfferingCodes\":[],\n",
    "        \"educationLevelCodes\":[],\n",
    "        \"euresFlagCodes\":[],\n",
    "        \"nutsCodes\":[],\n",
    "        \"notSpecifiedInNutsCodes\":[],\n",
    "        \"requiredExperienceCodes\":[],\n",
    "        \"solidarityContextCodes\":[],\n",
    "        \"otherBenefitsCodes\":[],\n",
    "        \"occupationUris\":[],\n",
    "        \"includeJobsWithoutBenefits\":False,\"requiredLanguages\":[],\n",
    "        \"includeJobsWithoutRequiredLanguages\":False,\"sortSearch\":\"BEST_MATCH\",\n",
    "        \"resultsPerPage\":5000,\"page\":2,\"sessionId\":\"lcdswy2a95rdjyk41olu\"}   \n",
    "\n",
    "response = requests.post('https://ec.europa.eu/eures/eures-searchengine/page/jv-search/search', headers=headers, params=params, cookies=cookies, data=json.dumps(data))"
   ]
  },
  {
   "cell_type": "code",
   "execution_count": 13,
   "metadata": {},
   "outputs": [
    {
     "name": "stderr",
     "output_type": "stream",
     "text": [
      "IOPub data rate exceeded.\n",
      "The notebook server will temporarily stop sending output\n",
      "to the client in order to avoid crashing it.\n",
      "To change this limit, set the config variable\n",
      "`--NotebookApp.iopub_data_rate_limit`.\n",
      "\n",
      "Current values:\n",
      "NotebookApp.iopub_data_rate_limit=1000000.0 (bytes/sec)\n",
      "NotebookApp.rate_limit_window=3.0 (secs)\n",
      "\n"
     ]
    }
   ],
   "source": [
    "text = response.json()\n",
    "content = text['jvs']"
   ]
  },
  {
   "cell_type": "markdown",
   "metadata": {},
   "source": [
    "**DEBUGGING:** Status der Abfrage überprüfen."
   ]
  },
  {
   "cell_type": "code",
   "execution_count": 11,
   "metadata": {},
   "outputs": [
    {
     "name": "stdout",
     "output_type": "stream",
     "text": [
      "400\n"
     ]
    },
    {
     "data": {
      "text/plain": [
       "datetime.timedelta(seconds=30, microseconds=567887)"
      ]
     },
     "execution_count": 11,
     "metadata": {},
     "output_type": "execute_result"
    }
   ],
   "source": [
    "print(response.status_code)\n",
    "response.elapsed"
   ]
  },
  {
   "cell_type": "markdown",
   "metadata": {},
   "source": [
    "### Schritt 4: Reslutat csv-Datei abspeichern"
   ]
  },
  {
   "cell_type": "code",
   "execution_count": 17,
   "metadata": {},
   "outputs": [],
   "source": [
    "import csv\n",
    "\n",
    "csv_columns = ['id','creationDate','lastModificationDate','title', 'description', 'numberOfPosts', 'locationMap',   'euresFlag', 'jobCategoriesCodes', 'employer', 'score']\n",
    "\n",
    "dict_data = content\n",
    "\n",
    "csv_file = \"Data_EURES_Total.csv\"\n",
    "try:\n",
    "    with open(csv_file, 'w') as csvfile:\n",
    "        writer = csv.DictWriter(csvfile, fieldnames=csv_columns)\n",
    "        writer.writeheader()\n",
    "        for data in dict_data:\n",
    "            writer.writerow(data)\n",
    "except IOError:\n",
    "    print(\"I/O error\") "
   ]
  },
  {
   "cell_type": "markdown",
   "metadata": {},
   "source": [
    "### Schritt 5: Datenanalyse"
   ]
  },
  {
   "cell_type": "code",
   "execution_count": 31,
   "metadata": {},
   "outputs": [],
   "source": [
    "import pandas as pd\n",
    "\n",
    "path = \"Data_EURES_Total.csv\"\n",
    "\n",
    "with open(path) as f:\n",
    "    dateiinhalt = f.read()\n",
    "    \n",
    "df = pd.read_csv(path) "
   ]
  },
  {
   "cell_type": "code",
   "execution_count": 35,
   "metadata": {},
   "outputs": [
    {
     "data": {
      "text/plain": [
       "(5000, 11)"
      ]
     },
     "execution_count": 35,
     "metadata": {},
     "output_type": "execute_result"
    }
   ],
   "source": [
    "df.shape"
   ]
  },
  {
   "cell_type": "markdown",
   "metadata": {},
   "source": [
    "Es scheint zu funktionieren. Obige POST-Anfrage liefert die Inserate 5001-10'000. Es könnte geloopt werden, nur wie lange dauert es die gesamte Webseite zu scrapen und wie gross wird die Datei?"
   ]
  },
  {
   "cell_type": "code",
   "execution_count": 16,
   "metadata": {},
   "outputs": [
    {
     "data": {
      "text/plain": [
       "1.2222222222222223"
      ]
     },
     "execution_count": 16,
     "metadata": {},
     "output_type": "execute_result"
    }
   ],
   "source": [
    "2200000/5000 * 10 / 3600"
   ]
  },
  {
   "cell_type": "code",
   "execution_count": 15,
   "metadata": {},
   "outputs": [
    {
     "data": {
      "text/plain": [
       "2200.0"
      ]
     },
     "execution_count": 15,
     "metadata": {},
     "output_type": "execute_result"
    }
   ],
   "source": [
    "2200000/5000 * 5"
   ]
  },
  {
   "cell_type": "markdown",
   "metadata": {},
   "source": [
    "Für zB 2,2 Mio. Inserate rechnet der Computer rund über 1 h. Das sollte reichen. Die Session-ID läuft erst nach ein paar Stunden ab. Werden alle csv-Files zusammen ergeben eine Grösse von 2,2GB."
   ]
  },
  {
   "cell_type": "code",
   "execution_count": null,
   "metadata": {},
   "outputs": [],
   "source": []
  }
 ],
 "metadata": {
  "kernelspec": {
   "display_name": "Python 3",
   "language": "python",
   "name": "python3"
  },
  "language_info": {
   "codemirror_mode": {
    "name": "ipython",
    "version": 3
   },
   "file_extension": ".py",
   "mimetype": "text/x-python",
   "name": "python",
   "nbconvert_exporter": "python",
   "pygments_lexer": "ipython3",
   "version": "3.7.0"
  }
 },
 "nbformat": 4,
 "nbformat_minor": 2
}
