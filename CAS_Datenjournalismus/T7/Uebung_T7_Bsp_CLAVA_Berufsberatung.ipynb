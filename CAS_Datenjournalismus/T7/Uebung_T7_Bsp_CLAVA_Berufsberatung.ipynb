{
 "cells": [
  {
   "cell_type": "markdown",
   "metadata": {},
   "source": [
    "# Übung Lehrstellen-Nachweis LENA\n",
    "\n",
    "Aussagewunsch: Schhweizer Firmen bilden die falschen Lernende aus. Um den Nachwuchs sicherzustellen braucht es eine Lernendenquote von 1:6 in einer Firma (sechs Lehrstellen pro hundert Vollzeitbeschäftigte).  \n",
    "\n",
    "These: Die Hauptlast der Nachwuchsförderung tragen die KMU und nicht die Grossfirmen.\n",
    "\n",
    "Quelle: Lehrstellen-Nachweis Lena https://www.berufsberatung.ch/dyn/show/2930 \n",
    "\n",
    "Ziel: Der Schweizerische Gewerbeverband wirft den grossen Firmen vor, dass diese zuwenig Lernende ausbilden, und die Verantwortung für die Ausbildung den KMU überlassen. Fachkräftemangel ist ein grosses Thema in der Schweiz. Den Firmen kommen mit der Lehrlingsausbildung eine grosse Bedeutung zu. Identifizieren wer sind die Lehrstellensünder? Bis anhin wird die Diskussion vorallem anhand von Einzelbeispielen geführt."
   ]
  },
  {
   "cell_type": "code",
   "execution_count": 15,
   "metadata": {},
   "outputs": [],
   "source": [
    "# Libraries importieren\n",
    "\n",
    "import requests\n",
    "from bs4 import BeautifulSoup\n",
    "import pandas as pd"
   ]
  },
  {
   "cell_type": "code",
   "execution_count": 30,
   "metadata": {},
   "outputs": [],
   "source": [
    "# Abfrage eines Berufs. Der erste in der Liste ist Abdecker/in EFZ\n",
    "\n",
    "url = \"https://www.berufsberatung.ch/dyn/show/2930?lang=de&Idx=0&OrderBy=1&Order=0&PostBackOrder=0&postBack=true&CountResult=131&Total_Idx=112&CounterSearch=1&UrlAjaxWebSearch=%2FLenaWeb%2FAjaxWebSearch&sw_=453&LocName=&LocId=&Area=10\"\n",
    "r = requests.get(url)\n",
    "#r.text"
   ]
  },
  {
   "cell_type": "code",
   "execution_count": 21,
   "metadata": {},
   "outputs": [],
   "source": [
    "soup = BeautifulSoup(r.text, 'html.parser')"
   ]
  },
  {
   "cell_type": "code",
   "execution_count": 27,
   "metadata": {},
   "outputs": [],
   "source": [
    "#soup"
   ]
  },
  {
   "cell_type": "code",
   "execution_count": 34,
   "metadata": {},
   "outputs": [],
   "source": [
    "anbieter = soup.find_all('div', {'class': 'display-table-cell bold company data-id table-col-1'})"
   ]
  },
  {
   "cell_type": "code",
   "execution_count": 36,
   "metadata": {},
   "outputs": [
    {
     "data": {
      "text/plain": [
       "<div class=\"display-table-cell bold company data-id table-col-1\" data-id=\"11648985\">Abdichtungsbau Durrer AG</div>"
      ]
     },
     "execution_count": 36,
     "metadata": {},
     "output_type": "execute_result"
    }
   ],
   "source": [
    "anbieter[2]"
   ]
  },
  {
   "cell_type": "code",
   "execution_count": 25,
   "metadata": {},
   "outputs": [],
   "source": [
    "anzahl = soup.find_all('div', {'class': 'display-table-cell text-align-center float-left-for-sd table-col-5'})"
   ]
  },
  {
   "cell_type": "code",
   "execution_count": 32,
   "metadata": {},
   "outputs": [
    {
     "data": {
      "text/plain": [
       "<div class=\"display-table-cell text-align-center float-left-for-sd table-col-5\">\n",
       "1 <span class=\"show-for-sd\">Lehrstelle(n)</span>\n",
       "</div>"
      ]
     },
     "execution_count": 32,
     "metadata": {},
     "output_type": "execute_result"
    }
   ],
   "source": [
    "anzahl[0]"
   ]
  },
  {
   "cell_type": "code",
   "execution_count": null,
   "metadata": {},
   "outputs": [],
   "source": []
  }
 ],
 "metadata": {
  "kernelspec": {
   "display_name": "Python 3",
   "language": "python",
   "name": "python3"
  },
  "language_info": {
   "codemirror_mode": {
    "name": "ipython",
    "version": 3
   },
   "file_extension": ".py",
   "mimetype": "text/x-python",
   "name": "python",
   "nbconvert_exporter": "python",
   "pygments_lexer": "ipython3",
   "version": "3.7.0"
  }
 },
 "nbformat": 4,
 "nbformat_minor": 2
}
