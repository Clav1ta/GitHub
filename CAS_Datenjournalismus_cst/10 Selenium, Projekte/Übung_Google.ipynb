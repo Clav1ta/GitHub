{
 "cells": [
  {
   "cell_type": "markdown",
   "metadata": {},
   "source": [
    "# Übung: Google (1) mit Request() \n",
    "Welcher NR, SR oder BR hat bei Google am meisten Nennungen?  \n",
    "Um diese AUfgabe zu lösen braucht es eine automatisierte Suche nach allen Räten."
   ]
  },
  {
   "cell_type": "code",
   "execution_count": 1,
   "metadata": {},
   "outputs": [],
   "source": [
    "# Imports\n",
    "\n",
    "from bs4 import BeautifulSoup\n",
    "import requests\n",
    "import pandas as pd"
   ]
  },
  {
   "cell_type": "code",
   "execution_count": 2,
   "metadata": {},
   "outputs": [],
   "source": [
    "# Selenium nur als \"last resort\" brauchen!"
   ]
  },
  {
   "cell_type": "code",
   "execution_count": 5,
   "metadata": {},
   "outputs": [
    {
     "data": {
      "text/plain": [
       "0    Fabio Abate FDP-Liberale\n",
       "1          Jean-Luc Addor SVP\n",
       "2            Andreas Aebi SVP\n",
       "3       Matthias Aebischer SP\n",
       "Name: Councillors, dtype: object"
      ]
     },
     "execution_count": 5,
     "metadata": {},
     "output_type": "execute_result"
    }
   ],
   "source": [
    "# Test funktioniert. Es?\n",
    "\n",
    "pd.read_csv(\"schweizerräte.csv\")\n",
    "df = pd.read_csv(\"schweizerräte.csv\")\n",
    "df_politiker = df[\"Councillors\"]\n",
    "df_politiker.head(4)"
   ]
  },
  {
   "cell_type": "code",
   "execution_count": 7,
   "metadata": {},
   "outputs": [
    {
     "data": {
      "text/plain": [
       "'https://www.google.ch/search?q=Fabio+Abate+FDP-Liberale'"
      ]
     },
     "execution_count": 7,
     "metadata": {},
     "output_type": "execute_result"
    }
   ],
   "source": [
    "# Schritt 2: Für jede Person einen Request aufruf an Google senden\n",
    "# Schritt 3: Für jede Person die Google-Ergebnisse auslesen und in eine Liste packen\n",
    "\n",
    "\"https://www.google.ch/search?q=\"+(df[\"Councillors\"][0].replace(\" \",\"+\"))"
   ]
  },
  {
   "cell_type": "code",
   "execution_count": 8,
   "metadata": {},
   "outputs": [
    {
     "data": {
      "text/plain": [
       "[{'Name': 'Fabio Abate FDP-Liberale', 'Suchergebnisse': 27100},\n",
       " {'Name': 'Jean-Luc Addor SVP', 'Suchergebnisse': 36100},\n",
       " {'Name': 'Andreas Aebi SVP', 'Suchergebnisse': 31800},\n",
       " {'Name': 'Matthias Aebischer SP', 'Suchergebnisse': 30300},\n",
       " {'Name': 'Thomas Aeschi SVP', 'Suchergebnisse': 31000}]"
      ]
     },
     "execution_count": 8,
     "metadata": {},
     "output_type": "execute_result"
    }
   ],
   "source": [
    "suchergebnisse = []\n",
    "for person in df_politiker[:5]:\n",
    "    google_aufruf = requests.get(\"https://www.google.ch/search?q=\"+(person.replace(\" \",\"+\"))).text\n",
    "    soup_google_aufruf = BeautifulSoup(google_aufruf, \"html.parser\")\n",
    "    ergebnisse = soup_google_aufruf.find('div', {'id':'resultStats'}).text\n",
    "    ergebnisse_zahl = ergebnisse.replace(\"Ungefähr \",\"\").replace(\" Ergebnisse\",\"\").replace(\"’\",\"\")\n",
    "    \n",
    "    try:\n",
    "        suchergebnisse.append({\"Name\":person, \"Suchergebnisse\":int(ergebnisse_zahl)})\n",
    "    except:\n",
    "        print(\"Problem with \"+person)\n",
    "\n",
    "suchergebnisse"
   ]
  },
  {
   "cell_type": "code",
   "execution_count": null,
   "metadata": {},
   "outputs": [],
   "source": [
    "# So sollte der Output aussehen\n",
    "[{\"Name\":\"Doris Leuthard\",\"Suchergebnisse\":1239304},{...}]"
   ]
  },
  {
   "cell_type": "markdown",
   "metadata": {},
   "source": [
    "# Übung Google (2) mit Selenium"
   ]
  },
  {
   "cell_type": "code",
   "execution_count": null,
   "metadata": {},
   "outputs": [],
   "source": []
  }
 ],
 "metadata": {
  "kernelspec": {
   "display_name": "Python 3",
   "language": "python",
   "name": "python3"
  },
  "language_info": {
   "codemirror_mode": {
    "name": "ipython",
    "version": 3
   },
   "file_extension": ".py",
   "mimetype": "text/x-python",
   "name": "python",
   "nbconvert_exporter": "python",
   "pygments_lexer": "ipython3",
   "version": "3.7.0"
  }
 },
 "nbformat": 4,
 "nbformat_minor": 2
}
