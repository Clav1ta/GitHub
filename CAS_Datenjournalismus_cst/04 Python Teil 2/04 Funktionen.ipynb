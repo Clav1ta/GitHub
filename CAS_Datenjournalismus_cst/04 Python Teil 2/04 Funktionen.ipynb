{
 "cells": [
  {
   "cell_type": "markdown",
   "metadata": {},
   "source": [
    "# Funktionen\n",
    "Funktionen sind zusammengefasste Codeblöcke. Mittels Funktionen können wir es vermeiden, mehrmals verwendete Codeblöcke zu wiederholen. Wir definieren stattdessen einmal eine Funktion, die diese Codeblöcke enthält und brauchen an weiteren Stellen nur noch (kurz) die Funktion aufzurufen, ohne die in ihr enthaltenen Codezeilen zu kopieren."
   ]
  },
  {
   "cell_type": "markdown",
   "metadata": {},
   "source": [
    "### Eine Funktion definieren und aufrufen\n",
    "Wir haben schon einige Funktionen kennengelernt, die uns Python zur Verfügung stellt. Die Funktion, die wir bislang wohl am häufigsten verwendet haben, ist die print-Funktion:"
   ]
  },
  {
   "cell_type": "code",
   "execution_count": 1,
   "metadata": {},
   "outputs": [
    {
     "name": "stdout",
     "output_type": "stream",
     "text": [
      "HALLO WELT\n"
     ]
    }
   ],
   "source": [
    "print(\"HALLO WELT\")"
   ]
  },
  {
   "cell_type": "markdown",
   "metadata": {},
   "source": [
    "P.S. Eine Übersicht über Funktionen in Python findest du hier: https://docs.python.org/3/library/functions.html"
   ]
  },
  {
   "cell_type": "markdown",
   "metadata": {},
   "source": [
    "Wenn wir eine eigene Funktion verwenden wollen, müssen wir sie zuerst definieren. Eine solche Funktionsdefinition hat die allgemeine Syntax:\n",
    "\n",
    "**def Funktionname():**\n",
    "<br>\n",
    "&nbsp;&nbsp;&nbsp;&nbsp;&nbsp;&nbsp; **Code**"
   ]
  },
  {
   "cell_type": "code",
   "execution_count": 1,
   "metadata": {},
   "outputs": [],
   "source": [
    "def multi_print():\n",
    "    print(\"Hallo Welt!\")\n",
    "    print(\"Hallo Welt!\")"
   ]
  },
  {
   "cell_type": "markdown",
   "metadata": {},
   "source": [
    "Um eine Funktion auszuführen, die definiert wurde, schreiben wir: **Funktionname()**"
   ]
  },
  {
   "cell_type": "code",
   "execution_count": 5,
   "metadata": {},
   "outputs": [
    {
     "name": "stdout",
     "output_type": "stream",
     "text": [
      "Hallo Welt!\n",
      "Hallo Welt!\n"
     ]
    }
   ],
   "source": [
    "multi_print()"
   ]
  },
  {
   "cell_type": "code",
   "execution_count": 10,
   "metadata": {},
   "outputs": [
    {
     "name": "stdout",
     "output_type": "stream",
     "text": [
      "Clava\n",
      "Clava\n"
     ]
    }
   ],
   "source": [
    "def say_my_name():\n",
    "    print(\"Clava\")\n",
    "    print(\"Clava\")\n",
    "say_my_name()"
   ]
  },
  {
   "cell_type": "markdown",
   "metadata": {},
   "source": [
    "### Funktionen mit einem Argument\n",
    "Man kann Funktionen ein **Argument** übergeben, d. h. einen Wert, von dem der Code innerhalb der Funktion abhängt:\n",
    "\n",
    "\n",
    "**def Funktionsname(Argument):**\n",
    "<br>\n",
    "&nbsp;&nbsp;&nbsp;&nbsp;&nbsp;&nbsp; **Code, in dem mit dem spezifischen Argument gearbeitet wird**"
   ]
  },
  {
   "cell_type": "code",
   "execution_count": 6,
   "metadata": {},
   "outputs": [
    {
     "name": "stdout",
     "output_type": "stream",
     "text": [
      "HALLO\n",
      "HALLO\n",
      "WELT\n",
      "WELT\n"
     ]
    }
   ],
   "source": [
    "def multi_print2(name):\n",
    "    print(name)\n",
    "    print(name)\n",
    "    \n",
    "multi_print2(\"HALLO\")\n",
    "multi_print2(\"WELT\")"
   ]
  },
  {
   "cell_type": "code",
   "execution_count": 14,
   "metadata": {},
   "outputs": [
    {
     "name": "stdout",
     "output_type": "stream",
     "text": [
      "Hi.\n",
      "Hi.\n",
      "Hi.\n"
     ]
    }
   ],
   "source": [
    "def clava_repeating(x):\n",
    "    print(x)\n",
    "    print(x)\n",
    "    print(x)\n",
    "clava_repeating(\"Hi.\")"
   ]
  },
  {
   "cell_type": "code",
   "execution_count": 24,
   "metadata": {},
   "outputs": [
    {
     "name": "stdout",
     "output_type": "stream",
     "text": [
      "Hallo Plotti!\n"
     ]
    }
   ],
   "source": [
    "def hallo(var1):\n",
    "    print(\"Hallo \" + var1 + \"!\")\n",
    "hallo(\"Plotti\")"
   ]
  },
  {
   "cell_type": "code",
   "execution_count": 26,
   "metadata": {},
   "outputs": [
    {
     "name": "stdout",
     "output_type": "stream",
     "text": [
      "Hallo Thomas Ebermann.\n"
     ]
    }
   ],
   "source": [
    "def hello(vorname,name):\n",
    "    print(\"Hallo \" + vorname + \" \" + name +\".\")\n",
    "hello(\"Thomas\", \"Ebermann\")"
   ]
  },
  {
   "cell_type": "markdown",
   "metadata": {},
   "source": [
    "Du kannst dir einen solchen Parameter als eine zu einer Funktion gehörige Variable vorstellen. Vermeide es, einen Funktionsparameter wie eine bereits bestehende Variable zu benennen - Verwirrungsgefahr!"
   ]
  },
  {
   "cell_type": "code",
   "execution_count": 18,
   "metadata": {},
   "outputs": [
    {
     "name": "stdout",
     "output_type": "stream",
     "text": [
      "HALLO\n",
      "HALLO\n",
      "WELT\n",
      "WELT\n",
      "MARS\n"
     ]
    }
   ],
   "source": [
    "name = \"MARS\"\n",
    "\n",
    "def multi_print2(name):\n",
    "    print(name)\n",
    "    print(name)\n",
    "    \n",
    "multi_print2(\"HALLO\")\n",
    "multi_print2(\"WELT\")\n",
    "\n",
    "print(name)"
   ]
  },
  {
   "cell_type": "markdown",
   "metadata": {},
   "source": [
    "Du siehst, dass der Wert der Variable _name_ keinen Einfluss auf das Argument _name_ der Funktion hat! Die Variable _name_ außerhalb der Funktion ist also eine andere Variable als die Variable _name_ innerhalb der Funktion. \n",
    "\n",
    "Daher Achtung: Das macht den Code unübersichtlich!"
   ]
  },
  {
   "cell_type": "markdown",
   "metadata": {},
   "source": [
    "### Weitere Funktionen in Python"
   ]
  },
  {
   "cell_type": "markdown",
   "metadata": {},
   "source": [
    "Auch die len-Funktion für Listen kennst du schon. :-) "
   ]
  },
  {
   "cell_type": "code",
   "execution_count": 1,
   "metadata": {},
   "outputs": [
    {
     "name": "stdout",
     "output_type": "stream",
     "text": [
      "2\n"
     ]
    }
   ],
   "source": [
    "print(len([\"Hallo\", \"Welt\"]))"
   ]
  },
  {
   "cell_type": "markdown",
   "metadata": {},
   "source": [
    "Du kannst die len-Funktion auch auf Strings anwenden."
   ]
  },
  {
   "cell_type": "code",
   "execution_count": 2,
   "metadata": {},
   "outputs": [
    {
     "name": "stdout",
     "output_type": "stream",
     "text": [
      "5\n"
     ]
    }
   ],
   "source": [
    "print(len(\"Hallo\"))"
   ]
  },
  {
   "cell_type": "markdown",
   "metadata": {},
   "source": [
    "## Übung\n",
    "\n",
    "Schreibe eine Funktion, die den Gesamtpreis der Produkte im Warenkorb berechnet!\n",
    "Vervollständige die Funktion list_sum(), der als Parameter eine Liste mit den Preisen übergeben wird. Die Funktion soll dann die Summe der Zahlen aus der Liste ausgeben."
   ]
  },
  {
   "cell_type": "code",
   "execution_count": 2,
   "metadata": {},
   "outputs": [
    {
     "name": "stdout",
     "output_type": "stream",
     "text": [
      "Der Gesamtpreis ist: 63.95\n"
     ]
    }
   ],
   "source": [
    "cart_prices = [20, 3.5, 6.49, 8.99, 9.99, 14.98]\n",
    "\n",
    "def list_sum(preisliste):\n",
    "    sum = 0 \n",
    "    for preis in preisliste:  #preis könnte auch als i definiert werden\n",
    "        sum = sum + preis\n",
    "    print(\"Der Gesamtpreis ist: \" + str(sum))\n",
    "    \n",
    "list_sum(cart_prices)\n",
    "        "
   ]
  },
  {
   "cell_type": "markdown",
   "metadata": {},
   "source": [
    "## Funktionen mit mehreren Argumenten\n",
    "\n",
    "Eine Funktion darf auch mehrere Argumente enthalten:\n",
    "\n",
    "**def Funktionenname(Argument1, Argument2, ...):**\n",
    "<br>\n",
    "&nbsp;&nbsp;&nbsp;&nbsp;&nbsp;&nbsp; **Code, in dem mit Argument1, Argument2,... gearbeitet wird**"
   ]
  },
  {
   "cell_type": "code",
   "execution_count": 1,
   "metadata": {
    "scrolled": true
   },
   "outputs": [
    {
     "name": "stdout",
     "output_type": "stream",
     "text": [
      "Hallo!\n",
      "Hallo!\n",
      "Hallo!\n",
      "Hallo!\n",
      "Hallo!\n"
     ]
    }
   ],
   "source": [
    "def multi_print(name, count):\n",
    "    for i in range(0, count):\n",
    "        print(name)\n",
    "        \n",
    "multi_print(\"Hallo!\", 5)"
   ]
  },
  {
   "cell_type": "markdown",
   "metadata": {},
   "source": [
    "### Funktionen in Funktionen\n",
    "Funktionen können auch ineinander geschachtelt werden:"
   ]
  },
  {
   "cell_type": "code",
   "execution_count": 5,
   "metadata": {
    "collapsed": true
   },
   "outputs": [],
   "source": [
    "def weitere_funktion():\n",
    "    multi_print(\"Hallo!\", 3)\n",
    "    multi_print(\"Welt!\", 3)"
   ]
  },
  {
   "cell_type": "code",
   "execution_count": 6,
   "metadata": {
    "scrolled": true
   },
   "outputs": [
    {
     "name": "stdout",
     "output_type": "stream",
     "text": [
      "Hallo!\n",
      "Hallo!\n",
      "Hallo!\n",
      "Welt!\n",
      "Welt!\n",
      "Welt!\n"
     ]
    }
   ],
   "source": [
    "weitere_funktion()"
   ]
  },
  {
   "cell_type": "code",
   "execution_count": 8,
   "metadata": {},
   "outputs": [
    {
     "name": "stdout",
     "output_type": "stream",
     "text": [
      "Hallo Mutti\n",
      "Hallo Vatti\n"
     ]
    }
   ],
   "source": [
    "def hallo_m():\n",
    "    print(\"Hallo Mutti\")\n",
    "def hallo_v():\n",
    "    print(\"Hallo Vatti\")\n",
    "def hallo_f():\n",
    "    hallo_m()\n",
    "    hallo_v()\n",
    "    # FALSCH!!! print(str(hallo_m) + str(hallo_v))\n",
    "\n",
    "hallo_f()"
   ]
  },
  {
   "cell_type": "code",
   "execution_count": 26,
   "metadata": {},
   "outputs": [
    {
     "name": "stdout",
     "output_type": "stream",
     "text": [
      "Ciao Mutti\n",
      "Ciao Vatti\n"
     ]
    }
   ],
   "source": [
    "#obige Funktion so abändern, dass diese Ciao Mutti oder Vati schreibt.\n",
    "\n",
    "def hallo_m(begrüssung):\n",
    "    print(begrüssung + \"Mutti\")\n",
    "def hallo_v(begrüssung):\n",
    "    print(begrüssung + \"Vatti\")\n",
    "def hallo_f(begrüssung):\n",
    "    hallo_m(begrüssung)\n",
    "    hallo_v(begrüssung)\n",
    "                                    # Funktioniert:  nicht print(\"Ciao \" + str(family))\n",
    "hallo_f(\"Ciao \")"
   ]
  },
  {
   "cell_type": "markdown",
   "metadata": {},
   "source": [
    "### Einen Wert zurückgeben\n",
    "Bislang führen wir mit Funktionen einen Codeblock aus, der von Argumenten abhängen kann. Funktionen können aber auch mittels des Befehls **return** Werte zurückgeben. "
   ]
  },
  {
   "cell_type": "code",
   "execution_count": 2,
   "metadata": {
    "scrolled": true
   },
   "outputs": [
    {
     "name": "stdout",
     "output_type": "stream",
     "text": [
      "Hi\n"
     ]
    }
   ],
   "source": [
    "def return_element(name):\n",
    "    return name\n",
    "\n",
    "print(return_element(\"Hi\"))"
   ]
  },
  {
   "cell_type": "markdown",
   "metadata": {},
   "source": [
    "Solche Funktionen mit return können wir dann wie Variablen behandeln:"
   ]
  },
  {
   "cell_type": "code",
   "execution_count": 27,
   "metadata": {},
   "outputs": [
    {
     "name": "stdout",
     "output_type": "stream",
     "text": [
      "Right!\n"
     ]
    }
   ],
   "source": [
    "def return_with_exclamation(name):\n",
    "    return name + \"!\"\n",
    "\n",
    "if return_with_exclamation(\"Hi\") == \"Hi!\":\n",
    "    print(\"Right!\")\n",
    "else:\n",
    "    print(\"Wrong.\")"
   ]
  },
  {
   "cell_type": "code",
   "execution_count": 28,
   "metadata": {},
   "outputs": [
    {
     "name": "stdout",
     "output_type": "stream",
     "text": [
      "5\n"
     ]
    }
   ],
   "source": [
    "def maximum(a, b):\n",
    "    if a < b:\n",
    "        return b\n",
    "    else:\n",
    "        return a\n",
    "\n",
    "result = maximum(4, 5)\n",
    "print(result)"
   ]
  },
  {
   "cell_type": "markdown",
   "metadata": {},
   "source": [
    "## Übung\n",
    "\n",
    "In Amerika ist es üblich \"Tips\" zu geben. Du möchtest eine Funktion schreiben der du den Preis des Essens eingibst, die erhöhung in % und eine Tabelle erhälst die dir hilft genug tipp zu geben. \n",
    "stehen. Genauer soll jedes Element in der Liste so aussehen: \"Anzahl x Artikel: Preis\".\n"
   ]
  },
  {
   "cell_type": "code",
   "execution_count": 34,
   "metadata": {},
   "outputs": [
    {
     "name": "stdout",
     "output_type": "stream",
     "text": [
      "Der Preis des Essens ist: 20\n",
      "Mit 5% Trinkgeld: 21.0\n",
      "Mit 10% Trinkgeld: 22.0\n",
      "Mit 15% Trinkgeld: 23.0\n",
      "None\n"
     ]
    }
   ],
   "source": [
    "def tipp_generator(price):\n",
    "    print(\"Der Preis des Essens ist: \" + str(price))\n",
    "    print(\"Mit 5% Trinkgeld: \" + str(price*1.05))    \n",
    "    print(\"Mit 10% Trinkgeld: \" + str(price*1.1))\n",
    "    print(\"Mit 15% Trinkgeld: \" + str(price*1.15))\n",
    "result = tipp_generator(20) \n",
    "print(result)"
   ]
  },
  {
   "cell_type": "code",
   "execution_count": 37,
   "metadata": {},
   "outputs": [
    {
     "name": "stdout",
     "output_type": "stream",
     "text": [
      "Der Preis des Essens ist: 20\n",
      "Mit 5% Trinkgeld: 21.0.\n"
     ]
    }
   ],
   "source": [
    "#percent integrieren\n",
    "def tipp_generator(price,percent):\n",
    "    print(\"Der Preis des Essens ist: \" + str(price))\n",
    "    print(\"Mit \" + str(percent) + \"% Trinkgeld: \" + str(price*((percent)/100+1)) + \".\")\n",
    "tipp_generator(20,5)"
   ]
  },
  {
   "cell_type": "code",
   "execution_count": 38,
   "metadata": {},
   "outputs": [
    {
     "name": "stdout",
     "output_type": "stream",
     "text": [
      "Preis des Essens:10\n",
      "Mit 10.0% ist der Preis: 11.0\n",
      "Mit 20.0% ist der Preis: 12.0\n",
      "Mit 30.000000000000004% ist der Preis: 13.0\n"
     ]
    }
   ],
   "source": [
    "#Advanced Lösung\n",
    "def print_percentages(price,percent,multiplikator):\n",
    "    print(\"Mit \"+ str(percent*multiplikator*100) + \"% ist der Preis: \" + str(price*(1+percent*multiplikator)))\n",
    "\n",
    "def tipp_generator(price,percent):\n",
    "    print(\"Preis des Essens:\" + str(price))\n",
    "    for i in range(1,4):\n",
    "        print_percentages(price,percent,i)\n",
    "    \n",
    "tipp_generator(10,0.1)"
   ]
  },
  {
   "cell_type": "markdown",
   "metadata": {},
   "source": [
    "# Funktionen vs. Methoden"
   ]
  },
  {
   "cell_type": "markdown",
   "metadata": {},
   "source": [
    "### Funktionen\n",
    "Bei ihrem Aufruf stehen Funktionen \"für sich\" und das, worauf sie sich beziehen steht ggf. als Argument in den Klammern hinter ihnen:"
   ]
  },
  {
   "cell_type": "code",
   "execution_count": 36,
   "metadata": {
    "collapsed": true
   },
   "outputs": [],
   "source": [
    "liste = [1, 2, 3]"
   ]
  },
  {
   "cell_type": "code",
   "execution_count": 28,
   "metadata": {
    "scrolled": true
   },
   "outputs": [
    {
     "name": "stdout",
     "output_type": "stream",
     "text": [
      "[1, 2, 3]\n"
     ]
    }
   ],
   "source": [
    "print(liste)"
   ]
  },
  {
   "cell_type": "code",
   "execution_count": 29,
   "metadata": {},
   "outputs": [
    {
     "name": "stdout",
     "output_type": "stream",
     "text": [
      "3\n"
     ]
    }
   ],
   "source": [
    "print(len(liste))"
   ]
  },
  {
   "cell_type": "markdown",
   "metadata": {},
   "source": [
    "### Methoden\n",
    "Daneben kennen wir aber auch schon Befehle, die mit einem Punkt an Objekte angehängt werden. Eine Liste ist ein solches **Objekt**. Jedes Objekt hat Methoden, auf die wir zurückgreifen können. Diese Methoden können wir aber nicht auf ein Objekt eines anderen Typs anwenden (meistens zumindest).\n",
    "\n",
    "Schauen wir uns einige nützliche Methoden des Listen-Objektes an :-) (du brauchst sie dir nicht alle merken)"
   ]
  },
  {
   "cell_type": "code",
   "execution_count": 37,
   "metadata": {},
   "outputs": [
    {
     "name": "stdout",
     "output_type": "stream",
     "text": [
      "[1, 2, 3, 4]\n"
     ]
    }
   ],
   "source": [
    "# ein Element anhängen\n",
    "liste.append(4)\n",
    "\n",
    "print(liste)"
   ]
  },
  {
   "cell_type": "code",
   "execution_count": 39,
   "metadata": {},
   "outputs": [
    {
     "data": {
      "text/plain": [
       "2"
      ]
     },
     "execution_count": 39,
     "metadata": {},
     "output_type": "execute_result"
    }
   ],
   "source": [
    "# ein Element an einem bestimmten Index entfernen\n",
    "liste.pop(2)"
   ]
  },
  {
   "cell_type": "code",
   "execution_count": null,
   "metadata": {
    "collapsed": true
   },
   "outputs": [],
   "source": [
    "# wir sehen, dass die Methode nicht die aktualisierte Liste, sondern das entfernte Element liefert"
   ]
  },
  {
   "cell_type": "code",
   "execution_count": 40,
   "metadata": {
    "scrolled": true
   },
   "outputs": [
    {
     "name": "stdout",
     "output_type": "stream",
     "text": [
      "[1, 4, 3, 4]\n"
     ]
    }
   ],
   "source": [
    "print(liste)"
   ]
  },
  {
   "cell_type": "code",
   "execution_count": 41,
   "metadata": {
    "collapsed": true
   },
   "outputs": [],
   "source": [
    " # Ein Element an einer bestimmten Stelle einfügen\n",
    "# das erste Argument bei insert gibt an, welches Element in die Liste eingefügt wird, \n",
    "# das zweite Argument bei insert gibt an, an welcher Stelle das Element eingefügt wird; \n",
    "# beachte, dass der Index des ersten Elements in einer Liste 0 ist! \n",
    "liste.insert(1, 4)\n",
    "\n",
    "print(liste)"
   ]
  },
  {
   "cell_type": "code",
   "execution_count": null,
   "metadata": {
    "collapsed": true
   },
   "outputs": [],
   "source": [
    "# ein Element entfernen\n",
    "liste.remove(4)\n",
    "\n",
    "print(liste)"
   ]
  },
  {
   "cell_type": "code",
   "execution_count": 21,
   "metadata": {},
   "outputs": [
    {
     "name": "stdout",
     "output_type": "stream",
     "text": [
      "4\n"
     ]
    }
   ],
   "source": [
    "# den Index eines Elementes angeben (die erste Stelle, an der es vorkommt)\n",
    "print(liste.index(3))"
   ]
  },
  {
   "cell_type": "code",
   "execution_count": 23,
   "metadata": {},
   "outputs": [
    {
     "name": "stdout",
     "output_type": "stream",
     "text": [
      "1\n"
     ]
    }
   ],
   "source": [
    "print(liste.index(4))"
   ]
  },
  {
   "cell_type": "code",
   "execution_count": 24,
   "metadata": {},
   "outputs": [
    {
     "name": "stdout",
     "output_type": "stream",
     "text": [
      "3\n"
     ]
    }
   ],
   "source": [
    "print(liste.count(4))"
   ]
  },
  {
   "cell_type": "code",
   "execution_count": 19,
   "metadata": {},
   "outputs": [
    {
     "name": "stdout",
     "output_type": "stream",
     "text": [
      "[1, 4, 4, 4, 3]\n"
     ]
    }
   ],
   "source": [
    "# mit reverse können wir die Reihenfolge einer Liste umkehren\n",
    "liste.reverse()\n",
    "print(liste)"
   ]
  },
  {
   "cell_type": "markdown",
   "metadata": {},
   "source": [
    "# Übung"
   ]
  },
  {
   "cell_type": "markdown",
   "metadata": {},
   "source": [
    "Wann braucht man funktionen und wann methoden?"
   ]
  },
  {
   "cell_type": "code",
   "execution_count": null,
   "metadata": {},
   "outputs": [],
   "source": []
  }
 ],
 "metadata": {
  "kernelspec": {
   "display_name": "Python 3",
   "language": "python",
   "name": "python3"
  },
  "language_info": {
   "codemirror_mode": {
    "name": "ipython",
    "version": 3
   },
   "file_extension": ".py",
   "mimetype": "text/x-python",
   "name": "python",
   "nbconvert_exporter": "python",
   "pygments_lexer": "ipython3",
   "version": "3.7.0"
  }
 },
 "nbformat": 4,
 "nbformat_minor": 2
}
