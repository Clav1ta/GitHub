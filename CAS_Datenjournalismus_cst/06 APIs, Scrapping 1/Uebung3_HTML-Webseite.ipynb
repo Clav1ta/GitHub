{
 "cells": [
  {
   "cell_type": "markdown",
   "metadata": {},
   "source": [
    "# HTML-Webseite"
   ]
  },
  {
   "cell_type": "markdown",
   "metadata": {},
   "source": [
    "HTML-File in Jubyter Notebook importieren"
   ]
  },
  {
   "cell_type": "code",
   "execution_count": 29,
   "metadata": {},
   "outputs": [
    {
     "data": {
      "text/plain": [
       "<_io.TextIOWrapper name='Html_Testfile.htm' mode='r' encoding='UTF-8'>"
      ]
     },
     "execution_count": 29,
     "metadata": {},
     "output_type": "execute_result"
    }
   ],
   "source": [
    "file = open('Html_Testfile.htm','r')\n",
    "file"
   ]
  },
  {
   "cell_type": "markdown",
   "metadata": {},
   "source": [
    "mode = 'r' > ist im Reading-Modus.  \n",
    "besser Kürzel htm verwenden statt html"
   ]
  },
  {
   "cell_type": "code",
   "execution_count": 30,
   "metadata": {},
   "outputs": [
    {
     "data": {
      "text/plain": [
       "'<!DOCTYPE html>\\n<html>\\n<title>Clavas HTML-Tutorial</title>\\n<body>\\n\\n<h1>hier wäre eine Überschrift</h1>\\n<p>Das sollte normaler Text sein. Das glaube ich zumindest...</p>\\n\\n<ul>\\n  <li>ich</li> \\n  <li>du</li>\\n  <li>er/sie</li>\\n  </ul>\\n\\n</body>\\n</html>\\n'"
      ]
     },
     "execution_count": 30,
     "metadata": {},
     "output_type": "execute_result"
    }
   ],
   "source": [
    "file.read()"
   ]
  },
  {
   "cell_type": "markdown",
   "metadata": {},
   "source": [
    "Herausziehen der Liste ich, du, er aus der Webseite. Um das zu können braucht es eine spezifische Library: BeautifulSoup"
   ]
  },
  {
   "cell_type": "code",
   "execution_count": 31,
   "metadata": {},
   "outputs": [
    {
     "data": {
      "text/plain": [
       "<_io.TextIOWrapper name='Html_Testfile.htm' mode='r' encoding='UTF-8'>"
      ]
     },
     "execution_count": 31,
     "metadata": {},
     "output_type": "execute_result"
    }
   ],
   "source": [
    "#spuckt die Metadaten aus: Wie Name des Files, Modus (ist es ein Lese- oder Schreibfile) und das Format\n",
    "\n",
    "open('Html_Testfile.htm','r')"
   ]
  },
  {
   "cell_type": "code",
   "execution_count": 32,
   "metadata": {},
   "outputs": [],
   "source": [
    "# als Variable ablegen und mit f auslesen was drin ist\n",
    "\n",
    "f = open('Html_Testfile.htm','r').read()"
   ]
  },
  {
   "cell_type": "code",
   "execution_count": 33,
   "metadata": {},
   "outputs": [
    {
     "data": {
      "text/plain": [
       "'<!DOCTYPE html>\\n<html>\\n<title>Clavas HTML-Tutorial</title>\\n<body>\\n\\n<h1>hier wäre eine Überschrift</h1>\\n<p>Das sollte normaler Text sein. Das glaube ich zumindest...</p>\\n\\n<ul>\\n  <li>ich</li> \\n  <li>du</li>\\n  <li>er/sie</li>\\n  </ul>\\n\\n</body>\\n</html>\\n'"
      ]
     },
     "execution_count": 33,
     "metadata": {},
     "output_type": "execute_result"
    }
   ],
   "source": [
    "f"
   ]
  },
  {
   "cell_type": "code",
   "execution_count": 34,
   "metadata": {},
   "outputs": [],
   "source": [
    "from bs4 import BeautifulSoup"
   ]
  },
  {
   "cell_type": "code",
   "execution_count": 35,
   "metadata": {},
   "outputs": [],
   "source": [
    "# File f so formatieren dass es von BeutifulSoup gelesen werden kann\n",
    "# braucht 2 Parameter die definiert werden müssen\n",
    "# am Schluss \"ltml\" oder \"html.parser\"\n",
    "\n",
    "soup = BeautifulSoup(f,\"html.parser\")"
   ]
  },
  {
   "cell_type": "code",
   "execution_count": 36,
   "metadata": {},
   "outputs": [
    {
     "data": {
      "text/plain": [
       "<!DOCTYPE html>\n",
       "\n",
       "<html>\n",
       "<title>Clavas HTML-Tutorial</title>\n",
       "<body>\n",
       "<h1>hier wäre eine Überschrift</h1>\n",
       "<p>Das sollte normaler Text sein. Das glaube ich zumindest...</p>\n",
       "<ul>\n",
       "<li>ich</li>\n",
       "<li>du</li>\n",
       "<li>er/sie</li>\n",
       "</ul>\n",
       "</body>\n",
       "</html>"
      ]
     },
     "execution_count": 36,
     "metadata": {},
     "output_type": "execute_result"
    }
   ],
   "source": [
    "soup"
   ]
  },
  {
   "cell_type": "code",
   "execution_count": 37,
   "metadata": {},
   "outputs": [
    {
     "data": {
      "text/plain": [
       "[<li>ich</li>, <li>du</li>, <li>er/sie</li>]"
      ]
     },
     "execution_count": 37,
     "metadata": {},
     "output_type": "execute_result"
    }
   ],
   "source": [
    "soup.find_all('li')"
   ]
  },
  {
   "cell_type": "code",
   "execution_count": 42,
   "metadata": {},
   "outputs": [
    {
     "name": "stdout",
     "output_type": "stream",
     "text": [
      "<li>ich</li>\n",
      "<li>du</li>\n",
      "<li>er/sie</li>\n"
     ]
    }
   ],
   "source": [
    "#kreieren einer neuen leeren Liste und loopen darüber hinein\n",
    "\n",
    "lst=[]\n",
    "for elem in soup.find_all('li'):\n",
    "    print(elem)\n",
    "    #elem = elem.text.strip()\n",
    "    lst.append(elem.text)"
   ]
  },
  {
   "cell_type": "code",
   "execution_count": 40,
   "metadata": {},
   "outputs": [
    {
     "data": {
      "text/plain": [
       "['ich', 'du', 'er/sie']"
      ]
     },
     "execution_count": 40,
     "metadata": {},
     "output_type": "execute_result"
    }
   ],
   "source": [
    "lst"
   ]
  },
  {
   "cell_type": "code",
   "execution_count": null,
   "metadata": {},
   "outputs": [],
   "source": []
  }
 ],
 "metadata": {
  "kernelspec": {
   "display_name": "Python 3",
   "language": "python",
   "name": "python3"
  },
  "language_info": {
   "codemirror_mode": {
    "name": "ipython",
    "version": 3
   },
   "file_extension": ".py",
   "mimetype": "text/x-python",
   "name": "python",
   "nbconvert_exporter": "python",
   "pygments_lexer": "ipython3",
   "version": "3.7.0"
  }
 },
 "nbformat": 4,
 "nbformat_minor": 2
}
