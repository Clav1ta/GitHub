{
 "cells": [
  {
   "cell_type": "markdown",
   "metadata": {},
   "source": [
    "# Opendata.swiss"
   ]
  },
  {
   "cell_type": "markdown",
   "metadata": {},
   "source": [
    "Neuste Datensätze mit API-Anbindung  \n",
    "https://opendata.swiss/en/ > Data > last modified > json  \n",
    "https://opendata.swiss/en/dataset?res_format=JSON&q=&sort=metadata_modified+desc  "
   ]
  },
  {
   "cell_type": "code",
   "execution_count": 12,
   "metadata": {},
   "outputs": [],
   "source": [
    "import requests"
   ]
  },
  {
   "cell_type": "code",
   "execution_count": null,
   "metadata": {},
   "outputs": [],
   "source": [
    "# Wenn man ein grosses JSON-File zurück bekommt und sich schnell einen Überblick über den Aufbau verschaffen will, kann man es schnell in diese Seite kopieren und \"Validate JSON\" klicken unten, dann rückt es das JSON nach seiner Struktur ein,  und man kann auch mit den kleinen Pfeilen links ganze Blöcke ein- und ausklappen, kann noch hilfreich sein :wink:\n",
    "https://jsonlint.com/\n",
    "    \n",
    "# Liste der städtischen Jugitreffs unter https://opendata.swiss/en/dataset/jugendtreff \n",
    "# API-Dokumentation zu den Jugendtreffs: https://opendata.swiss/en/dataset/jugendtreff/resource/21092a8a-b297-4f2a-b039-85cf9b5e0ae8"
   ]
  },
  {
   "cell_type": "code",
   "execution_count": 36,
   "metadata": {},
   "outputs": [],
   "source": [
    "r = requests.get(\"https://data.stadt-zuerich.ch/dataset/jugendtreff/resource/d42c2110-4bbd-4301-8455-1a02bc7e3efb/download/jugendtreff.json\")"
   ]
  },
  {
   "cell_type": "code",
   "execution_count": 37,
   "metadata": {},
   "outputs": [
    {
     "name": "stdout",
     "output_type": "stream",
     "text": [
      "<Response [200]>\n"
     ]
    }
   ],
   "source": [
    "print(r)"
   ]
  },
  {
   "cell_type": "code",
   "execution_count": 38,
   "metadata": {},
   "outputs": [
    {
     "data": {
      "text/plain": [
       "requests.models.Response"
      ]
     },
     "execution_count": 38,
     "metadata": {},
     "output_type": "execute_result"
    }
   ],
   "source": [
    "type(r)"
   ]
  },
  {
   "cell_type": "code",
   "execution_count": 39,
   "metadata": {},
   "outputs": [],
   "source": [
    "r = r.json()"
   ]
  },
  {
   "cell_type": "code",
   "execution_count": 40,
   "metadata": {},
   "outputs": [
    {
     "data": {
      "text/plain": [
       "dict_keys(['name', 'type', 'features'])"
      ]
     },
     "execution_count": 40,
     "metadata": {},
     "output_type": "execute_result"
    }
   ],
   "source": [
    "r.keys()"
   ]
  },
  {
   "cell_type": "code",
   "execution_count": null,
   "metadata": {},
   "outputs": [],
   "source": []
  }
 ],
 "metadata": {
  "kernelspec": {
   "display_name": "Python 3",
   "language": "python",
   "name": "python3"
  },
  "language_info": {
   "codemirror_mode": {
    "name": "ipython",
    "version": 3
   },
   "file_extension": ".py",
   "mimetype": "text/x-python",
   "name": "python",
   "nbconvert_exporter": "python",
   "pygments_lexer": "ipython3",
   "version": "3.7.0"
  }
 },
 "nbformat": 4,
 "nbformat_minor": 2
}
