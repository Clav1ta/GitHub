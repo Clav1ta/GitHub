{
 "cells": [
  {
   "cell_type": "markdown",
   "metadata": {},
   "source": [
    "## Dictionaries in Python\n",
    "\n",
    "Dictionaries sind unglaublich praktisch, damit kannst du z. B. folgendes machen:\n",
    "\n",
    "- Du kannst Wertezuordnungen speichern (z.B. Telefonbuch: Ein Nachname hat eine Telefonnummer).\n",
    "- Du kannst nachträglich Elemente verändern / entfernen / hinzufügen.\n",
    "- Dictionaries brauchst du wirklich immer wieder...\n",
    "\n",
    "Machen wir mal ein Beispiel..."
   ]
  },
  {
   "cell_type": "code",
   "execution_count": 19,
   "metadata": {},
   "outputs": [],
   "source": [
    "d = {\"Berlin\": \"BER\", \"Helsinki\": \"HEL\", \"Saigon\": \"SGN\"}"
   ]
  },
  {
   "cell_type": "code",
   "execution_count": 20,
   "metadata": {},
   "outputs": [
    {
     "name": "stdout",
     "output_type": "stream",
     "text": [
      "{'Berlin': 'BER', 'Helsinki': 'HEL', 'Saigon': 'SGN'}\n"
     ]
    }
   ],
   "source": [
    "print(d)"
   ]
  },
  {
   "cell_type": "markdown",
   "metadata": {},
   "source": [
    "Zugriff auf ein einzelnes Element:"
   ]
  },
  {
   "cell_type": "code",
   "execution_count": 21,
   "metadata": {},
   "outputs": [
    {
     "name": "stdout",
     "output_type": "stream",
     "text": [
      "HEL\n",
      "SGN\n"
     ]
    }
   ],
   "source": [
    "print(d[\"Helsinki\"])\n",
    "print(d[\"Saigon\"])"
   ]
  },
  {
   "cell_type": "code",
   "execution_count": 22,
   "metadata": {},
   "outputs": [
    {
     "name": "stdout",
     "output_type": "stream",
     "text": [
      "{'Clava': 'w', 'Peter': 'm', 'Denise': 'w'}\n"
     ]
    }
   ],
   "source": [
    "d_c = {\"Clava\": \"w\", \"Peter\": \"m\", \"Denise\": \"w\"}\n",
    "print(d_c)"
   ]
  },
  {
   "cell_type": "code",
   "execution_count": 23,
   "metadata": {},
   "outputs": [
    {
     "name": "stdout",
     "output_type": "stream",
     "text": [
      "m\n"
     ]
    }
   ],
   "source": [
    "print(d_c[\"Peter\"])"
   ]
  },
  {
   "cell_type": "markdown",
   "metadata": {},
   "source": [
    "Hiermit überschreibst du ein einzelnes Element:"
   ]
  },
  {
   "cell_type": "code",
   "execution_count": 24,
   "metadata": {},
   "outputs": [],
   "source": [
    "d[\"Budapest\"] = \"BUD\""
   ]
  },
  {
   "cell_type": "code",
   "execution_count": 25,
   "metadata": {},
   "outputs": [
    {
     "name": "stdout",
     "output_type": "stream",
     "text": [
      "{'Berlin': 'BER', 'Helsinki': 'HEL', 'Saigon': 'SGN', 'Budapest': 'BUD'}\n"
     ]
    }
   ],
   "source": [
    "print(d)"
   ]
  },
  {
   "cell_type": "code",
   "execution_count": 26,
   "metadata": {},
   "outputs": [
    {
     "name": "stdout",
     "output_type": "stream",
     "text": [
      "{'Clava': 'w', 'Peter': 'm', 'Denise': 'w', 'Lea': 'w'}\n"
     ]
    }
   ],
   "source": [
    "d_c[\"Lea\"] = \"w\"\n",
    "print(d_c)"
   ]
  },
  {
   "cell_type": "markdown",
   "metadata": {},
   "source": [
    "## Übung"
   ]
  },
  {
   "cell_type": "markdown",
   "metadata": {},
   "source": [
    "Legt ein eigenes Dict für die schweiz an mit den Flughäfen und den Abkürzungen. "
   ]
  },
  {
   "cell_type": "code",
   "execution_count": null,
   "metadata": {},
   "outputs": [],
   "source": []
  },
  {
   "cell_type": "markdown",
   "metadata": {},
   "source": [
    "## Element entfernen"
   ]
  },
  {
   "cell_type": "code",
   "execution_count": 9,
   "metadata": {
    "collapsed": true
   },
   "outputs": [],
   "source": [
    "del d[\"Budapest\"]"
   ]
  },
  {
   "cell_type": "code",
   "execution_count": 10,
   "metadata": {},
   "outputs": [
    {
     "name": "stdout",
     "output_type": "stream",
     "text": [
      "{'Berlin': 'BER', 'Helsinki': 'HEL', 'Saigon': 'SGN'}\n"
     ]
    }
   ],
   "source": [
    "print(d)"
   ]
  },
  {
   "cell_type": "code",
   "execution_count": 27,
   "metadata": {},
   "outputs": [
    {
     "name": "stdout",
     "output_type": "stream",
     "text": [
      "{'Peter': 'm', 'Denise': 'w', 'Lea': 'w'}\n"
     ]
    }
   ],
   "source": [
    "del d_c[\"Clava\"]\n",
    "print(d_c)"
   ]
  },
  {
   "cell_type": "markdown",
   "metadata": {},
   "source": [
    "## Abfrage: Ist ein Element im Dictionary?"
   ]
  },
  {
   "cell_type": "code",
   "execution_count": 11,
   "metadata": {},
   "outputs": [
    {
     "name": "stdout",
     "output_type": "stream",
     "text": [
      "Saigon ist im Dicionary enthalten\n"
     ]
    }
   ],
   "source": [
    "if \"Budapest\" in d:\n",
    "    print(\"Budapest ist im Dictionary enthalten\")\n",
    "if \"Saigon\" in d:\n",
    "    print(\"Saigon ist im Dicionary enthalten\")"
   ]
  },
  {
   "cell_type": "code",
   "execution_count": 29,
   "metadata": {},
   "outputs": [
    {
     "name": "stdout",
     "output_type": "stream",
     "text": [
      "Barnaby ist nicht dabei.\n"
     ]
    }
   ],
   "source": [
    "if \"Barnaby\" in d_c:\n",
    "    print(\"Barnaby ist im Dictionary.\")\n",
    "else:\n",
    "    print(\"Barnaby ist nicht dabei.\")"
   ]
  },
  {
   "cell_type": "markdown",
   "metadata": {},
   "source": [
    "## Auf Elemente zugreifen..."
   ]
  },
  {
   "cell_type": "code",
   "execution_count": 16,
   "metadata": {},
   "outputs": [
    {
     "name": "stdout",
     "output_type": "stream",
     "text": [
      "SGN\n",
      "SGN\n"
     ]
    }
   ],
   "source": [
    "print(d[\"Saigon\"])\n",
    "print(d.get(\"Saigon\"))"
   ]
  },
  {
   "cell_type": "code",
   "execution_count": 31,
   "metadata": {},
   "outputs": [
    {
     "name": "stdout",
     "output_type": "stream",
     "text": [
      "w\n"
     ]
    }
   ],
   "source": [
    "print(d_c[\"Lea\"])"
   ]
  },
  {
   "cell_type": "markdown",
   "metadata": {},
   "source": [
    "Warum sollte man get nutzen? Man kann doch auch einfach so drauf zugraifen? Die Lösung ist einfach aber sehr praktisch. Fehlertoleranz."
   ]
  },
  {
   "cell_type": "code",
   "execution_count": 35,
   "metadata": {},
   "outputs": [],
   "source": [
    "del d[\"Budapest\"]"
   ]
  },
  {
   "cell_type": "code",
   "execution_count": 36,
   "metadata": {},
   "outputs": [
    {
     "ename": "KeyError",
     "evalue": "'Budapest'",
     "output_type": "error",
     "traceback": [
      "\u001b[0;31m---------------------------------------------------------------------------\u001b[0m",
      "\u001b[0;31mKeyError\u001b[0m                                  Traceback (most recent call last)",
      "\u001b[0;32m<ipython-input-36-a5640edcb8ab>\u001b[0m in \u001b[0;36m<module>\u001b[0;34m()\u001b[0m\n\u001b[0;32m----> 1\u001b[0;31m \u001b[0mprint\u001b[0m\u001b[0;34m(\u001b[0m\u001b[0md\u001b[0m\u001b[0;34m[\u001b[0m\u001b[0;34m\"Budapest\"\u001b[0m\u001b[0;34m]\u001b[0m\u001b[0;34m)\u001b[0m\u001b[0;34m\u001b[0m\u001b[0m\n\u001b[0m",
      "\u001b[0;31mKeyError\u001b[0m: 'Budapest'"
     ]
    }
   ],
   "source": [
    "print(d[\"Budapest\"])"
   ]
  },
  {
   "cell_type": "code",
   "execution_count": 37,
   "metadata": {
    "scrolled": true
   },
   "outputs": [
    {
     "name": "stdout",
     "output_type": "stream",
     "text": [
      "None\n"
     ]
    }
   ],
   "source": [
    "print(d.get(\"Budapest\"))"
   ]
  },
  {
   "cell_type": "markdown",
   "metadata": {},
   "source": [
    "## Dictionaries und Schleifen\n",
    "\n",
    "Du hast bei Dictionaries 2 Möglichkeiten, diese mit einer for - Schleife durchzugehen.\n",
    "\n",
    "Entweder direkt, dann gehst du die Schlüssel durch:"
   ]
  },
  {
   "cell_type": "code",
   "execution_count": 38,
   "metadata": {},
   "outputs": [
    {
     "name": "stdout",
     "output_type": "stream",
     "text": [
      "München\n",
      "MUC\n",
      "Budapest\n",
      "BUD\n",
      "Helsinki\n",
      "HEL\n"
     ]
    }
   ],
   "source": [
    "d = {\"München\": \"MUC\", \"Budapest\": \"BUD\", \"Helsinki\": \"HEL\"}\n",
    "\n",
    "for key in d: \n",
    "    value = d[key]\n",
    "    print(key)\n",
    "    print(value)"
   ]
  },
  {
   "cell_type": "markdown",
   "metadata": {},
   "source": [
    "Oder über die .items() - Methode, damit kannst du Schlüssel + Wert direkt durchgehen:"
   ]
  },
  {
   "cell_type": "code",
   "execution_count": 39,
   "metadata": {
    "scrolled": true
   },
   "outputs": [
    {
     "name": "stdout",
     "output_type": "stream",
     "text": [
      "München: MUC\n",
      "Budapest: BUD\n",
      "Helsinki: HEL\n"
     ]
    }
   ],
   "source": [
    "for key, value in d.items():\n",
    "    print(key + \": \" + value)"
   ]
  },
  {
   "cell_type": "markdown",
   "metadata": {},
   "source": [
    "## Übung \n",
    "Wie oft kommt jedes Wort in der liste vor?"
   ]
  },
  {
   "cell_type": "code",
   "execution_count": 41,
   "metadata": {},
   "outputs": [],
   "source": [
    "liste = [\"Hallo\", \"Hallo\", \"Welt\", \"Hallo\", \"Mars\"]\n",
    "\n",
    "#d = {}\n",
    "#for element in liste:\n",
    "# dein code hier \n",
    "\n",
    "#print(d)"
   ]
  },
  {
   "cell_type": "code",
   "execution_count": 67,
   "metadata": {},
   "outputs": [
    {
     "name": "stdout",
     "output_type": "stream",
     "text": [
      "{'Hallo': 3, 'Welt': 1, 'Mars': 1}\n"
     ]
    }
   ],
   "source": [
    "#Lösung 1\n",
    "liste = [\"Hallo\", \"Hallo\", \"Welt\", \"Hallo\", \"Mars\"]\n",
    "d = {}\n",
    "for element in liste:\n",
    "  if element in d:\n",
    "    d[element] = d[element] + 1\n",
    "  else:\n",
    "    d[element] = 1\n",
    "print(d)   "
   ]
  },
  {
   "cell_type": "code",
   "execution_count": 68,
   "metadata": {},
   "outputs": [
    {
     "name": "stdout",
     "output_type": "stream",
     "text": [
      "{'Hallo': 3, 'Welt': 1, 'Mars': 1}\n"
     ]
    }
   ],
   "source": [
    "#Lösung 2\n",
    "\n",
    "liste = [\"Hallo\", \"Hallo\", \"Welt\", \"Hallo\", \"Mars\"]\n",
    "d = {}\n",
    "for element in liste:\n",
    "    if element in d:\n",
    "        d[element] = d[element] + 1\n",
    "    else:\n",
    "        d[element] = 1\n",
    "print(d)"
   ]
  },
  {
   "cell_type": "markdown",
   "metadata": {},
   "source": [
    "## Übung Hardcore"
   ]
  },
  {
   "cell_type": "markdown",
   "metadata": {},
   "source": [
    "Für diejenigen die eine Herausforderung suchen, gibts hier auch einen echten datensatz. http://p3.snf.ch/Pages/DataAndDocumentation.aspx"
   ]
  },
  {
   "cell_type": "code",
   "execution_count": 61,
   "metadata": {},
   "outputs": [],
   "source": [
    "import requests\n",
    "import csv\n",
    "data = requests.get(\"http://p3.snf.ch/P3Export/P3_PersonExport.csv\").text.splitlines()\n",
    "personen = csv.DictReader(data,delimiter=';')"
   ]
  },
  {
   "cell_type": "markdown",
   "metadata": {},
   "source": [
    "### So sieht ein Datensatz aus:"
   ]
  },
  {
   "cell_type": "code",
   "execution_count": 69,
   "metadata": {},
   "outputs": [
    {
     "data": {
      "text/plain": [
       "OrderedDict([('Last Name', 'Auderset'),\n",
       "             ('First Name', 'Dominique'),\n",
       "             ('Gender', 'female'),\n",
       "             ('Institute Name',\n",
       "              \"Lab. d'Ecologie et de Biologie Aquatique Institut des Sciences de l'Environnement Université de Genève\"),\n",
       "             ('Institute Place', 'Carouge'),\n",
       "             ('Person ID SNSF', '8406'),\n",
       "             ('ORCID', ''),\n",
       "             ('Projects as responsible Applicant', ''),\n",
       "             ('Projects as Applicant', '8521'),\n",
       "             ('Projects as Partner', ''),\n",
       "             ('Projects as Practice Partner', ''),\n",
       "             ('Projects as Employee', '8521'),\n",
       "             ('Projects as Contact Person', '')])"
      ]
     },
     "execution_count": 69,
     "metadata": {},
     "output_type": "execute_result"
    }
   ],
   "source": [
    "next(personen)"
   ]
  },
  {
   "cell_type": "markdown",
   "metadata": {},
   "source": [
    "Welche Institute hatten die meisten beiteiligten Personen?"
   ]
  },
  {
   "cell_type": "code",
   "execution_count": 3,
   "metadata": {},
   "outputs": [],
   "source": [
    "# institutes = {}\n",
    "# for row in personen:\n",
    "# dein code hier"
   ]
  }
 ],
 "metadata": {
  "kernelspec": {
   "display_name": "Python 3",
   "language": "python",
   "name": "python3"
  },
  "language_info": {
   "codemirror_mode": {
    "name": "ipython",
    "version": 3
   },
   "file_extension": ".py",
   "mimetype": "text/x-python",
   "name": "python",
   "nbconvert_exporter": "python",
   "pygments_lexer": "ipython3",
   "version": "3.7.0"
  }
 },
 "nbformat": 4,
 "nbformat_minor": 2
}
