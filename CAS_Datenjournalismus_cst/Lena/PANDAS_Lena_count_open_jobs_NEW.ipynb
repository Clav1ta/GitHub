{
 "cells": [
  {
   "cell_type": "markdown",
   "metadata": {},
   "source": [
    "# Visualisierung: Offene Lehrstellen LENA"
   ]
  },
  {
   "cell_type": "markdown",
   "metadata": {},
   "source": [
    "## Libraries importieren"
   ]
  },
  {
   "cell_type": "code",
   "execution_count": 1,
   "metadata": {},
   "outputs": [],
   "source": [
    "import pandas as pd"
   ]
  },
  {
   "cell_type": "markdown",
   "metadata": {},
   "source": [
    "## Daten einlesen\n",
    "\n",
    "Die Daten sind als csv-Daten im gleichen Ordner abgelegt, versehen mit dem Datum wann die Seite gescrapt wurde."
   ]
  },
  {
   "cell_type": "code",
   "execution_count": 2,
   "metadata": {},
   "outputs": [],
   "source": [
    "path = \"anzahl_jobs_04-11-2018_NEU.csv\"\n",
    "\n",
    "with open(path) as f:\n",
    "    dateiinhalt = f.read()"
   ]
  },
  {
   "cell_type": "code",
   "execution_count": 3,
   "metadata": {},
   "outputs": [],
   "source": [
    "df = pd.read_csv(path)"
   ]
  },
  {
   "cell_type": "code",
   "execution_count": 4,
   "metadata": {},
   "outputs": [
    {
     "data": {
      "text/html": [
       "<div>\n",
       "<style scoped>\n",
       "    .dataframe tbody tr th:only-of-type {\n",
       "        vertical-align: middle;\n",
       "    }\n",
       "\n",
       "    .dataframe tbody tr th {\n",
       "        vertical-align: top;\n",
       "    }\n",
       "\n",
       "    .dataframe thead th {\n",
       "        text-align: right;\n",
       "    }\n",
       "</style>\n",
       "<table border=\"1\" class=\"dataframe\">\n",
       "  <thead>\n",
       "    <tr style=\"text-align: right;\">\n",
       "      <th></th>\n",
       "      <th>Beruf</th>\n",
       "      <th>Anzahl</th>\n",
       "    </tr>\n",
       "  </thead>\n",
       "  <tbody>\n",
       "    <tr>\n",
       "      <th>0</th>\n",
       "      <td>Abdichter/in EFZ</td>\n",
       "      <td>135</td>\n",
       "    </tr>\n",
       "    <tr>\n",
       "      <th>1</th>\n",
       "      <td>Abdichtungspraktiker/in EBA</td>\n",
       "      <td>44</td>\n",
       "    </tr>\n",
       "    <tr>\n",
       "      <th>2</th>\n",
       "      <td>Agrarpraktiker/in EBA</td>\n",
       "      <td>57</td>\n",
       "    </tr>\n",
       "  </tbody>\n",
       "</table>\n",
       "</div>"
      ],
      "text/plain": [
       "                         Beruf  Anzahl\n",
       "0             Abdichter/in EFZ     135\n",
       "1  Abdichtungspraktiker/in EBA      44\n",
       "2        Agrarpraktiker/in EBA      57"
      ]
     },
     "execution_count": 4,
     "metadata": {},
     "output_type": "execute_result"
    }
   ],
   "source": [
    "df.head(3)"
   ]
  },
  {
   "cell_type": "markdown",
   "metadata": {},
   "source": [
    "Spalten und Reihen sind vertauscht. Die csv-Datei muss transponiert und (ACHTUNG WICHTIG) **neu abgespeichert** werden."
   ]
  },
  {
   "cell_type": "code",
   "execution_count": 7,
   "metadata": {},
   "outputs": [
    {
     "data": {
      "text/plain": [
       "Beruf     object\n",
       "Anzahl     int64\n",
       "dtype: object"
      ]
     },
     "execution_count": 7,
     "metadata": {},
     "output_type": "execute_result"
    }
   ],
   "source": [
    "df.dtypes"
   ]
  },
  {
   "cell_type": "code",
   "execution_count": 10,
   "metadata": {},
   "outputs": [
    {
     "data": {
      "text/html": [
       "<div>\n",
       "<style scoped>\n",
       "    .dataframe tbody tr th:only-of-type {\n",
       "        vertical-align: middle;\n",
       "    }\n",
       "\n",
       "    .dataframe tbody tr th {\n",
       "        vertical-align: top;\n",
       "    }\n",
       "\n",
       "    .dataframe thead th {\n",
       "        text-align: right;\n",
       "    }\n",
       "</style>\n",
       "<table border=\"1\" class=\"dataframe\">\n",
       "  <thead>\n",
       "    <tr style=\"text-align: right;\">\n",
       "      <th></th>\n",
       "      <th>Anzahl</th>\n",
       "    </tr>\n",
       "  </thead>\n",
       "  <tbody>\n",
       "    <tr>\n",
       "      <th>count</th>\n",
       "      <td>241.000000</td>\n",
       "    </tr>\n",
       "    <tr>\n",
       "      <th>mean</th>\n",
       "      <td>167.261411</td>\n",
       "    </tr>\n",
       "    <tr>\n",
       "      <th>std</th>\n",
       "      <td>413.445273</td>\n",
       "    </tr>\n",
       "    <tr>\n",
       "      <th>min</th>\n",
       "      <td>0.000000</td>\n",
       "    </tr>\n",
       "    <tr>\n",
       "      <th>25%</th>\n",
       "      <td>10.000000</td>\n",
       "    </tr>\n",
       "    <tr>\n",
       "      <th>50%</th>\n",
       "      <td>40.000000</td>\n",
       "    </tr>\n",
       "    <tr>\n",
       "      <th>75%</th>\n",
       "      <td>125.000000</td>\n",
       "    </tr>\n",
       "    <tr>\n",
       "      <th>max</th>\n",
       "      <td>4622.000000</td>\n",
       "    </tr>\n",
       "  </tbody>\n",
       "</table>\n",
       "</div>"
      ],
      "text/plain": [
       "            Anzahl\n",
       "count   241.000000\n",
       "mean    167.261411\n",
       "std     413.445273\n",
       "min       0.000000\n",
       "25%      10.000000\n",
       "50%      40.000000\n",
       "75%     125.000000\n",
       "max    4622.000000"
      ]
     },
     "execution_count": 10,
     "metadata": {},
     "output_type": "execute_result"
    }
   ],
   "source": [
    "df.describe()"
   ]
  },
  {
   "cell_type": "markdown",
   "metadata": {},
   "source": [
    "**RESULTAT 1:** Im Lehrstellennachweis LENA gibt es **241** verschiedene Berufe."
   ]
  },
  {
   "cell_type": "code",
   "execution_count": 8,
   "metadata": {},
   "outputs": [
    {
     "data": {
      "text/plain": [
       "40310"
      ]
     },
     "execution_count": 8,
     "metadata": {},
     "output_type": "execute_result"
    }
   ],
   "source": [
    "df['Anzahl'].sum()"
   ]
  },
  {
   "cell_type": "markdown",
   "metadata": {},
   "source": [
    "**RESULTAT 2:** Im Lehrstellennachweis LENA gab es am 4.November 2018 **40310** offene Lehrstellen."
   ]
  },
  {
   "cell_type": "code",
   "execution_count": 14,
   "metadata": {},
   "outputs": [
    {
     "data": {
      "text/plain": [
       "Beruf\n",
       "Kaufmann/-frau EFZ, erw. Grundbildung                           4622\n",
       "Detailhandelsfachmann/-frau EFZ, Schwerpunkt Beratung           2116\n",
       "Fachmann/-frau Gesundheit EFZ                                   1903\n",
       "Elektroinstallateur/in EFZ                                      1534\n",
       "Detailhandelsfachmann/-frau EFZ, Schwerpunkt Bewirtschaftung    1463\n",
       "Koch/Köchin EFZ                                                 1142\n",
       "Logistiker/in EFZ                                               1102\n",
       "Polymechaniker/in EFZ                                           1084\n",
       "Detailhandelsassistent/in EBA                                    963\n",
       "Informatiker/in EFZ                                              836\n",
       "Fachmann/-frau Betreuung EFZ                                     787\n",
       "Coiffeur/-euse EFZ                                               775\n",
       "Montage-Elektriker/in EFZ                                        718\n",
       "Sanitärinstallateur/in EFZ                                       662\n",
       "Kaufmann/-frau EFZ, Basis-Grundbildung                           655\n",
       "Schreiner/in EFZ                                                 618\n",
       "Fachmann/-frau Betriebsunterhalt EFZ                             612\n",
       "Maurer/in EFZ                                                    608\n",
       "Automobil-Fachmann/-frau EFZ                                     607\n",
       "Gärtner/in EFZ                                                   587\n",
       "Name: Anzahl, dtype: int64"
      ]
     },
     "execution_count": 14,
     "metadata": {},
     "output_type": "execute_result"
    }
   ],
   "source": [
    "df.groupby('Beruf')['Anzahl'].mean().sort_values(ascending=False).head(20)"
   ]
  },
  {
   "cell_type": "markdown",
   "metadata": {},
   "source": [
    "**RESULTAT 3:** Aktuell hat es mit Abstand die meisten offenen Stellen im Bereich Kaufmänner/-frauen (kurz KV)."
   ]
  },
  {
   "cell_type": "code",
   "execution_count": 15,
   "metadata": {},
   "outputs": [
    {
     "data": {
      "text/plain": [
       "Beruf\n",
       "Keramiker/in EFZ                                           1\n",
       "Vergolder/in-Einrahmer/in EFZ                              1\n",
       "Polisseur/-euse EBA                                        1\n",
       "Gewebegestalter/in EFZ                                     1\n",
       "Korb- und Flechtwerkgestalter/in EFZ                       1\n",
       "Holzhandwerker/in EFZ                                      1\n",
       "Büchsenmacher/in EFZ                                       1\n",
       "Forstpraktiker/in EBA                                      1\n",
       "Formenpraktiker/in EBA                                     1\n",
       "Marmorist/in EFZ                                           1\n",
       "Bühnentänzer/in EFZ                                        0\n",
       "Gästeempfangsfachmann/-frau HGA EFZ (Kt. Verordnung VS)    0\n",
       "Geigenbauer/in EFZ                                         0\n",
       "Steinsetzer/in EBA                                         0\n",
       "Architekturmodellbauer/in EFZ                              0\n",
       "Theatermaler/in EFZ                                        0\n",
       "Messerschmied/in EFZ                                       0\n",
       "Küfer/in EFZ                                               0\n",
       "Edelstein-/Diamantenschleifer/in (EFZ, Kt. Regl. TI)       0\n",
       "Glasmaler/in EFZ                                           0\n",
       "Name: Anzahl, dtype: int64"
      ]
     },
     "execution_count": 15,
     "metadata": {},
     "output_type": "execute_result"
    }
   ],
   "source": [
    "df.groupby('Beruf')['Anzahl'].mean().sort_values(ascending=False).tail(20)"
   ]
  },
  {
   "cell_type": "markdown",
   "metadata": {},
   "source": [
    "**RESULTAT 4:** Es gibt Ausbildungen, davon wird keine einzige in der Schweiz aktuell angeboten: wie zB Steinsetzer, Glasmaler oder Küfer."
   ]
  },
  {
   "cell_type": "code",
   "execution_count": null,
   "metadata": {},
   "outputs": [],
   "source": []
  }
 ],
 "metadata": {
  "kernelspec": {
   "display_name": "Python 3",
   "language": "python",
   "name": "python3"
  },
  "language_info": {
   "codemirror_mode": {
    "name": "ipython",
    "version": 3
   },
   "file_extension": ".py",
   "mimetype": "text/x-python",
   "name": "python",
   "nbconvert_exporter": "python",
   "pygments_lexer": "ipython3",
   "version": "3.7.0"
  }
 },
 "nbformat": 4,
 "nbformat_minor": 2
}
