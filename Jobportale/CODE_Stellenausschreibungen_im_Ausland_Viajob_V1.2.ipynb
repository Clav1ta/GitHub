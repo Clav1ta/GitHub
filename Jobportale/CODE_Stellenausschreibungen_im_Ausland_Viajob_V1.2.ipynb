{
 "cells": [
  {
   "cell_type": "markdown",
   "metadata": {},
   "source": [
    "# Stellenausschreibung im Ausland (Viajob.ro)"
   ]
  },
  {
   "cell_type": "markdown",
   "metadata": {},
   "source": [
    "Der Bundesrat setzt die Masseneinwanderungsinitiative in Etappen um. Seit dem 1.Juni 2018 gilt in der Schweiz die Stellenmeldepflicht. Sie wird in einem ersten Schritt in denjenigen Berufsarten eingeführt, in denen die gesamtschweizerische Arbeitslosenquote 8 Prozent erreicht oder überschreitet. Per 1. Januar 2020 wird dieser Schwellenwert auf 5 Prozent gesenkt. Trotz dem Ja zur Masseneinwanderungsinitiative schreiben Schweizer Firmen Jobs in EU-Ländern aus, zum Teil zu Dumpinglöhnen. Auf dem rumänischen Portal Viajob wird etwa ein Veterinär in Zürich gesucht für einen Lohn von 4000 CHF pro Monat. Mich interessiert in welchen Ländern, auf welchen Protalen, werden welche Jobs in der Schweiz, von wem und zu welchem Lohn ausgeschrieben. \n",
    "\n",
    "Quelle: https://www.viajob.ro/   \n",
    "\n",
    "Ziel: Eine Tabelle mit allen Ausschreibungen für eine Stelle in der Schweiz. Zu jeder ausgeschriebenen Stelle soll der Beruf, Ort und Monatsgehalt angegeben werden. "
   ]
  },
  {
   "cell_type": "markdown",
   "metadata": {},
   "source": [
    "### Schritt 1: Import der Libraries"
   ]
  },
  {
   "cell_type": "code",
   "execution_count": 2,
   "metadata": {},
   "outputs": [],
   "source": [
    "import requests\n",
    "from bs4 import BeautifulSoup\n",
    "import pandas as pd"
   ]
  },
  {
   "cell_type": "markdown",
   "metadata": {},
   "source": [
    "### Schritt 2: Webseite analysieren"
   ]
  },
  {
   "cell_type": "markdown",
   "metadata": {},
   "source": [
    "Die Stellenangebote für die Schweiz erscheinen auf einer Unterseite. Schweiz auf rumänisch heisst \"Elvetia\". Alle gesuchten Informationen (Beruf, Ort, Gehalt) sind bereits dort verfügbar.  \n",
    "\n",
    "https://www.viajob.ro/munca-strainatate?tara=Elvetia  \n",
    "\n",
    "Zusätzliche Informationen gibt es pro Stellengesuch auf einer Unterwebseite. Die Url setzt sich in der Regel aus der Jobbezeichnung und Ort zusammen:\n",
    "\n",
    "https://www.viajob.ro/locuri-de-munca-operator-cnc-geneva.html"
   ]
  },
  {
   "cell_type": "code",
   "execution_count": 3,
   "metadata": {},
   "outputs": [],
   "source": [
    "url = 'https://www.viajob.ro/munca-strainatate?tara=Elvetia'\n",
    "content = requests.get(url).text \n",
    "soup = BeautifulSoup(content, 'html.parser')\n",
    "# soup"
   ]
  },
  {
   "cell_type": "code",
   "execution_count": 7,
   "metadata": {},
   "outputs": [
    {
     "data": {
      "text/plain": [
       "'operator cnc\\nGeneva'"
      ]
     },
     "execution_count": 7,
     "metadata": {},
     "output_type": "execute_result"
    }
   ],
   "source": [
    "# Ort und Beruf auslesen\n",
    "\n",
    "# 3 Varianten\n",
    "# location_job = soup.select('h2.h2blockhome')\n",
    "# location_job = soup.find_all('h2', class_='h2blockhome')\n",
    "location_job = soup.find_all('h2', {'class':'h2blockhome'})\n",
    "location_job[1]\n",
    "location_job[1].text"
   ]
  },
  {
   "cell_type": "markdown",
   "metadata": {},
   "source": [
    "**TIPP:** Webseite analysieren mit SelectorGadget. ACHTUNG funktioniert nur in Google Chrome!"
   ]
  },
  {
   "cell_type": "markdown",
   "metadata": {},
   "source": [
    "**FRAGE:** Gibt es eine Möglichkeiten bereits hier Beruf und Job hier zu trennen und als separate Listen auszulesen? **JA!** Beruf und Ort werden durch \\n voneinander getrennt und lässt sich dort splitten. Siehe unter Schritt 3 die verschiedenen Varianten wie das zB im For-Loop genutzt werden kann!"
   ]
  },
  {
   "cell_type": "code",
   "execution_count": 114,
   "metadata": {},
   "outputs": [
    {
     "data": {
      "text/plain": [
       "45"
      ]
     },
     "execution_count": 114,
     "metadata": {},
     "output_type": "execute_result"
    }
   ],
   "source": [
    "len(location_job)"
   ]
  },
  {
   "cell_type": "code",
   "execution_count": 9,
   "metadata": {},
   "outputs": [
    {
     "data": {
      "text/plain": [
       "'3900 CHF'"
      ]
     },
     "execution_count": 9,
     "metadata": {},
     "output_type": "execute_result"
    }
   ],
   "source": [
    "salery = soup.find_all('strong', {'class':'salarluna'})\n",
    "salery[1]\n",
    "salery[1].text"
   ]
  },
  {
   "cell_type": "code",
   "execution_count": 113,
   "metadata": {},
   "outputs": [
    {
     "data": {
      "text/plain": [
       "45"
      ]
     },
     "execution_count": 113,
     "metadata": {},
     "output_type": "execute_result"
    }
   ],
   "source": [
    "len(salery)"
   ]
  },
  {
   "cell_type": "code",
   "execution_count": 107,
   "metadata": {},
   "outputs": [
    {
     "data": {
      "text/plain": [
       "<div class=\"blockprincipal\">\n",
       "<img class=\"flag\" src=\"https://www.viajob.ro/wp-content/uploads/2015/09/Switzerland.png\"/><br/>\n",
       "<a href=\"https://www.viajob.ro/locuri-de-munca-menaj-geneva.html\" target=\"_blank\"><img alt=\"locuri de munca menaj Geneva\" class=\"blockdiv\" height=\"180px\" src=\"https://www.viajob.ro/wp-content/uploads/formidable/20/Locuri-de-munca-menaj-Geneva-250x173.jpg\"/></a><br/>\n",
       "<a href=\"https://www.viajob.ro/locuri-de-munca-menaj-geneva.html\" target=\"_blank\"></a></div>"
      ]
     },
     "execution_count": 107,
     "metadata": {},
     "output_type": "execute_result"
    }
   ],
   "source": [
    "# BESSER: den ganzen Block auslesen\n",
    "# ad = soup.select('div.blockprincipal')\n",
    "ad = soup.find_all('div', class_=\"blockprincipal\")\n",
    "ad[0]"
   ]
  },
  {
   "cell_type": "code",
   "execution_count": 109,
   "metadata": {},
   "outputs": [
    {
     "data": {
      "text/plain": [
       "'\\n\\n\\n'"
      ]
     },
     "execution_count": 109,
     "metadata": {},
     "output_type": "execute_result"
    }
   ],
   "source": [
    "ad[1]\n",
    "ad[1].text"
   ]
  },
  {
   "cell_type": "markdown",
   "metadata": {},
   "source": [
    "**ACHTUNG:** Es gibt ein Problem. In diesem Block sind die h2 und strong nicht enthalten.\n",
    "\n",
    "HTML-Code der ganzen Webseite https://www.viajob.ro/munca-strainatate?tara=Elvetia als txt-File den Output von soup abspeichern mittels Edit > Copy Cells > Copy Paste in html.txt\n",
    "\n",
    "**GRUND:** Infos im Block wird nachgeladen mit Java-Script. Deshalb erscheint der Block leer. Wenn man mit Beautifulsoup das holen will ist es leer. Auf die Spitze getrieben wird das zB von Facebook.\n",
    "\n",
    "**ABER** warum funktioniert es wenn ich eine Liste bauen für Ort, Beruf und Monatslohn? Könnte es zb oben auch mehrere blockprincipal-Blöcke geben? Analyse HTML-Code zeigt: die einzigen blockprincipal vorher sind im Stylguide drin."
   ]
  },
  {
   "cell_type": "code",
   "execution_count": 50,
   "metadata": {},
   "outputs": [],
   "source": [
    "# HTML-Code abspeichern\n",
    "\n",
    "html_code = content    # Variable content wurde ganz am Anfang definiert \n",
    " \n",
    "with open('html_code_viajob.txt', 'w') as file:   \n",
    "    file.write(html_code)    \n",
    "    file.close()"
   ]
  },
  {
   "cell_type": "code",
   "execution_count": null,
   "metadata": {},
   "outputs": [],
   "source": [
    "#Variante 2, um HTML abzuspeichern\n",
    "\n",
    "#with open(“output1.html”, “w”) as file:\n",
    "   #file.write(str(soup))"
   ]
  },
  {
   "cell_type": "markdown",
   "metadata": {},
   "source": [
    "### Schritt 3: For-Loop"
   ]
  },
  {
   "cell_type": "markdown",
   "metadata": {},
   "source": [
    "Es braucht einen Work around. Zum Glück sind alle Listen gleich lang, und die einzelnen Elemente korrepsondieren miteinander. Neue Liste bauen"
   ]
  },
  {
   "cell_type": "code",
   "execution_count": 37,
   "metadata": {},
   "outputs": [],
   "source": [
    "# VARIANTE 1\n",
    "\n",
    "lst = []\n",
    "for description,chf in zip(location_job,salery):\n",
    "    gesplittet = description.text.split('\\n')\n",
    "    mini_dict = {\"Beruf\": gesplittet[0],\n",
    "                'Ort':gesplittet[1],\n",
    "                 'Monatslohn':chf.text}\n",
    "    \n",
    "    lst.append(mini_dict)\n",
    "#lst"
   ]
  },
  {
   "cell_type": "code",
   "execution_count": 38,
   "metadata": {},
   "outputs": [],
   "source": [
    "# VARIANTE 2\n",
    "\n",
    "lst = []\n",
    "for description,chf in zip(location_job,salery):\n",
    "    beruf, ort  = description.text.split('\\n')\n",
    "    mini_dict = {\"Beruf\": beruf,\n",
    "                'Ort':ort,\n",
    "                 'Monatslohn':chf.text}\n",
    "    \n",
    "    lst.append(mini_dict)\n",
    "#lst"
   ]
  },
  {
   "cell_type": "code",
   "execution_count": 34,
   "metadata": {},
   "outputs": [
    {
     "data": {
      "text/html": [
       "<div>\n",
       "<style scoped>\n",
       "    .dataframe tbody tr th:only-of-type {\n",
       "        vertical-align: middle;\n",
       "    }\n",
       "\n",
       "    .dataframe tbody tr th {\n",
       "        vertical-align: top;\n",
       "    }\n",
       "\n",
       "    .dataframe thead th {\n",
       "        text-align: right;\n",
       "    }\n",
       "</style>\n",
       "<table border=\"1\" class=\"dataframe\">\n",
       "  <thead>\n",
       "    <tr style=\"text-align: right;\">\n",
       "      <th></th>\n",
       "      <th>job</th>\n",
       "      <th>loc</th>\n",
       "      <th>salary</th>\n",
       "    </tr>\n",
       "  </thead>\n",
       "  <tbody>\n",
       "    <tr>\n",
       "      <th>0</th>\n",
       "      <td>menaj</td>\n",
       "      <td>Geneva</td>\n",
       "      <td>3400 CHF</td>\n",
       "    </tr>\n",
       "    <tr>\n",
       "      <th>1</th>\n",
       "      <td>operator cnc</td>\n",
       "      <td>Geneva</td>\n",
       "      <td>3900 CHF</td>\n",
       "    </tr>\n",
       "    <tr>\n",
       "      <th>2</th>\n",
       "      <td>electrician intretinere</td>\n",
       "      <td>Geneva</td>\n",
       "      <td>3600 CHF</td>\n",
       "    </tr>\n",
       "    <tr>\n",
       "      <th>3</th>\n",
       "      <td>curatenie</td>\n",
       "      <td>Geneva</td>\n",
       "      <td>3400 CHF</td>\n",
       "    </tr>\n",
       "  </tbody>\n",
       "</table>\n",
       "</div>"
      ],
      "text/plain": [
       "                       job     loc    salary\n",
       "0                    menaj  Geneva  3400 CHF\n",
       "1             operator cnc  Geneva  3900 CHF\n",
       "2  electrician intretinere  Geneva  3600 CHF\n",
       "3                curatenie  Geneva  3400 CHF"
      ]
     },
     "execution_count": 34,
     "metadata": {},
     "output_type": "execute_result"
    }
   ],
   "source": [
    "# VARIANTE 3\n",
    "\n",
    "output = soup.find_all('h2', {'class':'h2blockhome'})\n",
    "output2 = soup.find_all('strong', {'class':'salarluna'})\n",
    "\n",
    "job = [item.text.split('\\n')[0] for item in output]\n",
    "location = [item.text.split('\\n')[1] for item in output]\n",
    "salary = [item.text for item in output2]\n",
    "\n",
    "data = list(zip(job, location,salary))\n",
    "df = pd.DataFrame.from_records(data,columns=[\"job\",\"loc\",\"salary\"])\n",
    "df.head(4)"
   ]
  },
  {
   "cell_type": "markdown",
   "metadata": {},
   "source": [
    "### Schritt 4: Daten mit Pandas analysieren"
   ]
  },
  {
   "cell_type": "code",
   "execution_count": 49,
   "metadata": {},
   "outputs": [],
   "source": [
    "df = pd.DataFrame(lst)\n",
    "df.to_csv('list_open_positions_viajob.csv')"
   ]
  },
  {
   "cell_type": "code",
   "execution_count": 48,
   "metadata": {},
   "outputs": [
    {
     "data": {
      "text/html": [
       "<div>\n",
       "<style scoped>\n",
       "    .dataframe tbody tr th:only-of-type {\n",
       "        vertical-align: middle;\n",
       "    }\n",
       "\n",
       "    .dataframe tbody tr th {\n",
       "        vertical-align: top;\n",
       "    }\n",
       "\n",
       "    .dataframe thead th {\n",
       "        text-align: right;\n",
       "    }\n",
       "</style>\n",
       "<table border=\"1\" class=\"dataframe\">\n",
       "  <thead>\n",
       "    <tr style=\"text-align: right;\">\n",
       "      <th></th>\n",
       "      <th>Beruf</th>\n",
       "      <th>Monatslohn</th>\n",
       "      <th>Ort</th>\n",
       "    </tr>\n",
       "  </thead>\n",
       "  <tbody>\n",
       "    <tr>\n",
       "      <th>0</th>\n",
       "      <td>menaj</td>\n",
       "      <td>3400 CHF</td>\n",
       "      <td>Geneva</td>\n",
       "    </tr>\n",
       "    <tr>\n",
       "      <th>1</th>\n",
       "      <td>operator cnc</td>\n",
       "      <td>3900 CHF</td>\n",
       "      <td>Geneva</td>\n",
       "    </tr>\n",
       "    <tr>\n",
       "      <th>2</th>\n",
       "      <td>electrician intretinere</td>\n",
       "      <td>3600 CHF</td>\n",
       "      <td>Geneva</td>\n",
       "    </tr>\n",
       "  </tbody>\n",
       "</table>\n",
       "</div>"
      ],
      "text/plain": [
       "                     Beruf Monatslohn     Ort\n",
       "0                    menaj   3400 CHF  Geneva\n",
       "1             operator cnc   3900 CHF  Geneva\n",
       "2  electrician intretinere   3600 CHF  Geneva"
      ]
     },
     "execution_count": 48,
     "metadata": {},
     "output_type": "execute_result"
    }
   ],
   "source": [
    "df.head(3)"
   ]
  },
  {
   "cell_type": "code",
   "execution_count": null,
   "metadata": {},
   "outputs": [],
   "source": []
  }
 ],
 "metadata": {
  "kernelspec": {
   "display_name": "Python 3",
   "language": "python",
   "name": "python3"
  },
  "language_info": {
   "codemirror_mode": {
    "name": "ipython",
    "version": 3
   },
   "file_extension": ".py",
   "mimetype": "text/x-python",
   "name": "python",
   "nbconvert_exporter": "python",
   "pygments_lexer": "ipython3",
   "version": "3.7.0"
  }
 },
 "nbformat": 4,
 "nbformat_minor": 2
}
