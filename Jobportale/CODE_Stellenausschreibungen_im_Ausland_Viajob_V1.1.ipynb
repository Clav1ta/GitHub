{
 "cells": [
  {
   "cell_type": "markdown",
   "metadata": {},
   "source": [
    "# Stellenausschreibung im Ausland (Viajob.ro)"
   ]
  },
  {
   "cell_type": "markdown",
   "metadata": {},
   "source": [
    "Der Bundesrat setzt die Masseneinwanderungsinitiative in Etappen um. Seit dem 1.Juni 2018 gilt in der Schweiz die Stellenmeldepflicht. Sie wird in einem ersten Schritt in denjenigen Berufsarten eingeführt, in denen die gesamtschweizerische Arbeitslosenquote 8 Prozent erreicht oder überschreitet. Per 1. Januar 2020 wird dieser Schwellenwert auf 5 Prozent gesenkt. Trotz dem Ja zur Masseneinwanderungsinitiative schreiben Schweizer Firmen Jobs in EU-Ländern aus, zum Teil zu Dumpinglöhnen. Auf dem rumänischen Portal Viajob wird etwa ein Veterinär in Zürich gesucht für einen Lohn von 4000 CHF pro Monat. Mich interessiert in welchen Ländern, auf welchen Protalen, werden welche Jobs in der Schweiz, von wem und zu welchem Lohn ausgeschrieben. \n",
    "\n",
    "Quelle: https://www.viajob.ro/   \n",
    "\n",
    "Ziel: Eine Tabelle mit allen Ausschreibungen für eine Stelle in der Schweiz. Zu jeder ausgeschriebenen Stelle soll der Beruf, Ort und Monatsgehalt angegeben werden. "
   ]
  },
  {
   "cell_type": "markdown",
   "metadata": {},
   "source": [
    "### Schritt 1: Import der Libraries"
   ]
  },
  {
   "cell_type": "code",
   "execution_count": 92,
   "metadata": {},
   "outputs": [],
   "source": [
    "import requests\n",
    "from bs4 import BeautifulSoup\n",
    "import pandas as pd"
   ]
  },
  {
   "cell_type": "markdown",
   "metadata": {},
   "source": [
    "### Schritt 2: Webseite analysieren"
   ]
  },
  {
   "cell_type": "markdown",
   "metadata": {},
   "source": [
    "Die Stellenangebote für die Schweiz erscheinen auf einer Unterseite. Schweiz auf rumänisch heisst \"Elvetia\". Alle gesuchten Informationen (Beruf, Ort, Gehalt) sind bereits dort verfügbar.  \n",
    "\n",
    "https://www.viajob.ro/munca-strainatate?tara=Elvetia  \n",
    "\n",
    "Zusätzliche Informationen gibt es pro Stellengesuch auf einer Unterwebseite. Die Url setzt sich in der Regel aus der Jobbezeichnung und Ort zusammen:\n",
    "\n",
    "https://www.viajob.ro/locuri-de-munca-operator-cnc-geneva.html"
   ]
  },
  {
   "cell_type": "code",
   "execution_count": 93,
   "metadata": {},
   "outputs": [],
   "source": [
    "url = 'https://www.viajob.ro/munca-strainatate?tara=Elvetia'\n",
    "content = requests.get(url).text \n",
    "soup = BeautifulSoup(content, 'html.parser')\n",
    "# soup"
   ]
  },
  {
   "cell_type": "code",
   "execution_count": 98,
   "metadata": {},
   "outputs": [
    {
     "data": {
      "text/plain": [
       "'operator cnc\\nGeneva'"
      ]
     },
     "execution_count": 98,
     "metadata": {},
     "output_type": "execute_result"
    }
   ],
   "source": [
    "# Ort und Beruf auslesen\n",
    "\n",
    "# 3 Varianten\n",
    "# location_job = soup.select('h2.h2blockhome')\n",
    "# location_job = soup.find_all('h2', class_='h2blockhome')\n",
    "location_job = soup.find_all('h2', {'class':'h2blockhome'})\n",
    "location_job[1]\n",
    "location_job[1].text"
   ]
  },
  {
   "cell_type": "markdown",
   "metadata": {},
   "source": [
    "**TIPP:** Webseite analysieren mit SelectorGadget. ACHTUNG funktioniert nur in Google Chrome!"
   ]
  },
  {
   "cell_type": "markdown",
   "metadata": {},
   "source": [
    "**FRAGE:** Gibt es eine Möglichkeiten bereits hier location und job zu trennen und als separate Listen auszulesen?"
   ]
  },
  {
   "cell_type": "code",
   "execution_count": 114,
   "metadata": {},
   "outputs": [
    {
     "data": {
      "text/plain": [
       "45"
      ]
     },
     "execution_count": 114,
     "metadata": {},
     "output_type": "execute_result"
    }
   ],
   "source": [
    "len(location_job)"
   ]
  },
  {
   "cell_type": "code",
   "execution_count": 112,
   "metadata": {},
   "outputs": [
    {
     "data": {
      "text/plain": [
       "'3900 CHF'"
      ]
     },
     "execution_count": 112,
     "metadata": {},
     "output_type": "execute_result"
    }
   ],
   "source": [
    "salery = soup.find_all('strong', {'class':'salarluna'})\n",
    "salery[1]\n",
    "salery[1].text"
   ]
  },
  {
   "cell_type": "code",
   "execution_count": 113,
   "metadata": {},
   "outputs": [
    {
     "data": {
      "text/plain": [
       "45"
      ]
     },
     "execution_count": 113,
     "metadata": {},
     "output_type": "execute_result"
    }
   ],
   "source": [
    "len(salery)"
   ]
  },
  {
   "cell_type": "code",
   "execution_count": 107,
   "metadata": {},
   "outputs": [
    {
     "data": {
      "text/plain": [
       "<div class=\"blockprincipal\">\n",
       "<img class=\"flag\" src=\"https://www.viajob.ro/wp-content/uploads/2015/09/Switzerland.png\"/><br/>\n",
       "<a href=\"https://www.viajob.ro/locuri-de-munca-menaj-geneva.html\" target=\"_blank\"><img alt=\"locuri de munca menaj Geneva\" class=\"blockdiv\" height=\"180px\" src=\"https://www.viajob.ro/wp-content/uploads/formidable/20/Locuri-de-munca-menaj-Geneva-250x173.jpg\"/></a><br/>\n",
       "<a href=\"https://www.viajob.ro/locuri-de-munca-menaj-geneva.html\" target=\"_blank\"></a></div>"
      ]
     },
     "execution_count": 107,
     "metadata": {},
     "output_type": "execute_result"
    }
   ],
   "source": [
    "# BESSER: den ganzen Block auslesen\n",
    "# ad = soup.select('div.blockprincipal')\n",
    "ad = soup.find_all('div', class_=\"blockprincipal\")\n",
    "ad[0]"
   ]
  },
  {
   "cell_type": "code",
   "execution_count": 109,
   "metadata": {},
   "outputs": [
    {
     "data": {
      "text/plain": [
       "'\\n\\n\\n'"
      ]
     },
     "execution_count": 109,
     "metadata": {},
     "output_type": "execute_result"
    }
   ],
   "source": [
    "ad[1]\n",
    "ad[1].text"
   ]
  },
  {
   "cell_type": "markdown",
   "metadata": {},
   "source": [
    "**ACHTUNG:** Es gibt ein Problem. In diesem Block sind die h2 und strong nicht enthalten.\n",
    "\n",
    "HTML-Code der ganzen Webseite https://www.viajob.ro/munca-strainatate?tara=Elvetia als txt-File den Output von soup abspeichern mittels Edit > Copy Cells > Copy Paste in html.txt"
   ]
  },
  {
   "cell_type": "markdown",
   "metadata": {},
   "source": [
    "**Wie funktionert es mit Barnabys Vorschlag?**\n",
    "\n",
    "deineinhalte = \"Das ist ein Supertext.\"    \n",
    "with open('file.txt', 'w') as file:   \n",
    "    file.write(deineinhalte)    \n",
    "    file.close()  "
   ]
  },
  {
   "cell_type": "markdown",
   "metadata": {},
   "source": [
    "**Im HTML-Code könnte es einen Fehler haben: ein p wird nicht geschlossen mit /p . Das könnte Absicht sein oder ein Code-Fehler. Das Problem: Der Inspector korrigiert solche Fehler.**"
   ]
  },
  {
   "cell_type": "markdown",
   "metadata": {},
   "source": [
    "### Schritt 3: For-Loop"
   ]
  },
  {
   "cell_type": "code",
   "execution_count": 140,
   "metadata": {},
   "outputs": [],
   "source": [
    "# Es braucht einen Work around. \n",
    "# Zum Glück sind alle Listen gleich lang, und die einzelnen Elemente korrepsondieren miteinander\n",
    "# Neue Liste bauen\n",
    "\n",
    "lst = []\n",
    "for description,chf in zip(location_job,salery):\n",
    "    \n",
    "    mini_dict = {'Beruf_Ort':description.text.replace('\\n',' '),\n",
    "                 'Monatslohn':chf.text}\n",
    "    \n",
    "    lst.append(mini_dict)\n",
    "      "
   ]
  },
  {
   "cell_type": "code",
   "execution_count": 141,
   "metadata": {},
   "outputs": [
    {
     "data": {
      "text/plain": [
       "[{'Beruf_Ort': 'menaj Geneva', 'Monatslohn': '3400 CHF'},\n",
       " {'Beruf_Ort': 'operator cnc Geneva', 'Monatslohn': '3900 CHF'},\n",
       " {'Beruf_Ort': 'electrician intretinere Geneva', 'Monatslohn': '3600 CHF'},\n",
       " {'Beruf_Ort': 'curatenie Geneva', 'Monatslohn': '3400 CHF'},\n",
       " {'Beruf_Ort': 'ingrijire batrani Zurich', 'Monatslohn': '4000 CHF'},\n",
       " {'Beruf_Ort': 'hotel Zurich', 'Monatslohn': '3500 CHF'},\n",
       " {'Beruf_Ort': 'asistent medical Zurich', 'Monatslohn': '3800 CHF'},\n",
       " {'Beruf_Ort': 'asistent medical generalist Lausanne',\n",
       "  'Monatslohn': '3800 CHF'},\n",
       " {'Beruf_Ort': 'ingrijire batrani Basel', 'Monatslohn': '4000 CHF'},\n",
       " {'Beruf_Ort': 'casier Zurich', 'Monatslohn': '3500 CHF'},\n",
       " {'Beruf_Ort': 'tehnician service auto Geneva', 'Monatslohn': '3500 CHF'},\n",
       " {'Beruf_Ort': 'sudori Zurich', 'Monatslohn': '3500 CHF'},\n",
       " {'Beruf_Ort': 'mecanic auto Zurich', 'Monatslohn': '3500 CHF'},\n",
       " {'Beruf_Ort': 'tinichigiu auto Zurich', 'Monatslohn': '3500 CHF'},\n",
       " {'Beruf_Ort': 'lucrator comercial Zurich', 'Monatslohn': '3750 CHF'},\n",
       " {'Beruf_Ort': 'manipulant marfa Berna', 'Monatslohn': '3600 CHF'},\n",
       " {'Beruf_Ort': 'infirmiera Zurich', 'Monatslohn': '3600 CHF'},\n",
       " {'Beruf_Ort': 'montator tamplarie PVC Zurich', 'Monatslohn': '3750 CHF'},\n",
       " {'Beruf_Ort': 'tamplar PVC Zurich', 'Monatslohn': '3750 CHF'},\n",
       " {'Beruf_Ort': 'menajera Zurich', 'Monatslohn': '3400 CHF'},\n",
       " {'Beruf_Ort': 'lucratori padure Berna', 'Monatslohn': '3800 CHF'},\n",
       " {'Beruf_Ort': 'mobila Berna', 'Monatslohn': '3600 CHF'},\n",
       " {'Beruf_Ort': 'agent de paza Geneva', 'Monatslohn': '3500 CHF'},\n",
       " {'Beruf_Ort': 'agent paza Zurich', 'Monatslohn': '3500 CHF'},\n",
       " {'Beruf_Ort': 'curier Zurich', 'Monatslohn': '3700 CHF'},\n",
       " {'Beruf_Ort': 'sofer cat b Zurich', 'Monatslohn': '3750 CHF'},\n",
       " {'Beruf_Ort': 'medic veterinar Zurich', 'Monatslohn': '4000 CHF'},\n",
       " {'Beruf_Ort': 'agricultura Zurich', 'Monatslohn': '3500 CHF'},\n",
       " {'Beruf_Ort': 'ferme Zurich', 'Monatslohn': '3500 CHF'},\n",
       " {'Beruf_Ort': 'agricultura Geneva', 'Monatslohn': '3600 CHF'},\n",
       " {'Beruf_Ort': 'ferme Geneva', 'Monatslohn': '3500 CHF'},\n",
       " {'Beruf_Ort': 'sofer profesionist Basel', 'Monatslohn': '4100 CHF'},\n",
       " {'Beruf_Ort': 'electrician Zurich', 'Monatslohn': '3500 CHF'},\n",
       " {'Beruf_Ort': 'sofer TIR Geneva', 'Monatslohn': '4130 CHF'},\n",
       " {'Beruf_Ort': 'sofer TIR Zurich', 'Monatslohn': '4150 CHF'},\n",
       " {'Beruf_Ort': 'babysitter Geneva', 'Monatslohn': '3650 CHF'},\n",
       " {'Beruf_Ort': 'bona Zurich', 'Monatslohn': '3700 CHF'},\n",
       " {'Beruf_Ort': 'constructii Geneva', 'Monatslohn': '3500 CHF'},\n",
       " {'Beruf_Ort': 'babysitter Lausanne', 'Monatslohn': '3710 CHF'},\n",
       " {'Beruf_Ort': 'lucrator comercial Geneva', 'Monatslohn': '3750 CHF'},\n",
       " {'Beruf_Ort': 'operator aprovizionare Zurich', 'Monatslohn': '3820 CHF'},\n",
       " {'Beruf_Ort': 'lucrator depozit Zurich', 'Monatslohn': '3750 CHF'},\n",
       " {'Beruf_Ort': 'lucrator depozit Geneva', 'Monatslohn': '3650 CHF'},\n",
       " {'Beruf_Ort': 'operator aprovizionare Geneva', 'Monatslohn': '3750 CHF'},\n",
       " {'Beruf_Ort': 'constructii Zurich', 'Monatslohn': '3600 CHF'}]"
      ]
     },
     "execution_count": 141,
     "metadata": {},
     "output_type": "execute_result"
    }
   ],
   "source": [
    "lst"
   ]
  },
  {
   "cell_type": "markdown",
   "metadata": {},
   "source": [
    "### Schritt 4: Daten mit Pandas säubern"
   ]
  },
  {
   "cell_type": "code",
   "execution_count": 142,
   "metadata": {},
   "outputs": [
    {
     "data": {
      "text/html": [
       "<div>\n",
       "<style scoped>\n",
       "    .dataframe tbody tr th:only-of-type {\n",
       "        vertical-align: middle;\n",
       "    }\n",
       "\n",
       "    .dataframe tbody tr th {\n",
       "        vertical-align: top;\n",
       "    }\n",
       "\n",
       "    .dataframe thead th {\n",
       "        text-align: right;\n",
       "    }\n",
       "</style>\n",
       "<table border=\"1\" class=\"dataframe\">\n",
       "  <thead>\n",
       "    <tr style=\"text-align: right;\">\n",
       "      <th></th>\n",
       "      <th>Beruf_Ort</th>\n",
       "      <th>Monatslohn</th>\n",
       "    </tr>\n",
       "  </thead>\n",
       "  <tbody>\n",
       "    <tr>\n",
       "      <th>0</th>\n",
       "      <td>menaj Geneva</td>\n",
       "      <td>3400 CHF</td>\n",
       "    </tr>\n",
       "    <tr>\n",
       "      <th>1</th>\n",
       "      <td>operator cnc Geneva</td>\n",
       "      <td>3900 CHF</td>\n",
       "    </tr>\n",
       "    <tr>\n",
       "      <th>2</th>\n",
       "      <td>electrician intretinere Geneva</td>\n",
       "      <td>3600 CHF</td>\n",
       "    </tr>\n",
       "  </tbody>\n",
       "</table>\n",
       "</div>"
      ],
      "text/plain": [
       "                        Beruf_Ort Monatslohn\n",
       "0                    menaj Geneva   3400 CHF\n",
       "1             operator cnc Geneva   3900 CHF\n",
       "2  electrician intretinere Geneva   3600 CHF"
      ]
     },
     "execution_count": 142,
     "metadata": {},
     "output_type": "execute_result"
    }
   ],
   "source": [
    "df=pd.DataFrame(lst).head(3)\n",
    "df"
   ]
  },
  {
   "cell_type": "code",
   "execution_count": 146,
   "metadata": {},
   "outputs": [
    {
     "ename": "ValueError",
     "evalue": "Columns must be same length as key",
     "output_type": "error",
     "traceback": [
      "\u001b[0;31m---------------------------------------------------------------------------\u001b[0m",
      "\u001b[0;31mValueError\u001b[0m                                Traceback (most recent call last)",
      "\u001b[0;32m<ipython-input-146-37c5402d5563>\u001b[0m in \u001b[0;36m<module>\u001b[0;34m()\u001b[0m\n\u001b[1;32m      1\u001b[0m \u001b[0;31m# Aus Beruf und Ort 2 Spalten machen\u001b[0m\u001b[0;34m\u001b[0m\u001b[0;34m\u001b[0m\u001b[0m\n\u001b[1;32m      2\u001b[0m \u001b[0;34m\u001b[0m\u001b[0m\n\u001b[0;32m----> 3\u001b[0;31m \u001b[0mdf\u001b[0m\u001b[0;34m[\u001b[0m\u001b[0;34m[\u001b[0m\u001b[0;34m'Beruf'\u001b[0m\u001b[0;34m,\u001b[0m \u001b[0;34m'Ort'\u001b[0m\u001b[0;34m]\u001b[0m\u001b[0;34m]\u001b[0m \u001b[0;34m=\u001b[0m \u001b[0mdf\u001b[0m\u001b[0;34m.\u001b[0m\u001b[0mBeruf_Ort\u001b[0m\u001b[0;34m.\u001b[0m\u001b[0mstr\u001b[0m\u001b[0;34m.\u001b[0m\u001b[0msplit\u001b[0m\u001b[0;34m(\u001b[0m\u001b[0;34m' '\u001b[0m\u001b[0;34m,\u001b[0m \u001b[0mexpand\u001b[0m \u001b[0;34m=\u001b[0m \u001b[0;32mTrue\u001b[0m\u001b[0;34m)\u001b[0m\u001b[0;34m\u001b[0m\u001b[0m\n\u001b[0m",
      "\u001b[0;32m~/.virtualenvs/Clava/lib/python3.7/site-packages/pandas/core/frame.py\u001b[0m in \u001b[0;36m__setitem__\u001b[0;34m(self, key, value)\u001b[0m\n\u001b[1;32m   3114\u001b[0m             \u001b[0mself\u001b[0m\u001b[0;34m.\u001b[0m\u001b[0m_setitem_frame\u001b[0m\u001b[0;34m(\u001b[0m\u001b[0mkey\u001b[0m\u001b[0;34m,\u001b[0m \u001b[0mvalue\u001b[0m\u001b[0;34m)\u001b[0m\u001b[0;34m\u001b[0m\u001b[0m\n\u001b[1;32m   3115\u001b[0m         \u001b[0;32melif\u001b[0m \u001b[0misinstance\u001b[0m\u001b[0;34m(\u001b[0m\u001b[0mkey\u001b[0m\u001b[0;34m,\u001b[0m \u001b[0;34m(\u001b[0m\u001b[0mSeries\u001b[0m\u001b[0;34m,\u001b[0m \u001b[0mnp\u001b[0m\u001b[0;34m.\u001b[0m\u001b[0mndarray\u001b[0m\u001b[0;34m,\u001b[0m \u001b[0mlist\u001b[0m\u001b[0;34m,\u001b[0m \u001b[0mIndex\u001b[0m\u001b[0;34m)\u001b[0m\u001b[0;34m)\u001b[0m\u001b[0;34m:\u001b[0m\u001b[0;34m\u001b[0m\u001b[0m\n\u001b[0;32m-> 3116\u001b[0;31m             \u001b[0mself\u001b[0m\u001b[0;34m.\u001b[0m\u001b[0m_setitem_array\u001b[0m\u001b[0;34m(\u001b[0m\u001b[0mkey\u001b[0m\u001b[0;34m,\u001b[0m \u001b[0mvalue\u001b[0m\u001b[0;34m)\u001b[0m\u001b[0;34m\u001b[0m\u001b[0m\n\u001b[0m\u001b[1;32m   3117\u001b[0m         \u001b[0;32melse\u001b[0m\u001b[0;34m:\u001b[0m\u001b[0;34m\u001b[0m\u001b[0m\n\u001b[1;32m   3118\u001b[0m             \u001b[0;31m# set column\u001b[0m\u001b[0;34m\u001b[0m\u001b[0;34m\u001b[0m\u001b[0m\n",
      "\u001b[0;32m~/.virtualenvs/Clava/lib/python3.7/site-packages/pandas/core/frame.py\u001b[0m in \u001b[0;36m_setitem_array\u001b[0;34m(self, key, value)\u001b[0m\n\u001b[1;32m   3136\u001b[0m             \u001b[0;32mif\u001b[0m \u001b[0misinstance\u001b[0m\u001b[0;34m(\u001b[0m\u001b[0mvalue\u001b[0m\u001b[0;34m,\u001b[0m \u001b[0mDataFrame\u001b[0m\u001b[0;34m)\u001b[0m\u001b[0;34m:\u001b[0m\u001b[0;34m\u001b[0m\u001b[0m\n\u001b[1;32m   3137\u001b[0m                 \u001b[0;32mif\u001b[0m \u001b[0mlen\u001b[0m\u001b[0;34m(\u001b[0m\u001b[0mvalue\u001b[0m\u001b[0;34m.\u001b[0m\u001b[0mcolumns\u001b[0m\u001b[0;34m)\u001b[0m \u001b[0;34m!=\u001b[0m \u001b[0mlen\u001b[0m\u001b[0;34m(\u001b[0m\u001b[0mkey\u001b[0m\u001b[0;34m)\u001b[0m\u001b[0;34m:\u001b[0m\u001b[0;34m\u001b[0m\u001b[0m\n\u001b[0;32m-> 3138\u001b[0;31m                     \u001b[0;32mraise\u001b[0m \u001b[0mValueError\u001b[0m\u001b[0;34m(\u001b[0m\u001b[0;34m'Columns must be same length as key'\u001b[0m\u001b[0;34m)\u001b[0m\u001b[0;34m\u001b[0m\u001b[0m\n\u001b[0m\u001b[1;32m   3139\u001b[0m                 \u001b[0;32mfor\u001b[0m \u001b[0mk1\u001b[0m\u001b[0;34m,\u001b[0m \u001b[0mk2\u001b[0m \u001b[0;32min\u001b[0m \u001b[0mzip\u001b[0m\u001b[0;34m(\u001b[0m\u001b[0mkey\u001b[0m\u001b[0;34m,\u001b[0m \u001b[0mvalue\u001b[0m\u001b[0;34m.\u001b[0m\u001b[0mcolumns\u001b[0m\u001b[0;34m)\u001b[0m\u001b[0;34m:\u001b[0m\u001b[0;34m\u001b[0m\u001b[0m\n\u001b[1;32m   3140\u001b[0m                     \u001b[0mself\u001b[0m\u001b[0;34m[\u001b[0m\u001b[0mk1\u001b[0m\u001b[0;34m]\u001b[0m \u001b[0;34m=\u001b[0m \u001b[0mvalue\u001b[0m\u001b[0;34m[\u001b[0m\u001b[0mk2\u001b[0m\u001b[0;34m]\u001b[0m\u001b[0;34m\u001b[0m\u001b[0m\n",
      "\u001b[0;31mValueError\u001b[0m: Columns must be same length as key"
     ]
    }
   ],
   "source": [
    "# Aus Beruf und Ort 2 Spalten machen\n",
    "\n",
    "df[['Beruf', 'Ort']] = df.Beruf_Ort.str.split(' ', expand = True)"
   ]
  },
  {
   "cell_type": "markdown",
   "metadata": {},
   "source": [
    "Funktioniert nicht. Grund \"Columns must be same length as key\": Die Daten enthalten zum Teil mehr als zwei Namen die durch einen Leerschlag getrennt sind."
   ]
  },
  {
   "cell_type": "code",
   "execution_count": null,
   "metadata": {},
   "outputs": [],
   "source": []
  }
 ],
 "metadata": {
  "kernelspec": {
   "display_name": "Python 3",
   "language": "python",
   "name": "python3"
  },
  "language_info": {
   "codemirror_mode": {
    "name": "ipython",
    "version": 3
   },
   "file_extension": ".py",
   "mimetype": "text/x-python",
   "name": "python",
   "nbconvert_exporter": "python",
   "pygments_lexer": "ipython3",
   "version": "3.7.0"
  }
 },
 "nbformat": 4,
 "nbformat_minor": 2
}
